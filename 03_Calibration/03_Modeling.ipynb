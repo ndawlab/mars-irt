{
 "cells": [
  {
   "cell_type": "code",
   "execution_count": 1,
   "id": "82f4016f-87bd-41dd-90eb-e92afe20fced",
   "metadata": {},
   "outputs": [],
   "source": [
    "import os\n",
    "import numpy as np\n",
    "from pandas import read_csv\n",
    "from arviz import hdi"
   ]
  },
  {
   "cell_type": "markdown",
   "id": "dcec38db-a532-4a6f-aa3b-b64522e11210",
   "metadata": {},
   "source": [
    "## Section 1: 1PL-G Models"
   ]
  },
  {
   "cell_type": "markdown",
   "id": "37d93689-ad90-47f9-8db8-28dcf07af6b0",
   "metadata": {
    "tags": []
   },
   "source": [
    "### 1.1 Model comparison"
   ]
  },
  {
   "cell_type": "code",
   "execution_count": 2,
   "id": "b5e172f1-9741-460a-9123-9d5f8d8ada41",
   "metadata": {},
   "outputs": [
    {
     "name": "stdout",
     "output_type": "stream",
     "text": [
      "1plg_m1: 27741.4 | 105.4\n",
      "1plg_m2: 26962.1 | 164.0\n",
      "1plg_m3: 26585.5 | 339.5\n"
     ]
    }
   ],
   "source": [
    "for i, m in enumerate(['1plg_m1','1plg_m2','1plg_m3']):\n",
    "    \n",
    "    ## Load ppc.\n",
    "    ppc = read_csv(os.path.join('stan_results', f'{m}_ppc.csv'))\n",
    "        \n",
    "    ## Model comparison.\n",
    "    loco = -2 * ppc.groupby('subject').loco.mean().sum()\n",
    "    pwaic_c = ppc.groupby('subject').pwaic_c.mean().sum()\n",
    "    \n",
    "    print('%s: %0.1f | %0.1f' %(m, loco, pwaic_c))"
   ]
  },
  {
   "cell_type": "code",
   "execution_count": 3,
   "id": "e1387114-760b-4392-b426-6918aaabdedb",
   "metadata": {},
   "outputs": [
    {
     "name": "stdout",
     "output_type": "stream",
     "text": [
      "1plg_m2 - 1plg_m1: -779.3 (51.4)\n",
      "1plg_m3 - 1plg_m1: -1155.8 (60.1)\n",
      "1plg_m3 - 1plg_m2: -376.5 (34.5)\n"
     ]
    }
   ],
   "source": [
    "from itertools import combinations\n",
    "\n",
    "for a, b in list(combinations(['1plg_m1','1plg_m2','1plg_m3'], 2)):\n",
    "    \n",
    "    ## Load data.\n",
    "    df1 = read_csv(os.path.join('stan_results', f'{a}_ppc.csv'))\n",
    "    df2 = read_csv(os.path.join('stan_results', f'{b}_ppc.csv'))\n",
    "    \n",
    "    arr = -2 * (df2.groupby('subject').loco.mean() - df1.groupby('subject').loco.mean())\n",
    "    \n",
    "    ## Compute stats.\n",
    "    N = df1.subject.nunique()\n",
    "    mu = np.sum(arr)\n",
    "    se = np.std(arr) * np.sqrt(N)\n",
    "    \n",
    "    print(f'{b} - {a}: %0.1f (%0.1f)' %(mu, se))"
   ]
  },
  {
   "cell_type": "markdown",
   "id": "fc10e2d7-1b34-4e8b-a411-eea581f7e434",
   "metadata": {},
   "source": [
    "### 1.2 Parameter distributions"
   ]
  },
  {
   "cell_type": "code",
   "execution_count": 4,
   "id": "889308e6-f595-4d20-9056-7fff56d349c9",
   "metadata": {},
   "outputs": [
    {
     "name": "stdout",
     "output_type": "stream",
     "text": [
      "beta (mean):\t0.177 [0.116, 0.236]\n",
      "beta (var):\t1.431 [1.368, 1.493]\n"
     ]
    }
   ],
   "source": [
    "## Load samples.\n",
    "samples = read_csv(os.path.join('stan_results', '1plg_m3.tsv.gz'), sep='\\t', compression='gzip')\n",
    "\n",
    "## Extract parameters.\n",
    "beta_mu   = samples.filter(regex='beta_mu\\[').values\n",
    "beta_1_pr = samples.filter(regex='beta_1_pr\\[').values\n",
    "beta      = samples.filter(regex='beta\\[').values\n",
    "sigma     = samples.filter(regex='sigma\\[').values\n",
    "\n",
    "## Item difficulty (mean).\n",
    "mu = beta.mean()\n",
    "lb, ub = hdi(beta.mean(axis=1), hdi_prob=0.95)\n",
    "print('beta (mean):\\t%0.3f [%0.3f, %0.3f]' %(mu, lb, ub))\n",
    "\n",
    "## Item difficulty (variance).\n",
    "mu = beta.std(axis=1).mean()\n",
    "lb, ub = hdi(beta.std(axis=1), hdi_prob=0.95)\n",
    "print('beta (var):\\t%0.3f [%0.3f, %0.3f]' %(mu, lb, ub))"
   ]
  },
  {
   "cell_type": "markdown",
   "id": "43546293-f0a5-4a99-aa27-d02885832481",
   "metadata": {},
   "source": [
    "### 1.3 Interpreting parameters"
   ]
  },
  {
   "cell_type": "code",
   "execution_count": 5,
   "id": "8b4d8f3a-fecd-4b29-ab27-0ce19b02211d",
   "metadata": {},
   "outputs": [
    {
     "name": "stdout",
     "output_type": "stream",
     "text": [
      "n_fea:\t0.132 [0.089, 0.176]\n",
      "n_rul:\t0.112 [0.079, 0.143]\n",
      "distr:\t0.252 [0.218, 0.287]\n",
      "rt:\t0.122 [0.093, 0.151]\n"
     ]
    }
   ],
   "source": [
    "## Define useful functions.\n",
    "def inv_logit(x):\n",
    "    return 1. / (1 + np.exp(-x))\n",
    "\n",
    "## Load design.\n",
    "X2 = read_csv(os.path.join('designs', 'X2.csv'))\n",
    "\n",
    "## Iterate over fixed effects.\n",
    "for i, col in enumerate(['n_features', 'n_rules', 'distractor', 'rt']):\n",
    "    \n",
    "    ## Compute regressor SD.\n",
    "    sd = X2[col].std()\n",
    "    \n",
    "    ## Compute change in response.\n",
    "    delta = inv_logit(beta_mu[:,0] + 0.5 * (beta_mu[:,i+1] / sd))  -\\\n",
    "            inv_logit(beta_mu[:,0] - 0.5 * (beta_mu[:,i+1] / sd))\n",
    "    \n",
    "    ## Compute summary stats.\n",
    "    mu = delta.mean()\n",
    "    lb, ub = hdi(delta, hdi_prob=0.95)\n",
    "    \n",
    "    ## Print.\n",
    "    print('%s:\\t%0.3f [%0.3f, %0.3f]' %(col[:5],mu,lb,ub))"
   ]
  },
  {
   "cell_type": "markdown",
   "id": "25ba7750-7afa-47c5-903a-58cb7447d5fe",
   "metadata": {},
   "source": [
    "### 1.4 Variance explained"
   ]
  },
  {
   "cell_type": "code",
   "execution_count": 6,
   "id": "a7be023f-149e-42ea-8cc0-5da6b7761781",
   "metadata": {},
   "outputs": [
    {
     "name": "stdout",
     "output_type": "stream",
     "text": [
      "total:\t0.641\n",
      "n_feat:\t0.166\n",
      "n_rule:\t0.209\n",
      "lvl-1:\t0.373\n"
     ]
    }
   ],
   "source": [
    "## Load and prepare design matrices.\n",
    "zscore = lambda x: (x - np.nanmean(x)) / np.nanstd(x)\n",
    "X2 = read_csv(os.path.join('designs', 'X2.csv')).apply(zscore, 0).fillna(1).values\n",
    "X3 = read_csv(os.path.join('designs', 'X3.csv')).values.astype(float)\n",
    "\n",
    "## Compute variance explained by fixed effects (total).\n",
    "beta_hat = X2 @ beta_mu.T\n",
    "error = beta.T - beta_hat\n",
    "r2 = np.var(beta_hat, axis=0).mean() / (np.var(beta_hat, axis=0).mean() + np.var(error, axis=0).mean())\n",
    "print('total:\\t%0.3f' %r2)\n",
    "\n",
    "for ix, label in zip([[0,2,3,4],[0,1,3,4],[0,3,4]], ['n_feat','n_rule','lvl-1']):\n",
    "    \n",
    "    ## Compute predicted / error terms.\n",
    "    beta_hat = X2[:,ix] @ beta_mu.T[ix]\n",
    "    error = beta.T - beta_hat\n",
    "    \n",
    "    ## Compute variance explained.\n",
    "    a = np.var(beta_hat, axis=0).mean()\n",
    "    b = np.var(error, axis=0).mean()\n",
    "    \n",
    "    r2p = a / (a + b)\n",
    "    print('%s:\\t%0.3f' %(label, r2-r2p))"
   ]
  },
  {
   "cell_type": "code",
   "execution_count": 7,
   "id": "8a8da1b7-6888-442d-ac5e-8db69308e316",
   "metadata": {},
   "outputs": [
    {
     "name": "stdout",
     "output_type": "stream",
     "text": [
      "lvl-1:\t0.661\n"
     ]
    }
   ],
   "source": [
    "## Compute level-1 coefficients.\n",
    "beta_0 = beta_mu[:,:3] @ X2.T[:3]\n",
    "beta_1 = beta_0 + beta_1_pr @ X3.T * np.atleast_2d(sigma[:,0]).T\n",
    "error = beta_1 - beta_0\n",
    "\n",
    "## Compute variance explained.\n",
    "a = np.var(beta_0, axis=1).mean()\n",
    "b = np.var(error, axis=1).mean()\n",
    "r2 = a / (a + b)\n",
    "\n",
    "print('lvl-1:\\t%0.3f' %r2)"
   ]
  },
  {
   "cell_type": "markdown",
   "id": "2654d597-de26-4fa1-b473-9316456d286e",
   "metadata": {},
   "source": [
    "## Section 2: 3PL Models"
   ]
  },
  {
   "cell_type": "markdown",
   "id": "0c6f1a9c-943a-461b-9f52-f6cd738a0c33",
   "metadata": {},
   "source": [
    "### 2.1 Model comparison"
   ]
  },
  {
   "cell_type": "code",
   "execution_count": 8,
   "id": "87036b8e-7f68-4a8a-a51f-fb13038d77fd",
   "metadata": {},
   "outputs": [
    {
     "name": "stdout",
     "output_type": "stream",
     "text": [
      "3pl_m1: 26419.6 | 385.47\n",
      "3pl_m2: 26414.5 | 408.13\n",
      "3pl_m3: 26417.8 | 428.17\n"
     ]
    }
   ],
   "source": [
    "for i, m in enumerate(['3pl_m1','3pl_m2','3pl_m3']):\n",
    "    \n",
    "    ## Load ppc.\n",
    "    ppc = read_csv(os.path.join('stan_results', f'{m}_ppc.csv'))\n",
    "        \n",
    "    ## Model comparison.\n",
    "    loco = -2 * ppc.groupby('subject').loco.mean().sum()\n",
    "    pwaic_c = ppc.groupby('subject').pwaic_c.mean().sum()\n",
    "    \n",
    "    print('%s: %0.1f | %0.2f' %(m, loco, pwaic_c))"
   ]
  },
  {
   "cell_type": "code",
   "execution_count": 9,
   "id": "cbff71aa-c119-41cc-9ebd-05529d82f4c1",
   "metadata": {},
   "outputs": [
    {
     "name": "stdout",
     "output_type": "stream",
     "text": [
      "1plg_m1 - 3pl_m2: 1326.87 (62.88)\n",
      "1plg_m2 - 3pl_m2: 547.56 (37.79)\n",
      "1plg_m3 - 3pl_m2: 171.05 (12.65)\n",
      "3pl_m1 - 3pl_m2: 5.12 (4.07)\n",
      "3pl_m3 - 3pl_m2: 3.29 (1.84)\n"
     ]
    }
   ],
   "source": [
    "from itertools import combinations\n",
    "\n",
    "for b in ['1plg_m1','1plg_m2','1plg_m3','3pl_m1','3pl_m3']:\n",
    "    \n",
    "    ## Load data.\n",
    "    df1 = read_csv(os.path.join('stan_results', f'3pl_m2_ppc.csv'))\n",
    "    df2 = read_csv(os.path.join('stan_results', f'{b}_ppc.csv'))\n",
    "    \n",
    "    arr = -2 * (df2.groupby('subject').loco.mean() - df1.groupby('subject').loco.mean())\n",
    "    \n",
    "    ## Compute stats.\n",
    "    N = df1.subject.nunique()\n",
    "    mu = np.sum(arr)\n",
    "    se = np.std(arr) * np.sqrt(N)\n",
    "    \n",
    "    print(f'{b} - 3pl_m2: %0.2f (%0.2f)' %(mu, se))"
   ]
  },
  {
   "cell_type": "markdown",
   "id": "cc5c0ceb-777f-4f85-86a8-8df1d0d1c797",
   "metadata": {},
   "source": [
    "### 2.2 Parameter distributions"
   ]
  },
  {
   "cell_type": "code",
   "execution_count": 10,
   "id": "625591a0-cfd4-4cef-9c8b-12fa8181481b",
   "metadata": {},
   "outputs": [
    {
     "name": "stdout",
     "output_type": "stream",
     "text": [
      "beta (mean):\t0.221 [0.142, 0.302]\n",
      "beta (var):\t1.554 [1.475, 1.629]\n",
      "beta (min):\t-3.704 [-4.687, -2.775]\n",
      "beta (max):\t3.497 [2.481, 4.635]\n",
      "alpha (mean):\t1.298 [1.212, 1.385]\n",
      "alpha (var):\t0.221 [0.121, 0.322]\n",
      "rho:\t\t-0.060 [-0.379, 0.250]\n"
     ]
    }
   ],
   "source": [
    "## Load samples.\n",
    "samples = read_csv(os.path.join('stan_results', '3pl_m2.tsv.gz'), sep='\\t', compression='gzip')\n",
    "\n",
    "## Extract parameters.\n",
    "beta_mu   = samples.filter(regex='beta_mu\\[').values\n",
    "beta_1_pr = samples.filter(regex='beta_1_pr\\[').values\n",
    "beta      = samples.filter(regex='beta\\[').values\n",
    "alpha_mu  = samples.filter(regex='alpha_mu\\[').values\n",
    "alpha     = samples.filter(regex='alpha\\[').values\n",
    "sigma     = samples.filter(regex='sigma\\[').values\n",
    "c = -0.625\n",
    "\n",
    "## Item difficulty (mean).\n",
    "mu = beta.mean()\n",
    "lb, ub = hdi(beta.mean(axis=1), hdi_prob=0.95)\n",
    "print('beta (mean):\\t%0.3f [%0.3f, %0.3f]' %(mu, lb, ub))\n",
    "\n",
    "## Item difficulty (variance).\n",
    "mu = beta.std(axis=1).mean()\n",
    "lb, ub = hdi(beta.std(axis=1), hdi_prob=0.95)\n",
    "print('beta (var):\\t%0.3f [%0.3f, %0.3f]' %(mu, lb, ub))\n",
    "\n",
    "## Item difficulty (min).\n",
    "arr = beta[:,np.argmin(beta.mean(axis=0))]\n",
    "mu = arr.mean()\n",
    "lb, ub = hdi(arr, hdi_prob=0.95)\n",
    "print('beta (min):\\t%0.3f [%0.3f, %0.3f]' %(mu, lb, ub))\n",
    "\n",
    "## Item difficulty (max).\n",
    "arr = beta[:,np.argmax(beta.mean(axis=0))]\n",
    "mu = arr.mean()\n",
    "lb, ub = hdi(arr, hdi_prob=0.95)\n",
    "print('beta (max):\\t%0.3f [%0.3f, %0.3f]' %(mu, lb, ub))\n",
    "\n",
    "## Item discrimination (mean).\n",
    "mu = alpha.mean()\n",
    "lb, ub = hdi(alpha.mean(axis=1), hdi_prob=0.95)\n",
    "print('alpha (mean):\\t%0.3f [%0.3f, %0.3f]' %(mu, lb, ub))\n",
    "\n",
    "## Item difficulty (variance).\n",
    "mu = alpha.std(axis=1).mean()\n",
    "lb, ub = hdi(alpha.std(axis=1), hdi_prob=0.95)\n",
    "print('alpha (var):\\t%0.3f [%0.3f, %0.3f]' %(mu, lb, ub))\n",
    "\n",
    "## Compute correlation.\n",
    "rho = np.array([np.corrcoef(a,b)[0,1] for a, b in zip(alpha, beta)])\n",
    "mu = rho.mean()\n",
    "lb, ub = hdi(rho, hdi_prob=0.95)\n",
    "print('rho:\\t\\t%0.3f [%0.3f, %0.3f]' %(mu, lb, ub))"
   ]
  },
  {
   "cell_type": "markdown",
   "id": "1dc18eab-af57-466a-afcc-75e677fc61f5",
   "metadata": {},
   "source": [
    "### 2.3 Interpreting parameters\n",
    "\n",
    "#### Item difficulty"
   ]
  },
  {
   "cell_type": "code",
   "execution_count": 11,
   "id": "93d3c891-c622-4650-8a86-c9ea12bbfb67",
   "metadata": {},
   "outputs": [
    {
     "name": "stdout",
     "output_type": "stream",
     "text": [
      "n_fea:\t0.579 [0.389, 0.770]\n",
      "n_rul:\t0.514 [0.378, 0.663]\n",
      "distr:\t1.105 [0.940, 1.269]\n",
      "rt:\t0.541 [0.414, 0.671]\n"
     ]
    }
   ],
   "source": [
    "## Define useful functions.\n",
    "def inv_logit(x):\n",
    "    return 1. / (1 + np.exp(-x))\n",
    "\n",
    "## Load design.\n",
    "X2 = read_csv(os.path.join('designs', 'X2.csv'))\n",
    "\n",
    "## Iterate over fixed effects.\n",
    "for i, col in enumerate(['n_features', 'n_rules', 'distractor', 'rt']):\n",
    "    \n",
    "    ## Compute regressor SD.\n",
    "    sd = X2[col].std()\n",
    "    \n",
    "    ## Compute change in response.\n",
    "    arr = beta_mu[:,i+1] / sd\n",
    "    \n",
    "    ## Compute summary stats.\n",
    "    mu = arr.mean()\n",
    "    lb, ub = hdi(arr, hdi_prob=0.95)\n",
    "    \n",
    "    ## Print.\n",
    "    print('%s:\\t%0.3f [%0.3f, %0.3f]' %(col[:5],mu,lb,ub))"
   ]
  },
  {
   "cell_type": "code",
   "execution_count": 12,
   "id": "1d87c40b-5808-4f92-bed1-ebed85278960",
   "metadata": {},
   "outputs": [
    {
     "name": "stdout",
     "output_type": "stream",
     "text": [
      "n_fea:\t0.106 [0.072, 0.141]\n",
      "n_rul:\t0.095 [0.070, 0.122]\n",
      "distr:\t0.199 [0.172, 0.228]\n",
      "rt:\t0.099 [0.075, 0.122]\n"
     ]
    }
   ],
   "source": [
    "## Define useful functions.\n",
    "def inv_logit(x):\n",
    "    return 1. / (1 + np.exp(-x))\n",
    "\n",
    "## Load design.\n",
    "X2 = read_csv(os.path.join('designs', 'X2.csv'))\n",
    "\n",
    "## Iterate over fixed effects.\n",
    "for i, col in enumerate(['n_features', 'n_rules', 'distractor', 'rt']):\n",
    "    \n",
    "    ## Compute regressor SD.\n",
    "    sd = X2[col].std()\n",
    "    \n",
    "    ## Compute change in response.\n",
    "    delta = (0.25 + (1-0.25) * inv_logit(beta_mu[:,0] + 0.5 * (beta_mu[:,i+1] / sd)))  -\\\n",
    "            (0.25 + (1-0.25) * inv_logit(beta_mu[:,0] - 0.5 * (beta_mu[:,i+1] / sd)))\n",
    "    \n",
    "    ## Compute summary stats.\n",
    "    mu = delta.mean()\n",
    "    lb, ub = hdi(delta, hdi_prob=0.95)\n",
    "    \n",
    "    ## Print.\n",
    "    print('%s:\\t%0.3f [%0.3f, %0.3f]' %(col[:5],mu,lb,ub))"
   ]
  },
  {
   "cell_type": "markdown",
   "id": "0ce88a28-5bff-4937-9508-4e690717b5de",
   "metadata": {},
   "source": [
    "#### Item discrimination"
   ]
  },
  {
   "cell_type": "code",
   "execution_count": 13,
   "id": "63faeacd-da2e-4aaf-b2d0-954690d64dfd",
   "metadata": {},
   "outputs": [
    {
     "name": "stdout",
     "output_type": "stream",
     "text": [
      "n_fea:\t-0.037 [-0.090, 0.017]\n",
      "n_rul:\t0.067 [0.011, 0.123]\n",
      "distr:\t-0.036 [-0.082, 0.006]\n",
      "rt:\t-0.025 [-0.075, 0.024]\n"
     ]
    }
   ],
   "source": [
    "from scipy.stats import norm\n",
    "\n",
    "## Iterate over fixed effects.\n",
    "for i, col in enumerate(['n_features', 'n_rules', 'distractor', 'rt']):\n",
    "    \n",
    "    ## Compute summary stats.\n",
    "    mu = alpha_mu[:,i+1].mean()\n",
    "    lb, ub = hdi(alpha_mu[:,i+1], hdi_prob=0.95)\n",
    "    \n",
    "    ## Print.\n",
    "    print('%s:\\t%0.3f [%0.3f, %0.3f]' %(col[:5],mu,lb,ub))"
   ]
  },
  {
   "cell_type": "code",
   "execution_count": 14,
   "id": "18c944b6-9cde-43d2-b886-abfce6d2c2b1",
   "metadata": {},
   "outputs": [
    {
     "name": "stdout",
     "output_type": "stream",
     "text": [
      "n_fea:\t-0.015 [-0.036, 0.008]\n",
      "n_rul:\t0.020 [0.003, 0.037]\n",
      "distr:\t-0.029 [-0.065, 0.005]\n",
      "rt:\t-0.010 [-0.030, 0.009]\n"
     ]
    }
   ],
   "source": [
    "from scipy.stats import norm\n",
    "\n",
    "## Load design.\n",
    "X2 = read_csv(os.path.join('designs', 'X2.csv'))\n",
    "\n",
    "## Iterate over fixed effects.\n",
    "for i, col in enumerate(['n_features', 'n_rules', 'distractor', 'rt']):\n",
    "    \n",
    "    ## Compute regressor SD.\n",
    "    sd = X2[col].std()\n",
    "    \n",
    "    ## Compute change in discrimination.\n",
    "    delta = norm.cdf(alpha_mu[:,0] + 0.5 * (alpha_mu[:,i+1] / sd))  -\\\n",
    "            norm.cdf(alpha_mu[:,0] - 0.5 * (alpha_mu[:,i+1] / sd))\n",
    "    \n",
    "    ## Compute summary stats.\n",
    "    mu = delta.mean()\n",
    "    lb, ub = hdi(delta, hdi_prob=0.95)\n",
    "    \n",
    "    ## Print.\n",
    "    print('%s:\\t%0.3f [%0.3f, %0.3f]' %(col[:5],mu,lb,ub))"
   ]
  },
  {
   "cell_type": "markdown",
   "id": "fd37240a-74ce-42fa-8a3b-e9a96bfc3b04",
   "metadata": {},
   "source": [
    "### 2.4 Variance explained"
   ]
  },
  {
   "cell_type": "markdown",
   "id": "0741eace-1840-4c92-ad1c-67ccd761e464",
   "metadata": {},
   "source": [
    "#### Item difficulty"
   ]
  },
  {
   "cell_type": "code",
   "execution_count": 15,
   "id": "1ce3930c-698d-4415-bb3b-09030b2583bf",
   "metadata": {
    "tags": []
   },
   "outputs": [
    {
     "name": "stdout",
     "output_type": "stream",
     "text": [
      "total:\t0.649\n",
      "n_feat:\t0.163\n",
      "n_rule:\t0.225\n",
      "lvl-1:\t0.386\n",
      "big 3:\t0.520\n"
     ]
    }
   ],
   "source": [
    "## Load and prepare design matrices.\n",
    "zscore = lambda x: (x - np.nanmean(x)) / np.nanstd(x)\n",
    "X2 = read_csv(os.path.join('designs', 'X2.csv')).apply(zscore, 0).fillna(1).values\n",
    "X3 = read_csv(os.path.join('designs', 'X3.csv')).values.astype(float)\n",
    "\n",
    "## Compute variance explained by fixed effects (total).\n",
    "beta_hat = X2 @ beta_mu.T\n",
    "error = beta.T - beta_hat\n",
    "r2 = np.var(beta_hat, axis=0).mean() / (np.var(beta_hat, axis=0).mean() + np.var(error, axis=0).mean())\n",
    "print('total:\\t%0.3f' %r2)\n",
    "\n",
    "for ix, label in zip([[0,2,3,4],[0,1,3,4],[0,3,4],[0,4]], ['n_feat','n_rule','lvl-1','big 3']):\n",
    "    \n",
    "    ## Compute predicted / error terms.\n",
    "    beta_hat = X2[:,ix] @ beta_mu.T[ix]\n",
    "    error = beta.T - beta_hat\n",
    "    \n",
    "    ## Compute variance explained.\n",
    "    a = np.var(beta_hat, axis=0).mean()\n",
    "    b = np.var(error, axis=0).mean()\n",
    "    \n",
    "    r2p = a / (a + b)\n",
    "    print('%s:\\t%0.3f' %(label, r2-r2p))"
   ]
  },
  {
   "cell_type": "code",
   "execution_count": 16,
   "id": "785c9b83-eb9a-4616-80b3-d6d05517eba3",
   "metadata": {},
   "outputs": [
    {
     "name": "stdout",
     "output_type": "stream",
     "text": [
      "lvl-1:\t0.676\n",
      "n_feat:\t0.295\n",
      "n_rule:\t0.406\n"
     ]
    }
   ],
   "source": [
    "## Compute level-1 coefficients.\n",
    "beta_0 = beta_mu[:,:3] @ X2.T[:3]\n",
    "beta_1 = beta_0 + beta_1_pr @ X3.T * np.atleast_2d(sigma[:,0]).T\n",
    "error = beta_1 - beta_0\n",
    "\n",
    "## Compute variance explained.\n",
    "a = np.var(beta_0, axis=1).mean()\n",
    "b = np.var(error, axis=1).mean()\n",
    "r2 = a / (a + b)\n",
    "print('lvl-1:\\t%0.3f' %r2)\n",
    "\n",
    "for ix, label in zip([[0,2],[0,1]], ['n_feat','n_rule']):\n",
    "    \n",
    "    ## Compute predicted / error terms.\n",
    "    beta_hat = X2[:,ix] @ beta_mu.T[ix]\n",
    "    error = beta_1.T - beta_hat\n",
    "    \n",
    "    ## Compute variance explained.\n",
    "    a = np.var(beta_hat, axis=0).mean()\n",
    "    b = np.var(error, axis=0).mean()\n",
    "    \n",
    "    r2p = a / (a + b)\n",
    "    print('%s:\\t%0.3f' %(label, r2-r2p))"
   ]
  },
  {
   "cell_type": "markdown",
   "id": "15c1d7e7-bca8-435a-8194-c90772bce9ba",
   "metadata": {},
   "source": [
    "#### Item Discrimination"
   ]
  },
  {
   "cell_type": "code",
   "execution_count": 17,
   "id": "7e147340-3269-4833-b420-a88ccbadbfdd",
   "metadata": {},
   "outputs": [
    {
     "name": "stdout",
     "output_type": "stream",
     "text": [
      "total:\t0.474\n",
      "lvl-1:\t0.319\n"
     ]
    }
   ],
   "source": [
    "from scipy.stats import norm\n",
    "\n",
    "## Load and prepare design matrices.\n",
    "zscore = lambda x: (x - np.nanmean(x)) / np.nanstd(x)\n",
    "X2 = read_csv(os.path.join('designs', 'X2.csv')).apply(zscore, 0).fillna(1).values\n",
    "\n",
    "## Compute predicted / error terms.\n",
    "mu = norm.cdf(c + X2 @ alpha_mu.T) * 5\n",
    "error = alpha.T - mu\n",
    "\n",
    "## Compute variance explained.\n",
    "a = np.var(mu, axis=0).mean()\n",
    "b = np.var(error, axis=0).mean()\n",
    "r2 = a / (a + b)\n",
    "print('total:\\t%0.3f' %r2)\n",
    "\n",
    "for ix, label in zip([[0,3,4]], ['lvl-1']):\n",
    "    \n",
    "    ## Compute predicted / error terms.\n",
    "    mu = norm.cdf(c + X2[:,ix] @ alpha_mu.T[ix]) * 5\n",
    "    error = alpha.T - mu\n",
    "    \n",
    "    ## Compute variance explained.\n",
    "    a = np.var(mu, axis=0).mean()\n",
    "    b = np.var(error, axis=0).mean()\n",
    "    \n",
    "    r2p = a / (a + b)\n",
    "    print('%s:\\t%0.3f' %(label, r2-r2p))"
   ]
  },
  {
   "cell_type": "markdown",
   "id": "5a7ecd88-8684-4b6a-bac1-db8516fb1977",
   "metadata": {},
   "source": [
    "### 2.5 Residual clone variance "
   ]
  },
  {
   "cell_type": "markdown",
   "id": "5d9b9e7f-8f5b-4a9d-b706-52d6152c1c8d",
   "metadata": {},
   "source": [
    "#### Estimated varability"
   ]
  },
  {
   "cell_type": "code",
   "execution_count": 18,
   "id": "188ea4b5-3a3e-4b94-8bb9-a528c7d1404a",
   "metadata": {},
   "outputs": [
    {
     "name": "stdout",
     "output_type": "stream",
     "text": [
      "sigma[2]: 0.620 [0.538, 0.701]\n"
     ]
    }
   ],
   "source": [
    "mu = np.median(sigma[:,1])\n",
    "lb, ub = hdi(sigma[:,1], hdi_prob=0.95)\n",
    "\n",
    "print('sigma[2]: %0.3f [%0.3f, %0.3f]' %(mu, lb, ub))"
   ]
  },
  {
   "cell_type": "markdown",
   "id": "4e899928-a191-4744-88ec-a718eb5c6761",
   "metadata": {},
   "source": [
    "#### Empirical differences"
   ]
  },
  {
   "cell_type": "code",
   "execution_count": 19,
   "id": "5193f721-2a70-413a-82fd-f631ba0f577a",
   "metadata": {},
   "outputs": [
    {
     "name": "stdout",
     "output_type": "stream",
     "text": [
      "MAD:\t0.705 [0.612, 0.786]\n"
     ]
    }
   ],
   "source": [
    "## Extract clone-level random effects. \n",
    "beta_2 = sigma[:,1,np.newaxis] * samples.filter(regex='beta_2_pr\\[').values\n",
    "\n",
    "## Organize item & distractor type.\n",
    "beta_2 = beta_2.reshape(len(beta_2), 128, 3)\n",
    "\n",
    "## Compute mean absolute difference.\n",
    "D = np.array([[1,-1,0], [1,0,-1], [0,1,-1]])\n",
    "MAD = np.abs(beta_2 @ D).mean(axis=-1)\n",
    "\n",
    "## Compute summary statistics (across sets).\n",
    "arr = MAD.mean(axis=-1)\n",
    "mu = arr.mean()\n",
    "lb, ub = hdi(arr, hdi_prob=0.95)\n",
    "\n",
    "print('MAD:\\t%0.3f [%0.3f, %0.3f]' %(mu,lb,ub))"
   ]
  },
  {
   "cell_type": "markdown",
   "id": "217fc1bd-83cc-4a56-9afb-94d621216fe9",
   "metadata": {},
   "source": [
    "## Section 3: Explanatory IRT"
   ]
  },
  {
   "cell_type": "code",
   "execution_count": 20,
   "id": "5b405590-ae48-447b-be58-087a893e7278",
   "metadata": {},
   "outputs": [],
   "source": [
    "## Extract parameters.\n",
    "theta = samples.filter(regex='theta\\[').values\n",
    "rho   = samples.filter(regex='rho\\[').values"
   ]
  },
  {
   "cell_type": "markdown",
   "id": "0fdc1ccc-04bb-4aa7-99e1-e135bc1a98d0",
   "metadata": {},
   "source": [
    "### 3.1 Interpreting parameters"
   ]
  },
  {
   "cell_type": "code",
   "execution_count": 21,
   "id": "ff5656b4-189d-4909-b9a2-1799f6bbedf2",
   "metadata": {},
   "outputs": [
    {
     "name": "stdout",
     "output_type": "stream",
     "text": [
      "age:\t-0.299 [-0.353, -0.246]\n",
      "gende:\t0.128 [0.078, 0.182]\n",
      "rt_0:\t0.427 [0.374, 0.478]\n",
      "rt_1:\t0.368 [0.313, 0.424]\n"
     ]
    }
   ],
   "source": [
    "## Load and prepare design matrices.\n",
    "X1 = read_csv(os.path.join('designs', 'X1.csv'))\n",
    "\n",
    "for i, col in enumerate(X1.columns):\n",
    "    \n",
    "    ## Compute summary stats.\n",
    "    mu = rho[:,i].mean()\n",
    "    lb, ub = hdi(rho[:,i], hdi_prob=0.95)\n",
    "    \n",
    "    ## Print.\n",
    "    print('%s:\\t%0.3f [%0.3f, %0.3f]' %(col[:5],mu,lb,ub))"
   ]
  },
  {
   "cell_type": "markdown",
   "id": "5e7c5827-8e9e-4894-9fe8-407d6409a8f1",
   "metadata": {},
   "source": [
    "#### 3.2 Variance explained"
   ]
  },
  {
   "cell_type": "code",
   "execution_count": 22,
   "id": "432a3911-8266-4c9e-b2c8-9d4ad7959309",
   "metadata": {},
   "outputs": [
    {
     "name": "stdout",
     "output_type": "stream",
     "text": [
      "total:\t0.503\n"
     ]
    }
   ],
   "source": [
    "## Load and prepare design matrices.\n",
    "zscore = lambda x: (x - np.nanmean(x)) / np.nanstd(x)\n",
    "X1 = read_csv(os.path.join('designs', 'X1.csv')).apply(zscore, 0).fillna(1).values\n",
    "\n",
    "## Compute predicted / error terms.\n",
    "theta_mu = X1 @ rho.T\n",
    "error = theta.T - theta_mu\n",
    "\n",
    "## Compute variance explained.\n",
    "a = np.var(theta_mu, axis=0).mean()\n",
    "b = np.var(error, axis=0).mean()\n",
    "r2 = a / (a + b)\n",
    "print('total:\\t%0.3f' %r2)"
   ]
  },
  {
   "cell_type": "markdown",
   "id": "e69a3700-3b74-4e4f-a940-714fb3c551c3",
   "metadata": {
    "tags": []
   },
   "source": [
    "## Section 4: Model Diagnostics"
   ]
  },
  {
   "cell_type": "markdown",
   "id": "8a8b00b8-6c7c-4255-9600-da1822a73ecd",
   "metadata": {},
   "source": [
    "### 4.1 Chi-square measure"
   ]
  },
  {
   "cell_type": "code",
   "execution_count": 23,
   "id": "151ca1a5-5e48-4e79-952f-e1194db979f8",
   "metadata": {},
   "outputs": [
    {
     "name": "stdout",
     "output_type": "stream",
     "text": [
      "x2 = 15.904 (pppv = 0.297)\n"
     ]
    },
    {
     "data": {
      "image/png": "[encoded data removed]",
      "text/plain": [
       "<Figure size 432x288 with 1 Axes>"
      ]
     },
     "metadata": {},
     "output_type": "display_data"
    }
   ],
   "source": [
    "import matplotlib.pyplot as plt\n",
    "import seaborn as sns\n",
    "sns.set_theme('notebook', style='white', font='sans-serif', font_scale=1.33)\n",
    "\n",
    "## Load posterior predictive check.\n",
    "df = read_csv(os.path.join('stan_results', f'3pl_m2_x2.csv'), index_col=0)\n",
    "\n",
    "## Extract values (dropping the two noisiest bins).\n",
    "NC  = df.values[0,2:]\n",
    "NCr = df.values[1:,2:]\n",
    "ENC = NCr.mean(axis=0)\n",
    "\n",
    "## Compute 95% HDI.\n",
    "lb, ub = np.apply_along_axis(hdi, 0, NCr, hdi_prob=0.95)\n",
    "\n",
    "## Compute chi-square statistics.\n",
    "xi = np.sum(np.divide(np.square(NC - ENC), ENC, where=ENC > 0))\n",
    "xr = np.divide(np.square(NCr - ENC), ENC, where=ENC > 0).sum(axis=1)\n",
    "\n",
    "## Compute ppp-value.\n",
    "pppv = (xi <= xr).mean()\n",
    "print('x2 = %0.3f (pppv = %0.3f)' %(xi, pppv))\n",
    "\n",
    "## Initialize canvas.\n",
    "fig, ax = plt.subplots(1, 1, figsize=(6,4))\n",
    "\n",
    "## Plot observed scores and 95% HDI.\n",
    "ax.plot(np.arange(2,17), NC, 'o-', color='k', lw=1, markersize=4)    \n",
    "ax.fill_between(np.arange(2,17), lb, ub, color='0.5', alpha=0.2)\n",
    "\n",
    "## Add detail.\n",
    "ax.set(xticks=np.arange(2,17,2),  xlabel='Observed scores', ylabel='# Participants')\n",
    "\n",
    "sns.despine()\n",
    "plt.tight_layout()"
   ]
  },
  {
   "cell_type": "markdown",
   "id": "a6ce890c-b8e3-401c-8ed1-6748531ee01b",
   "metadata": {},
   "source": [
    "### SGDDM"
   ]
  },
  {
   "cell_type": "code",
   "execution_count": 24,
   "id": "35485256-1892-40f5-85e0-d182dc320e8b",
   "metadata": {},
   "outputs": [
    {
     "data": {
      "text/html": [
       "<div>\n",
       "<style scoped>\n",
       "    .dataframe tbody tr th:only-of-type {\n",
       "        vertical-align: middle;\n",
       "    }\n",
       "\n",
       "    .dataframe tbody tr th {\n",
       "        vertical-align: top;\n",
       "    }\n",
       "\n",
       "    .dataframe thead th {\n",
       "        text-align: right;\n",
       "    }\n",
       "</style>\n",
       "<table border=\"1\" class=\"dataframe\">\n",
       "  <thead>\n",
       "    <tr style=\"text-align: right;\">\n",
       "      <th></th>\n",
       "      <th>k2</th>\n",
       "      <th>obs</th>\n",
       "      <th>pred</th>\n",
       "      <th>pval</th>\n",
       "    </tr>\n",
       "    <tr>\n",
       "      <th>k1</th>\n",
       "      <th></th>\n",
       "      <th></th>\n",
       "      <th></th>\n",
       "      <th></th>\n",
       "    </tr>\n",
       "  </thead>\n",
       "  <tbody>\n",
       "    <tr>\n",
       "      <th>0</th>\n",
       "      <td>0</td>\n",
       "      <td>0.017972</td>\n",
       "      <td>0.017534</td>\n",
       "      <td>0.0194</td>\n",
       "    </tr>\n",
       "  </tbody>\n",
       "</table>\n",
       "</div>"
      ],
      "text/plain": [
       "    k2       obs      pred    pval\n",
       "k1                                \n",
       "0    0  0.017972  0.017534  0.0194"
      ]
     },
     "execution_count": 24,
     "metadata": {},
     "output_type": "execute_result"
    }
   ],
   "source": [
    "## Load posterior predictive check.\n",
    "df = read_csv(os.path.join('stan_results', f'3pl_m2_sgddm.csv'), index_col=0)\n",
    "df.head(1)"
   ]
  },
  {
   "cell_type": "markdown",
   "id": "fdc6332f-c834-4dd6-9e2a-64f0169dda1e",
   "metadata": {},
   "source": [
    "## Section 5: Plotting"
   ]
  },
  {
   "cell_type": "markdown",
   "id": "28c12fab-1676-49d7-b2a3-43d52166d7b6",
   "metadata": {
    "tags": []
   },
   "source": [
    "### 5.1 Figure 02"
   ]
  },
  {
   "cell_type": "code",
   "execution_count": 25,
   "id": "fab51e84-2f17-4e74-aaee-0a26d957cb55",
   "metadata": {},
   "outputs": [
    {
     "data": {
      "image/png": "[encoded data removed]",
      "text/plain": [
       "<Figure size 648x648 with 2 Axes>"
      ]
     },
     "metadata": {},
     "output_type": "display_data"
    }
   ],
   "source": [
    "import matplotlib.pyplot as plt\n",
    "import seaborn as sns\n",
    "sns.set_theme('notebook', style='white', font='sans-serif', font_scale=1.33)\n",
    "\n",
    "#~~~~~~~~~~~~~~~~~~~~~~~~~~~~~~~~~~~~~~~~~~#\n",
    "### Load and prepare data.\n",
    "#~~~~~~~~~~~~~~~~~~~~~~~~~~~~~~~~~~~~~~~~~~#\n",
    "\n",
    "## Load item features.\n",
    "design = read_csv(os.path.join('designs', 'features.csv'), usecols=np.arange(6))\n",
    "\n",
    "## Load and prepare item difficulty.\n",
    "summary = read_csv(os.path.join('stan_results', '3pl_m2_summary.tsv'), sep='\\t', index_col=0)  \n",
    "design['beta'] = summary.T.filter(regex='beta\\[').T['Mean'].values\n",
    "design['beta_2'] = summary.T.filter(regex='beta_2_pr').T['Mean'].values *\\\n",
    "                   summary.T.filter(regex='sigma\\[2').T['Mean'].values\n",
    "\n",
    "## Format data.\n",
    "design = design.replace({'md':'MD', 'pd':'PD'})\n",
    "\n",
    "#~~~~~~~~~~~~~~~~~~~~~~~~~~~~~~~~~~~~~~~~~~#\n",
    "### Plotting.\n",
    "#~~~~~~~~~~~~~~~~~~~~~~~~~~~~~~~~~~~~~~~~~~#\n",
    "\n",
    "## Initialize canvas.\n",
    "fig, axes = plt.subplots(1, 2, figsize=(9,9), sharey=True)\n",
    "\n",
    "## Define plotting variables.\n",
    "order = design.groupby('item').beta.mean().sort_values().index\n",
    "palette = ['#40adb7', '#5E5A57', '#e6a14c']\n",
    "hues = ['distractor', 'shape_set']\n",
    "xvars = ['beta','beta_2']\n",
    "xlims = [(-4,4), (-2,2)]\n",
    "\n",
    "## Iteratively plot.\n",
    "for ax, x, xlim, hue, label in zip(axes, xvars, xlims, hues, ['A','B']):\n",
    "\n",
    "    ## Plot item difficulty parameters.\n",
    "    sns.stripplot(x=x, y='item', hue=hue, data=design, order=order, palette=palette,\n",
    "                  orient='h', ax=ax)\n",
    "    \n",
    "    ## Add grid.\n",
    "    ax.grid(axis='y', alpha=0.4)\n",
    "    \n",
    "    ## Add details.\n",
    "    ax.set_yticklabels([str(l) if not i % 2 else '' for i, l in enumerate(order)], fontsize=12)\n",
    "    ax.set(xlim=xlim, xlabel='Item Difficulty', ylabel='')\n",
    "    if label == 'A': ax.set_ylabel('Item', fontsize=16)\n",
    "    if label == 'B': ax.set_xlabel('Residual Item Difficulty')\n",
    "    \n",
    "    ## Add legend.\n",
    "    ax.legend(loc=1, borderaxespad=0, title=hue.replace('_',' ').capitalize(), framealpha=0.95)\n",
    "    \n",
    "    ## Add label.\n",
    "    ax.annotate(label, (0,0), (0,1.005), 'axes fraction', ha='left', va='bottom', \n",
    "                fontsize=24, fontweight='bold')\n",
    "\n",
    "## Adjust figure spacing.\n",
    "sns.despine(left=True, right=True, top=True)\n",
    "plt.subplots_adjust(left=0.08, right=0.98, top=0.95, bottom=0.07, wspace=0.125)\n",
    "\n",
    "## Save figure.\n",
    "plt.savefig(os.path.join('..', '05_Figures', 'fig02.png'), dpi=100)"
   ]
  },
  {
   "cell_type": "markdown",
   "id": "1559a85f-28a3-483e-a8b3-f6430efa3bcc",
   "metadata": {},
   "source": [
    "## Section 6: Supplementary materials"
   ]
  },
  {
   "cell_type": "markdown",
   "id": "fd4c6b50-504f-4832-a7dc-13d9b13ae6b4",
   "metadata": {
    "tags": []
   },
   "source": [
    "### 6.1 1PL models"
   ]
  },
  {
   "cell_type": "code",
   "execution_count": 26,
   "id": "c76c8a09-22ed-453b-8417-fcdf98d9610f",
   "metadata": {},
   "outputs": [
    {
     "name": "stdout",
     "output_type": "stream",
     "text": [
      "1pl_m1: 28376.7 | 118.9\n",
      "1pl_m2: 27627.6 | 153.4\n",
      "1pl_m3: 27218.7 | 264.0\n"
     ]
    }
   ],
   "source": [
    "for i, m in enumerate(['1pl_m1','1pl_m2','1pl_m3']):\n",
    "    \n",
    "    ## Load ppc.\n",
    "    ppc = read_csv(os.path.join('stan_results', f'{m}_ppc.csv'))\n",
    "        \n",
    "    ## Model comparison.\n",
    "    loco = -2 * ppc.groupby('subject').loco.mean().sum()\n",
    "    pwaic_c = ppc.groupby('subject').pwaic_c.mean().sum()\n",
    "    \n",
    "    print('%s: %0.1f | %0.1f' %(m, loco, pwaic_c))"
   ]
  },
  {
   "cell_type": "code",
   "execution_count": 27,
   "id": "9cce987d-89b8-4e20-9b7d-983f95fbce67",
   "metadata": {},
   "outputs": [
    {
     "name": "stdout",
     "output_type": "stream",
     "text": [
      "1plg_m1 - 1pl_m1: 635.3 (29.7)\n",
      "1plg_m2 - 1pl_m2: 665.6 (32.2)\n",
      "1plg_m3 - 1pl_m3: 633.1 (33.9)\n"
     ]
    }
   ],
   "source": [
    "from itertools import combinations\n",
    "\n",
    "for m in [1,2,3]:\n",
    "    \n",
    "    ## Load data.\n",
    "    df1 = read_csv(os.path.join('stan_results', f'1plg_m{m}_ppc.csv'))\n",
    "    df2 = read_csv(os.path.join('stan_results', f'1pl_m{m}_ppc.csv'))\n",
    "    \n",
    "    arr = -2 * (df2.groupby('subject').loco.mean() - df1.groupby('subject').loco.mean())\n",
    "    \n",
    "    ## Compute stats.\n",
    "    N = df1.subject.nunique()\n",
    "    mu = np.sum(arr)\n",
    "    se = np.std(arr) * np.sqrt(N)\n",
    "    \n",
    "    print(f'1plg_m{m} - 1pl_m{m}: %0.1f (%0.1f)' %(mu, se))"
   ]
  },
  {
   "cell_type": "markdown",
   "id": "40233a90-e9cf-4ca4-95aa-ff493caf2806",
   "metadata": {},
   "source": [
    "### 6.2 Removing RTs as explanatory variable"
   ]
  },
  {
   "cell_type": "code",
   "execution_count": 28,
   "id": "d40dbf19-17cb-4715-a661-10c26c87addb",
   "metadata": {},
   "outputs": [
    {
     "data": {
      "image/png": "[encoded data removed]",
      "text/plain": [
       "<Figure size 648x288 with 2 Axes>"
      ]
     },
     "metadata": {},
     "output_type": "display_data"
    }
   ],
   "source": [
    "## Initialize canvas.\n",
    "fig, axes = plt.subplots(1, 2, figsize=(9, 4))\n",
    "\n",
    "## Load Stan summaries.\n",
    "df1 = read_csv(os.path.join('stan_results','3pl_m2_summary.tsv'), sep='\\t', index_col=0)\n",
    "df2 = read_csv(os.path.join('stan_results','3pl_m2b_summary.tsv'), sep='\\t', index_col=0)\n",
    "\n",
    "## Compare item difficulty.\n",
    "beta_1 = df1.T.filter(regex='beta\\[').T['Mean'].values\n",
    "beta_2 = df2.T.filter(regex='beta\\[').T['Mean'].values\n",
    "corr = np.corrcoef(beta_1, beta_2)[0,1]\n",
    "\n",
    "## Plot item difficulty.\n",
    "sns.scatterplot(x=beta_1, y=beta_2, ax=axes[0])\n",
    "axes[0].plot([-4,4], [-4,4], color='0.5', zorder=-1)\n",
    "\n",
    "## Add detail.\n",
    "axes[0].annotate('r = %0.3f' %corr, (0,0), (0.03,1), xycoords='axes fraction', va='top', ha='left')\n",
    "axes[0].set(xlim=(-4,4), xlabel='Item Difficulty (w/ RT)', \n",
    "            ylim=(-4,4), ylabel='Item Difficulty (no RT)')\n",
    "\n",
    "## Compare item discrimination.\n",
    "alpha_1 = df1.T.filter(regex='alpha\\[').T['Mean'].values\n",
    "alpha_2 = df2.T.filter(regex='alpha\\[').T['Mean'].values\n",
    "corr = np.corrcoef(alpha_1, alpha_2)[0,1]\n",
    "\n",
    "## Plot item difficulty.\n",
    "sns.scatterplot(x=alpha_1, y=alpha_2, ax=axes[1])\n",
    "axes[1].plot((0.85,1.75), (0.85,1.75), color='0.5', zorder=-1)\n",
    "\n",
    "## Add detail.\n",
    "axes[1].annotate('r = %0.3f' %corr, (0,0), (0.03,1), xycoords='axes fraction', va='top', ha='left')\n",
    "axes[1].set(xlim=(0.85,1.75), xlabel='Item Discrimination (w/ RT)', \n",
    "            ylim=(0.85,1.75), ylabel='Item Discrimination (no RT)')\n",
    "\n",
    "sns.despine()\n",
    "plt.tight_layout()\n",
    "plt.savefig(os.path.join('..','05_Figures','figS03.png'))"
   ]
  }
 ],
 "metadata": {
  "kernelspec": {
   "display_name": "Python 3",
   "language": "python",
   "name": "python3"
  },
  "language_info": {
   "codemirror_mode": {
    "name": "ipython",
    "version": 3
   },
   "file_extension": ".py",
   "mimetype": "text/x-python",
   "name": "python",
   "nbconvert_exporter": "python",
   "pygments_lexer": "ipython3",
   "version": "3.9.7"
  }
 },
 "nbformat": 4,
 "nbformat_minor": 5
}

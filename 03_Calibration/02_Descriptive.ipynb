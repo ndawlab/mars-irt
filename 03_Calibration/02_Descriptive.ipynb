{
 "cells": [
  {
   "cell_type": "code",
   "execution_count": 1,
   "id": "30640996-dca5-4306-b25d-d87dc86b91a6",
   "metadata": {},
   "outputs": [],
   "source": [
    "import os\n",
    "import numpy as np\n",
    "import matplotlib.pyplot as plt\n",
    "import seaborn as sns\n",
    "from pandas import read_csv\n",
    "sns.set_theme(style='white', context='notebook', font_scale=1.33)"
   ]
  },
  {
   "cell_type": "markdown",
   "id": "ddec3bac-c54d-4879-9732-124f188d9f39",
   "metadata": {},
   "source": [
    "## Section 1: Demographics\n",
    "\n",
    "TO-DO: once reviewed, make sure tables presented here match paper"
   ]
  },
  {
   "cell_type": "markdown",
   "id": "9cc625b7-51d2-47d5-a852-a4c42fcc4e8c",
   "metadata": {},
   "source": [
    "#### 1.1 Load and prepare data"
   ]
  },
  {
   "cell_type": "code",
   "execution_count": 2,
   "id": "558c1a26-ba1a-4954-a516-b583c8fe0c88",
   "metadata": {},
   "outputs": [],
   "source": [
    "## Load and prepare data.\n",
    "metadata = read_csv(os.path.join('data', 'metadata.tsv'), sep='\\t')\n",
    "\n",
    "## Format data.\n",
    "metadata = metadata.rename(columns={'gender-categorical':'gender'})\n",
    "metadata = metadata.replace({'Associate degree':'Some college',\n",
    "                             'Less than high school':'High school'})\n",
    "\n",
    "## Apply rejections.\n",
    "reject = read_csv(os.path.join('data', 'reject.csv'))\n",
    "metadata = metadata.loc[metadata.subject.isin(reject.query('reject==0').subject)]"
   ]
  },
  {
   "cell_type": "markdown",
   "id": "905acf2f-5621-4db2-bb18-8473d03a571d",
   "metadata": {},
   "source": [
    "#### 4.2 Gender / age composition"
   ]
  },
  {
   "cell_type": "code",
   "execution_count": 3,
   "id": "b8ff43d1-dd5b-475e-bcec-f616b15d34c0",
   "metadata": {},
   "outputs": [
    {
     "name": "stdout",
     "output_type": "stream",
     "text": [
      "                count  mean   std   min   25%   50%   75%   max\n",
      "gender                                                         \n",
      "Female          811.0  27.7   9.6  18.0  21.0  24.0  32.0  74.0\n",
      "Male            670.0  30.1  10.1  18.0  22.0  28.0  36.0  70.0\n",
      "Other            13.0  26.3   4.8  19.0  23.0  27.0  30.0  35.0\n",
      "Rather not say    2.0  22.0   2.8  20.0  21.0  22.0  23.0  24.0\n"
     ]
    },
    {
     "data": {
      "image/png": "[encoded data removed]",
      "text/plain": [
       "<Figure size 432x288 with 1 Axes>"
      ]
     },
     "metadata": {},
     "output_type": "display_data"
    }
   ],
   "source": [
    "## Initialize canvas.\n",
    "fig, ax = plt.subplots(1,1,figsize=(6,4))\n",
    "\n",
    "## Print gender / age composition.\n",
    "print(metadata.groupby('gender').age.describe().round(1))\n",
    "\n",
    "## Plot gender / age composition.\n",
    "sns.histplot(x='age', hue='gender', data=metadata, hue_order=['Male','Female'], ax=ax)\n",
    "\n",
    "sns.despine()\n",
    "plt.tight_layout()"
   ]
  },
  {
   "cell_type": "code",
   "execution_count": 4,
   "id": "8bcc401e-23f8-4d26-ae82-451c58299e6a",
   "metadata": {},
   "outputs": [
    {
     "data": {
      "text/plain": [
       "count    1496.000000\n",
       "mean       28.747995\n",
       "std         9.853712\n",
       "min        18.000000\n",
       "25%        21.000000\n",
       "50%        26.000000\n",
       "75%        34.000000\n",
       "max        74.000000\n",
       "Name: age, dtype: float64"
      ]
     },
     "execution_count": 4,
     "metadata": {},
     "output_type": "execute_result"
    }
   ],
   "source": [
    "metadata.age.describe()"
   ]
  },
  {
   "cell_type": "markdown",
   "id": "26b36788-8f8a-4c51-9e47-5171bbcec888",
   "metadata": {},
   "source": [
    "#### 4.3 Education"
   ]
  },
  {
   "cell_type": "code",
   "execution_count": 5,
   "id": "b321f37a-b200-43d8-9b05-31f135ce1d00",
   "metadata": {},
   "outputs": [
    {
     "data": {
      "text/html": [
       "<div>\n",
       "<style scoped>\n",
       "    .dataframe tbody tr th:only-of-type {\n",
       "        vertical-align: middle;\n",
       "    }\n",
       "\n",
       "    .dataframe tbody tr th {\n",
       "        vertical-align: top;\n",
       "    }\n",
       "\n",
       "    .dataframe thead th {\n",
       "        text-align: right;\n",
       "    }\n",
       "</style>\n",
       "<table border=\"1\" class=\"dataframe\">\n",
       "  <thead>\n",
       "    <tr style=\"text-align: right;\">\n",
       "      <th>education</th>\n",
       "      <th>Bachelor degree</th>\n",
       "      <th>High school</th>\n",
       "      <th>Master degree or higher</th>\n",
       "      <th>Rather not say</th>\n",
       "      <th>Some college</th>\n",
       "    </tr>\n",
       "    <tr>\n",
       "      <th>gender</th>\n",
       "      <th></th>\n",
       "      <th></th>\n",
       "      <th></th>\n",
       "      <th></th>\n",
       "      <th></th>\n",
       "    </tr>\n",
       "  </thead>\n",
       "  <tbody>\n",
       "    <tr>\n",
       "      <th>Female</th>\n",
       "      <td>310</td>\n",
       "      <td>109</td>\n",
       "      <td>115</td>\n",
       "      <td>2</td>\n",
       "      <td>275</td>\n",
       "    </tr>\n",
       "    <tr>\n",
       "      <th>Male</th>\n",
       "      <td>192</td>\n",
       "      <td>89</td>\n",
       "      <td>207</td>\n",
       "      <td>0</td>\n",
       "      <td>187</td>\n",
       "    </tr>\n",
       "    <tr>\n",
       "      <th>Other</th>\n",
       "      <td>5</td>\n",
       "      <td>0</td>\n",
       "      <td>0</td>\n",
       "      <td>0</td>\n",
       "      <td>8</td>\n",
       "    </tr>\n",
       "    <tr>\n",
       "      <th>Rather not say</th>\n",
       "      <td>0</td>\n",
       "      <td>1</td>\n",
       "      <td>0</td>\n",
       "      <td>0</td>\n",
       "      <td>1</td>\n",
       "    </tr>\n",
       "  </tbody>\n",
       "</table>\n",
       "</div>"
      ],
      "text/plain": [
       "education       Bachelor degree  High school  Master degree or higher  \\\n",
       "gender                                                                  \n",
       "Female                      310          109                      115   \n",
       "Male                        192           89                      207   \n",
       "Other                         5            0                        0   \n",
       "Rather not say                0            1                        0   \n",
       "\n",
       "education       Rather not say  Some college  \n",
       "gender                                        \n",
       "Female                       2           275  \n",
       "Male                         0           187  \n",
       "Other                        0             8  \n",
       "Rather not say               0             1  "
      ]
     },
     "execution_count": 5,
     "metadata": {},
     "output_type": "execute_result"
    },
    {
     "data": {
      "image/png": "[encoded data removed]",
      "text/plain": [
       "<Figure size 432x288 with 1 Axes>"
      ]
     },
     "metadata": {},
     "output_type": "display_data"
    }
   ],
   "source": [
    "## Initialize canvas.\n",
    "fig, ax = plt.subplots(1,1,figsize=(6,4))\n",
    "order = ['High school', 'Some college', 'Bachelor degree', 'Master degree or higher']\n",
    "\n",
    "## Plot gender / age composition.\n",
    "sns.countplot(x='education', data=metadata, order=order, ax=ax)\n",
    "\n",
    "## Add detail.\n",
    "ax.set(xlabel='')\n",
    "ax.set_xticklabels(order, rotation=-45, ha='left')\n",
    "\n",
    "sns.despine()\n",
    "plt.tight_layout()\n",
    "\n",
    "metadata.pivot_table('subject','gender','education',aggfunc='count').fillna(0).astype(int)"
   ]
  },
  {
   "cell_type": "code",
   "execution_count": 6,
   "id": "11f880cd-2558-4d44-a4fc-95a24141bc72",
   "metadata": {},
   "outputs": [
    {
     "data": {
      "text/plain": [
       "Bachelor degree            507\n",
       "Some college               471\n",
       "Master degree or higher    322\n",
       "High school                199\n",
       "Rather not say               2\n",
       "Name: education, dtype: int64"
      ]
     },
     "execution_count": 6,
     "metadata": {},
     "output_type": "execute_result"
    }
   ],
   "source": [
    "metadata.education.value_counts()"
   ]
  },
  {
   "cell_type": "markdown",
   "id": "ffd8cb99-aaab-4532-8b27-4b947842a500",
   "metadata": {},
   "source": [
    "## Section 1: Summarize data"
   ]
  },
  {
   "cell_type": "markdown",
   "id": "7fc245b9-af61-4420-bebe-abdd76994a9e",
   "metadata": {},
   "source": [
    "#### 1.1 Load and prepare data"
   ]
  },
  {
   "cell_type": "code",
   "execution_count": 7,
   "id": "9d2a7fd5-e0ba-49c2-81bb-5a6233694ae9",
   "metadata": {},
   "outputs": [],
   "source": [
    "## Load and prepare data.\n",
    "data = read_csv(os.path.join('data', 'data.csv'))\n",
    "\n",
    "## Apply rejections.\n",
    "reject = read_csv(os.path.join('data', 'reject.csv'))\n",
    "data = data.loc[data.subject.isin(reject.query('reject==0').subject)]\n",
    "\n",
    "## Handle incomplete responses.\n",
    "data['missing'] = data.accuracy.isnull().astype(int)\n",
    "data['accuracy'] = data.accuracy.fillna(0)"
   ]
  },
  {
   "cell_type": "markdown",
   "id": "7cc93d90-4af5-4f87-95af-88ff1a6cd0cc",
   "metadata": {},
   "source": [
    "#### 1.2 Summarize data"
   ]
  },
  {
   "cell_type": "code",
   "execution_count": 8,
   "id": "f65594ba-a262-441b-a83d-542bd58f3afd",
   "metadata": {},
   "outputs": [
    {
     "name": "stdout",
     "output_type": "stream",
     "text": [
      "Summary\n",
      "N trial = 24016\n",
      "N subj  = 1501\n",
      "N item  = 64\n",
      "\n",
      "Quality\n",
      "Missing: 1.75%\n",
      "Rapid:   1.08%\n"
     ]
    }
   ],
   "source": [
    "## Summarize dataset.\n",
    "print('Summary')\n",
    "print('N trial = %s' %data.shape[0])\n",
    "print('N subj  = %s' %data.subject.nunique())\n",
    "print('N item  = %s' %data.item.nunique())\n",
    "\n",
    "## Quality metrics.\n",
    "print('\\nQuality')\n",
    "print('Missing: %0.2f%%' %(data.missing.mean() * 100))\n",
    "print('Rapid:   %0.2f%%' %((data.rt < 3).mean() * 100))"
   ]
  },
  {
   "cell_type": "markdown",
   "id": "7fb79907-60c9-4f7c-8af2-fdbfa31597e0",
   "metadata": {},
   "source": [
    "## Section 2: Item Sampling\n",
    "\n",
    "TO-DO: once reviewed, make sure tables presented here match paper"
   ]
  },
  {
   "cell_type": "markdown",
   "id": "32051618-df1d-4638-b12d-ab94ab11f819",
   "metadata": {},
   "source": [
    "#### 2.1 Available data by item"
   ]
  },
  {
   "cell_type": "code",
   "execution_count": 9,
   "id": "0b726cec-e37f-43a2-89d4-8a2e5b165706",
   "metadata": {},
   "outputs": [
    {
     "data": {
      "text/plain": [
       "count     64.000000\n",
       "mean     375.250000\n",
       "std       12.014541\n",
       "min      348.000000\n",
       "25%      366.750000\n",
       "50%      374.500000\n",
       "75%      383.000000\n",
       "max      403.000000\n",
       "Name: item, dtype: float64"
      ]
     },
     "execution_count": 9,
     "metadata": {},
     "output_type": "execute_result"
    }
   ],
   "source": [
    "data.item.value_counts().describe()"
   ]
  },
  {
   "cell_type": "code",
   "execution_count": 10,
   "id": "06a9f532-4923-4188-bc49-661f8877f5a1",
   "metadata": {},
   "outputs": [
    {
     "data": {
      "text/plain": [
       "count    384.000000\n",
       "mean      62.541667\n",
       "std        6.904294\n",
       "min       47.000000\n",
       "25%       58.000000\n",
       "50%       63.000000\n",
       "75%       67.000000\n",
       "max       86.000000\n",
       "Name: item_id, dtype: float64"
      ]
     },
     "execution_count": 10,
     "metadata": {},
     "output_type": "execute_result"
    }
   ],
   "source": [
    "data.item_id.value_counts().describe()"
   ]
  },
  {
   "cell_type": "markdown",
   "id": "380c77df-1677-4111-b03d-8fb8150614af",
   "metadata": {},
   "source": [
    "## Section 3: Behavior"
   ]
  },
  {
   "cell_type": "markdown",
   "id": "8f042232-98fa-4907-b376-598a5518dd6a",
   "metadata": {},
   "source": [
    "#### 3.1 Participant accuracy"
   ]
  },
  {
   "cell_type": "code",
   "execution_count": 11,
   "id": "bbd6990c-2f3e-4ad0-a6e6-7681d3ca0327",
   "metadata": {},
   "outputs": [
    {
     "data": {
      "text/plain": [
       "count    1501.0\n",
       "mean        9.6\n",
       "std         3.1\n",
       "min         1.0\n",
       "25%         8.0\n",
       "50%        10.0\n",
       "75%        12.0\n",
       "max        16.0\n",
       "Name: accuracy, dtype: float64"
      ]
     },
     "execution_count": 11,
     "metadata": {},
     "output_type": "execute_result"
    }
   ],
   "source": [
    "gb = data.groupby('subject').accuracy.sum()\n",
    "gb.describe().round(1)"
   ]
  },
  {
   "cell_type": "code",
   "execution_count": 12,
   "id": "569f3731-9329-4b40-99c5-269687fd110a",
   "metadata": {},
   "outputs": [
    {
     "data": {
      "text/plain": [
       "2.8647568287808127"
      ]
     },
     "execution_count": 12,
     "metadata": {},
     "output_type": "execute_result"
    }
   ],
   "source": [
    "(gb < 4).sum()\n",
    "(gb < 4).mean() * 100"
   ]
  },
  {
   "cell_type": "code",
   "execution_count": 13,
   "id": "7a3f5535-38e9-4ca1-8397-1960a7082a78",
   "metadata": {},
   "outputs": [
    {
     "data": {
      "text/plain": [
       "0.7328447701532311"
      ]
     },
     "execution_count": 13,
     "metadata": {},
     "output_type": "execute_result"
    }
   ],
   "source": [
    "(gb == 16).sum()\n",
    "(gb == 16).mean() * 100"
   ]
  },
  {
   "cell_type": "markdown",
   "id": "27bfbfdf-5cca-4610-b690-89fb8df0a5bf",
   "metadata": {},
   "source": [
    "#### 3.2 Item accuracy"
   ]
  },
  {
   "cell_type": "code",
   "execution_count": 14,
   "id": "3e3003d6-c3b1-4d36-b757-b66a02a03985",
   "metadata": {},
   "outputs": [
    {
     "data": {
      "text/plain": [
       "count    384.00\n",
       "mean       0.60\n",
       "std        0.19\n",
       "min        0.09\n",
       "25%        0.45\n",
       "50%        0.59\n",
       "75%        0.74\n",
       "max        1.00\n",
       "Name: accuracy, dtype: float64"
      ]
     },
     "execution_count": 14,
     "metadata": {},
     "output_type": "execute_result"
    }
   ],
   "source": [
    "gb = data.groupby('item_id').accuracy.mean()\n",
    "gb.describe().round(2)"
   ]
  },
  {
   "cell_type": "code",
   "execution_count": 15,
   "id": "9a36d651-07a8-4d67-a003-9d3542cd7f06",
   "metadata": {},
   "outputs": [
    {
     "data": {
      "text/plain": [
       "3.125"
      ]
     },
     "execution_count": 15,
     "metadata": {},
     "output_type": "execute_result"
    }
   ],
   "source": [
    "(gb < 0.25).sum() \n",
    "(gb < 0.25).mean() * 100"
   ]
  },
  {
   "cell_type": "code",
   "execution_count": 16,
   "id": "489ed0bc-1510-4d13-9bc0-0923333db836",
   "metadata": {},
   "outputs": [
    {
     "data": {
      "text/plain": [
       "5.729166666666666"
      ]
     },
     "execution_count": 16,
     "metadata": {},
     "output_type": "execute_result"
    }
   ],
   "source": [
    "(gb > 0.9).sum() \n",
    "(gb > 0.9).mean() * 100"
   ]
  },
  {
   "cell_type": "markdown",
   "id": "b09b6c21-c619-4838-9ac5-f0dd6a0b32b3",
   "metadata": {},
   "source": [
    "#### 3.2 Accuracy by dimension"
   ]
  },
  {
   "cell_type": "code",
   "execution_count": 17,
   "id": "b0e2543d-18e5-46b5-ae6c-495027b1eec8",
   "metadata": {},
   "outputs": [
    {
     "data": {
      "text/plain": [
       "SpearmanrResult(correlation=-0.4821668919802551, pvalue=9.448691947102312e-24)"
      ]
     },
     "execution_count": 17,
     "metadata": {},
     "output_type": "execute_result"
    }
   ],
   "source": [
    "from scipy.stats import spearmanr\n",
    "\n",
    "gb = data.groupby('item_id').agg({'dimension':'mean', 'accuracy':'mean'})\n",
    "\n",
    "spearmanr(gb.dimension, gb.accuracy)"
   ]
  },
  {
   "cell_type": "markdown",
   "id": "12cc1381-fcb8-4294-9ea1-b4ae3e7b90c4",
   "metadata": {},
   "source": [
    "#### Consistency"
   ]
  },
  {
   "cell_type": "code",
   "execution_count": 18,
   "id": "e48a538f-4632-4ca7-89ca-36df8afc61ea",
   "metadata": {},
   "outputs": [
    {
     "data": {
      "text/plain": [
       "SpearmanrResult(correlation=0.8704527612028681, pvalue=1.554252090281414e-08)"
      ]
     },
     "execution_count": 18,
     "metadata": {},
     "output_type": "execute_result"
    }
   ],
   "source": [
    "from scipy.stats import spearmanr\n",
    "\n",
    "## Load and prepare original data summary.\n",
    "stats = read_csv(os.path.join('data','stats.csv'))\n",
    "stats = stats.query('Group==\"total\" and N >= 200')\n",
    "stats = stats[['Item','Mean.correct']].rename(columns={'Item':'item','Mean.correct':'correct'})\n",
    "\n",
    "## Compute accuracy by item.\n",
    "gb = data.groupby('item').accuracy.mean().reset_index()\n",
    "gb = gb.merge(stats, on='item')\n",
    "\n",
    "## Compute consistency.\n",
    "spearmanr(gb.correct, gb.accuracy)"
   ]
  },
  {
   "cell_type": "markdown",
   "id": "fc1aa38f-bb3a-44f6-8704-8879ab0e6039",
   "metadata": {},
   "source": [
    "## Section 4: Response times"
   ]
  },
  {
   "cell_type": "code",
   "execution_count": 19,
   "id": "4e29e135-2645-4a9c-a18c-2336966f8439",
   "metadata": {},
   "outputs": [
    {
     "data": {
      "text/plain": [
       "count    23596.000000\n",
       "mean        15.917140\n",
       "std          7.240629\n",
       "min          0.187000\n",
       "25%         10.144500\n",
       "50%         14.966500\n",
       "75%         21.470500\n",
       "max         29.997000\n",
       "Name: rt, dtype: float64"
      ]
     },
     "execution_count": 19,
     "metadata": {},
     "output_type": "execute_result"
    }
   ],
   "source": [
    "data.rt.describe()"
   ]
  },
  {
   "cell_type": "code",
   "execution_count": 20,
   "id": "e6c2b1a7-dd88-43e0-83d4-96616a39a515",
   "metadata": {},
   "outputs": [
    {
     "data": {
      "text/html": [
       "<table class=\"simpletable\">\n",
       "<tr>\n",
       "       <td>Model:</td>       <td>MixedLM</td> <td>Dependent Variable:</td>    <td>logrt</td>   \n",
       "</tr>\n",
       "<tr>\n",
       "  <td>No. Observations:</td>  <td>23596</td>        <td>Method:</td>          <td>REML</td>    \n",
       "</tr>\n",
       "<tr>\n",
       "     <td>No. Groups:</td>     <td>1501</td>         <td>Scale:</td>          <td>0.1783</td>   \n",
       "</tr>\n",
       "<tr>\n",
       "  <td>Min. group size:</td>    <td>13</td>      <td>Log-Likelihood:</td>   <td>-14702.1112</td>\n",
       "</tr>\n",
       "<tr>\n",
       "  <td>Max. group size:</td>    <td>16</td>        <td>Converged:</td>          <td>Yes</td>    \n",
       "</tr>\n",
       "<tr>\n",
       "  <td>Mean group size:</td>   <td>15.7</td>            <td></td>                <td></td>      \n",
       "</tr>\n",
       "</table>\n",
       "<table class=\"simpletable\">\n",
       "<tr>\n",
       "              <td></td>               <th>Coef.</th> <th>Std.Err.</th>    <th>z</th>    <th>P>|z|</th> <th>[0.025</th> <th>0.975]</th>\n",
       "</tr>\n",
       "<tr>\n",
       "  <th>Intercept</th>                  <td>2.648</td>   <td>0.009</td>  <td>287.757</td> <td>0.000</td>  <td>2.630</td>  <td>2.666</td>\n",
       "</tr>\n",
       "<tr>\n",
       "  <th>accuracy</th>                   <td>0.039</td>   <td>0.007</td>   <td>5.367</td>  <td>0.000</td>  <td>0.025</td>  <td>0.053</td>\n",
       "</tr>\n",
       "<tr>\n",
       "  <th>difficulty</th>                 <td>0.073</td>   <td>0.005</td>  <td>13.292</td>  <td>0.000</td>  <td>0.062</td>  <td>0.083</td>\n",
       "</tr>\n",
       "<tr>\n",
       "  <th>accuracy:difficulty</th>        <td>0.097</td>   <td>0.007</td>  <td>14.351</td>  <td>0.000</td>  <td>0.084</td>  <td>0.110</td>\n",
       "</tr>\n",
       "<tr>\n",
       "  <th>score</th>                      <td>0.167</td>   <td>0.009</td>  <td>19.204</td>  <td>0.000</td>  <td>0.150</td>  <td>0.184</td>\n",
       "</tr>\n",
       "<tr>\n",
       "  <th>accuracy:score</th>            <td>-0.064</td>   <td>0.007</td>  <td>-8.764</td>  <td>0.000</td> <td>-0.078</td> <td>-0.050</td>\n",
       "</tr>\n",
       "<tr>\n",
       "  <th>difficulty:score</th>           <td>0.032</td>   <td>0.005</td>   <td>6.549</td>  <td>0.000</td>  <td>0.023</td>  <td>0.042</td>\n",
       "</tr>\n",
       "<tr>\n",
       "  <th>accuracy:difficulty:score</th>  <td>0.012</td>   <td>0.006</td>   <td>1.955</td>  <td>0.051</td> <td>-0.000</td>  <td>0.025</td>\n",
       "</tr>\n",
       "<tr>\n",
       "  <th>Group Var</th>                  <td>0.077</td>   <td>0.008</td>     <td></td>       <td></td>       <td></td>       <td></td>   \n",
       "</tr>\n",
       "</table>"
      ],
      "text/plain": [
       "<class 'statsmodels.iolib.summary2.Summary'>\n",
       "\"\"\"\n",
       "                Mixed Linear Model Regression Results\n",
       "=====================================================================\n",
       "Model:                MixedLM     Dependent Variable:     logrt      \n",
       "No. Observations:     23596       Method:                 REML       \n",
       "No. Groups:           1501        Scale:                  0.1783     \n",
       "Min. group size:      13          Log-Likelihood:         -14702.1112\n",
       "Max. group size:      16          Converged:              Yes        \n",
       "Mean group size:      15.7                                           \n",
       "---------------------------------------------------------------------\n",
       "                          Coef.  Std.Err.    z    P>|z| [0.025 0.975]\n",
       "---------------------------------------------------------------------\n",
       "Intercept                  2.648    0.009 287.757 0.000  2.630  2.666\n",
       "accuracy                   0.039    0.007   5.367 0.000  0.025  0.053\n",
       "difficulty                 0.073    0.005  13.292 0.000  0.062  0.083\n",
       "accuracy:difficulty        0.097    0.007  14.351 0.000  0.084  0.110\n",
       "score                      0.167    0.009  19.204 0.000  0.150  0.184\n",
       "accuracy:score            -0.064    0.007  -8.764 0.000 -0.078 -0.050\n",
       "difficulty:score           0.032    0.005   6.549 0.000  0.023  0.042\n",
       "accuracy:difficulty:score  0.012    0.006   1.955 0.051 -0.000  0.025\n",
       "Group Var                  0.077    0.008                            \n",
       "=====================================================================\n",
       "\n",
       "\"\"\""
      ]
     },
     "execution_count": 20,
     "metadata": {},
     "output_type": "execute_result"
    }
   ],
   "source": [
    "from statsmodels.api import MixedLM\n",
    "\n",
    "zscore = lambda x: (x - np.nanmean(x)) / np.nanstd(x)\n",
    "data['difficulty'] = zscore(1 - data.groupby('item_id').accuracy.transform(np.mean))\n",
    "data['score'] = zscore(data.groupby('subject').accuracy.transform(np.sum) - data.accuracy)\n",
    "data['logrt'] = np.log(data.rt)\n",
    "\n",
    "formula = 'logrt ~ accuracy * difficulty * score'\n",
    "fit = MixedLM.from_formula(formula, data=data.dropna(), groups=data.dropna().subject).fit()\n",
    "fit.summary()"
   ]
  },
  {
   "cell_type": "markdown",
   "id": "07d8af21-0c8c-46e7-babd-257fb9baa4aa",
   "metadata": {},
   "source": [
    "## Figures"
   ]
  },
  {
   "cell_type": "code",
   "execution_count": 21,
   "id": "3132e233-9bc8-4f78-845d-e00012751523",
   "metadata": {},
   "outputs": [
    {
     "data": {
      "image/png": "[encoded data removed]",
      "text/plain": [
       "<Figure size 864x288 with 3 Axes>"
      ]
     },
     "metadata": {},
     "output_type": "display_data"
    }
   ],
   "source": [
    "import matplotlib.gridspec as gridspec\n",
    "sns.set_theme('notebook', style='white', font='sans-serif', font_scale=1.33)\n",
    "\n",
    "#~~~~~~~~~~~~~~~~~~~~~~~~~~~~~~~~~~~~~~~~~~#\n",
    "### Define parameters.\n",
    "#~~~~~~~~~~~~~~~~~~~~~~~~~~~~~~~~~~~~~~~~~~#\n",
    "\n",
    "## Initialize canvas.\n",
    "fig = plt.figure(figsize=(12,4), constrained_layout=True)\n",
    "\n",
    "## Initialize panels.\n",
    "spec = fig.add_gridspec(1, 3, left=0.12, right=0.98, top=0.98, bottom=0.12, wspace=0.08, hspace=0)\n",
    "\n",
    "## Define annotation position.\n",
    "xytext = (0.035, 1.00)\n",
    "\n",
    "#~~~~~~~~~~~~~~~~~~~~~~~~~~~~~~~~~~~~~~~~~~#\n",
    "### Panel 2: Participant scores.\n",
    "#~~~~~~~~~~~~~~~~~~~~~~~~~~~~~~~~~~~~~~~~~~#\n",
    "\n",
    "## Compute participant observed scores.\n",
    "gb = data.groupby('subject').accuracy.sum()\n",
    "\n",
    "## Initialize axis.\n",
    "ax = plt.subplot(spec[0])\n",
    "\n",
    "## Plot item accuracy.\n",
    "sns.histplot(x=gb, bins=np.arange(18)-0.5, ax=ax)\n",
    "\n",
    "## Add details.\n",
    "ax.set(xlim=(-0.5,16.5), xticks=np.arange(0,17,2), xlabel='Observed scores', \n",
    "       yticks=np.arange(0,201,50), ylabel='Number of participants')\n",
    "ax.annotate('A', (0,0), xytext, xycoords='axes fraction', ha='left', va='top', \n",
    "            fontsize=28, fontweight='bold')\n",
    "\n",
    "#~~~~~~~~~~~~~~~~~~~~~~~~~~~~~~~~~~~~~~~~~~#\n",
    "### Panel 2: Item accuracy.\n",
    "#~~~~~~~~~~~~~~~~~~~~~~~~~~~~~~~~~~~~~~~~~~#\n",
    "\n",
    "## Compute item accuracy rates.\n",
    "gb = data.groupby('item_id').accuracy.mean()\n",
    "\n",
    "## Initialize axis.\n",
    "ax = plt.subplot(spec[1])\n",
    "\n",
    "## Plot item accuracy.\n",
    "sns.histplot(x=gb, bins=np.linspace(0,1,11), ax=ax)\n",
    "\n",
    "## Add details.\n",
    "ax.set(xlim=(0,1), xticks=np.arange(0,1.1,0.2), xlabel='Item proportion correct', \n",
    "       yticks=np.arange(0,100,20), ylabel='Number of items')\n",
    "ax.annotate('B', (0,0), xytext, xycoords='axes fraction', ha='left', va='top', \n",
    "            fontsize=28, fontweight='bold')\n",
    "\n",
    "#~~~~~~~~~~~~~~~~~~~~~~~~~~~~~~~~~~~~~~~~~~#\n",
    "### Panel 3: Response times.\n",
    "#~~~~~~~~~~~~~~~~~~~~~~~~~~~~~~~~~~~~~~~~~~#\n",
    "\n",
    "## Divide items into quintiles by difficulty.\n",
    "data['difficulty'] = 1 - data.groupby('item_id').accuracy.transform(np.mean)\n",
    "data['difficulty'] = np.digitize(data.difficulty, data.difficulty.quantile([0.2,0.4,0.6,0.8]))\n",
    "\n",
    "## Divide participants into quartiles by observed score.\n",
    "data['score'] = data.groupby('subject').accuracy.transform(np.sum)\n",
    "data['score'] = np.digitize(data.score, [4.5,8.5,12.5])\n",
    "\n",
    "## Initialize axis.\n",
    "ax = plt.subplot(spec[2])\n",
    "\n",
    "## Plot response times.\n",
    "palette = sns.color_palette('Blues_r', n_colors=8).as_hex()[:data.difficulty.nunique()]\n",
    "sns.pointplot(x='score', y='rt', hue='difficulty', data=data, hue_order=[4,3,2,1,0],\n",
    "              estimator=np.median, palette=palette, ax=ax)\n",
    "\n",
    "## Add details.\n",
    "ax.set(xlabel='Observed scores', xticklabels=['1 - 4', '5 - 8', '9 - 12', '13 - 16'],\n",
    "       yticks=np.arange(10,26,5), ylabel='Average response time (s)')\n",
    "ax.annotate('C', (0,0), xytext, xycoords='axes fraction', ha='left', va='top', \n",
    "            fontsize=28, fontweight='bold')\n",
    "\n",
    "## Update legend.\n",
    "handles, labels = ax.get_legend_handles_labels()\n",
    "ax.legend(handles, ['Highest','2nd','3rd','4th','Lowest'], loc=7, \n",
    "          bbox_to_anchor=(1.52, 0.5), frameon=False, handletextpad=0)\n",
    "ax.legend_.set_title('Item difficulty')\n",
    "ax.legend_._legend_box.align = 'left'\n",
    "\n",
    "sns.despine()\n",
    "plt.savefig(os.path.join('..', '05_Figures', 'fig01.png'), dpi=100)"
   ]
  }
 ],
 "metadata": {
  "kernelspec": {
   "display_name": "Python 3",
   "language": "python",
   "name": "python3"
  },
  "language_info": {
   "codemirror_mode": {
    "name": "ipython",
    "version": 3
   },
   "file_extension": ".py",
   "mimetype": "text/x-python",
   "name": "python",
   "nbconvert_exporter": "python",
   "pygments_lexer": "ipython3",
   "version": "3.7.9"
  }
 },
 "nbformat": 4,
 "nbformat_minor": 5
}

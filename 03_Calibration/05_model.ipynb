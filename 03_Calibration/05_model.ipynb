{
 "cells": [
  {
   "cell_type": "code",
   "execution_count": 1,
   "id": "82f4016f-87bd-41dd-90eb-e92afe20fced",
   "metadata": {},
   "outputs": [],
   "source": [
    "import os\n",
    "import numpy as np\n",
    "import matplotlib.pyplot as plt\n",
    "import seaborn as sns\n",
    "from pandas import read_csv\n",
    "sns.set_theme(style='white', context='notebook', font_scale=1.33)"
   ]
  },
  {
   "cell_type": "markdown",
   "id": "dcec38db-a532-4a6f-aa3b-b64522e11210",
   "metadata": {},
   "source": [
    "## Section 1: Model Comparison"
   ]
  },
  {
   "cell_type": "code",
   "execution_count": 2,
   "id": "5721451e-7a2d-482d-82ef-97097153831b",
   "metadata": {},
   "outputs": [
    {
     "name": "stdout",
     "output_type": "stream",
     "text": [
      "1pl:  -13583.776 | -13575.166 | 1073.293 | 161.265\n",
      "2pl:  -13494.605 | -13561.354 | 917.542 | 248.556\n",
      "3pl:  -13506.159 | -13360.679 | 899.248 | 262.784\n"
     ]
    }
   ],
   "source": [
    "for m in ['1pl','2pl','3pl']:\n",
    "    \n",
    "    ## Load ppc.\n",
    "    ppc = read_csv(os.path.join('stan_results', f'{m}_ppc.csv'))\n",
    "        \n",
    "    ## Model comparison.\n",
    "    louo = ppc.louo.sum()\n",
    "    loco = ppc.groupby('subject').loco.mean().sum()\n",
    "    pwaic_u = ppc.pwaic_u.sum()\n",
    "    pwaic_c = ppc.groupby('subject').pwaic_c.mean().sum()\n",
    "    \n",
    "    print('%s:  %0.3f | %0.3f | %0.3f | %0.3f' %(m, louo, loco, pwaic_u, pwaic_c))"
   ]
  },
  {
   "cell_type": "code",
   "execution_count": 36,
   "id": "906fb18a-482d-410f-981e-26f476aa206c",
   "metadata": {},
   "outputs": [
    {
     "name": "stdout",
     "output_type": "stream",
     "text": [
      "2pl - 1pl: 5.573 (0.951)\n",
      "3pl - 1pl: 4.851 (1.368)\n",
      "3pl - 2pl: -0.722 (0.895)\n"
     ]
    }
   ],
   "source": [
    "from itertools import combinations\n",
    "\n",
    "for a, b in list(combinations(['1pl','2pl','3pl'], 2)):\n",
    "    \n",
    "    ## Load data.\n",
    "    df1 = read_csv(os.path.join('stan_results', f'{a}_ppc.csv'))\n",
    "    df2 = read_csv(os.path.join('stan_results', f'{b}_ppc.csv'))\n",
    "    \n",
    "    arr = df2.groupby('subject').louo.mean() - df1.groupby('subject').louo.mean()\n",
    "    \n",
    "    ## Compute stats.\n",
    "    N = df1.subject.nunique()\n",
    "    mu = np.sum(arr)\n",
    "    se = np.std(arr) * np.sqrt(N)\n",
    "    \n",
    "    print(f'{b} - {a}: %0.3f (%0.3f)' %(mu, se))"
   ]
  },
  {
   "cell_type": "code",
   "execution_count": 5,
   "id": "eee5a793-0f02-4d29-b638-f8aed77ad3a0",
   "metadata": {},
   "outputs": [
    {
     "name": "stdout",
     "output_type": "stream",
     "text": [
      "2pl - 1pl: 13.812 (10.439)\n",
      "3pl - 1pl: 214.487 (21.478)\n",
      "3pl - 2pl: 200.675 (15.601)\n"
     ]
    }
   ],
   "source": [
    "from itertools import combinations\n",
    "\n",
    "for a, b in list(combinations(['1pl','2pl','3pl'], 2)):\n",
    "    \n",
    "    ## Load data.\n",
    "    df1 = read_csv(os.path.join('stan_results', f'{a}_ppc.csv'))\n",
    "    df2 = read_csv(os.path.join('stan_results', f'{b}_ppc.csv'))\n",
    "    \n",
    "    arr = df2.groupby('subject').loco.mean() - df1.groupby('subject').loco.mean()\n",
    "    \n",
    "    ## Compute stats.\n",
    "    N = df1.subject.nunique()\n",
    "    mu = np.sum(arr)\n",
    "    se = np.std(arr) * np.sqrt(N)\n",
    "    \n",
    "    print(f'{b} - {a}: %0.3f (%0.3f)' %(mu, se))"
   ]
  },
  {
   "cell_type": "code",
   "execution_count": 26,
   "id": "ab523bd0-22a2-4166-bccc-13722fbf48d8",
   "metadata": {},
   "outputs": [
    {
     "name": "stdout",
     "output_type": "stream",
     "text": [
      "[ 21  35  61  62  65  96 110 111 124]\n",
      "[  6  66  90  91 101 118 124]\n",
      "[  9  21  35  66  79  83  95 123]\n"
     ]
    }
   ],
   "source": [
    "for m in ['1pl','2pl','3pl']:\n",
    "    \n",
    "    ## Load ppc.\n",
    "    ifs = read_csv(os.path.join('stan_results', f'{m}_ifs.csv'))\n",
    "    print(ifs.query('p >= 0.95').item.values)\n",
    "   "
   ]
  },
  {
   "cell_type": "code",
   "execution_count": 33,
   "id": "57225f33-33f1-414e-bf3f-e3739d141b2d",
   "metadata": {},
   "outputs": [],
   "source": [
    "hue = np.arange(128)\n",
    "hue = np.in1d(hue, np.array([9, 21, 35, 66, 79, 83, 95, 123])-1)"
   ]
  },
  {
   "cell_type": "code",
   "execution_count": 34,
   "id": "962254ab-acbc-4588-8f3d-5d019745d474",
   "metadata": {},
   "outputs": [
    {
     "data": {
      "text/plain": [
       "<matplotlib.lines.Line2D at 0x7ffcc34f0b10>"
      ]
     },
     "execution_count": 34,
     "metadata": {},
     "output_type": "execute_result"
    },
    {
     "data": {
      "image/png": "[encoded data removed]",
      "text/plain": [
       "<Figure size 432x288 with 1 Axes>"
      ]
     },
     "metadata": {},
     "output_type": "display_data"
    }
   ],
   "source": [
    "beta  = df.T.filter(regex='beta\\[').T['Mean'].values\n",
    "alpha = df.T.filter(regex='alpha\\[').T['Mean'].values\n",
    "ax = sns.scatterplot(x=beta, y=alpha, hue=hue)\n",
    "ax.axhline(1 / 0.75, color='0.5', linestyle='--', zorder=-1)"
   ]
  },
  {
   "cell_type": "code",
   "execution_count": null,
   "id": "326864b2-cc57-4bb2-b0d1-31c84fa42d8d",
   "metadata": {},
   "outputs": [],
   "source": []
  },
  {
   "cell_type": "markdown",
   "id": "7b455be9-5515-4778-a958-7945b922400e",
   "metadata": {},
   "source": [
    "## variance explained"
   ]
  },
  {
   "cell_type": "code",
   "execution_count": 37,
   "id": "ea2838a1-5eb1-45b1-8859-bd7e130716ea",
   "metadata": {},
   "outputs": [],
   "source": [
    "from statsmodels.api import OLS\n",
    "\n",
    "df = read_csv('stan_results/3pl_summary.tsv', sep='\\t', index_col=0)"
   ]
  },
  {
   "cell_type": "markdown",
   "id": "083985dc-5d3e-4481-be68-df8918de8d8b",
   "metadata": {},
   "source": [
    "#### subject ability"
   ]
  },
  {
   "cell_type": "code",
   "execution_count": 58,
   "id": "fd23a81a-7f8e-4a1b-a176-2916dced2d03",
   "metadata": {},
   "outputs": [
    {
     "name": "stdout",
     "output_type": "stream",
     "text": [
      "0.188\n",
      "0.199\n",
      "0.522\n",
      "0.668\n"
     ]
    }
   ],
   "source": [
    "rho = df.T.filter(regex='rho').T['Mean'].values\n",
    "theta = df.T.filter(regex='theta\\[').T['Mean'].values\n",
    "theta -= theta.mean()\n",
    "\n",
    "## Prepare design matrix.\n",
    "zscore = lambda x: (x - np.nanmean(x)) / np.nanstd(x)\n",
    "X1 = read_csv('designs/X1.csv').apply(zscore).fillna(0)\n",
    "X1 = X1.values\n",
    "\n",
    "for i in range(1,5):\n",
    "\n",
    "    mu = X1[:,:i] @ rho[:i]\n",
    "    mu -= mu.mean()\n",
    "\n",
    "    fit = OLS(theta, mu).fit()\n",
    "    print(fit.rsquared.round(3))"
   ]
  },
  {
   "cell_type": "markdown",
   "id": "4499ff63-e552-4813-b0b2-400521768826",
   "metadata": {},
   "source": [
    "#### item difficulty"
   ]
  },
  {
   "cell_type": "code",
   "execution_count": 65,
   "id": "aaa6a4b9-9f3e-4b47-a06b-36c469af476f",
   "metadata": {},
   "outputs": [
    {
     "name": "stdout",
     "output_type": "stream",
     "text": [
      "0.208\n",
      "0.412\n",
      "0.565\n",
      "0.762\n"
     ]
    }
   ],
   "source": [
    "beta_mu = df.T.filter(regex='beta_mu').T['Mean'].values\n",
    "beta = df.T.filter(regex='beta\\[').T['Mean'].values\n",
    "beta -= beta.mean()\n",
    "\n",
    "## Prepare design matrix.\n",
    "zscore = lambda x: (x - np.nanmean(x)) / np.nanstd(x)\n",
    "X2 = read_csv('designs/X2.csv').apply(zscore).fillna(1)\n",
    "X2 = X2.values\n",
    "\n",
    "for i in range(2,6):\n",
    "\n",
    "    mu = X2[:,:i] @ beta_mu[:i]\n",
    "    mu -= mu.mean()\n",
    "\n",
    "    fit = OLS(beta, mu).fit()\n",
    "    print(fit.rsquared.round(3))"
   ]
  },
  {
   "cell_type": "code",
   "execution_count": 68,
   "id": "a25a8daf-445f-4490-abc4-0be53f26b581",
   "metadata": {},
   "outputs": [
    {
     "data": {
      "text/plain": [
       "0.19700000000000006"
      ]
     },
     "execution_count": 68,
     "metadata": {},
     "output_type": "execute_result"
    }
   ],
   "source": [
    ".762 - .565"
   ]
  },
  {
   "cell_type": "markdown",
   "id": "cc0ae770-9a1d-47e7-a067-7a21fe7a1c0e",
   "metadata": {},
   "source": [
    "#### item discrimination"
   ]
  },
  {
   "cell_type": "code",
   "execution_count": 70,
   "id": "1a6d4d03-6bd7-423d-b973-d6b7ff9ddf5e",
   "metadata": {},
   "outputs": [
    {
     "name": "stdout",
     "output_type": "stream",
     "text": [
      "0.196\n",
      "0.794\n",
      "0.81\n",
      "0.86\n"
     ]
    }
   ],
   "source": [
    "alpha_mu = df.T.filter(regex='alpha_mu').T['Mean'].values\n",
    "alpha = np.log(df.T.filter(regex='alpha\\[').T['Mean'].values)\n",
    "alpha -= alpha.mean()\n",
    "\n",
    "## Prepare design matrix.\n",
    "zscore = lambda x: (x - np.nanmean(x)) / np.nanstd(x)\n",
    "X2 = read_csv('designs/X2.csv').apply(zscore).fillna(1)\n",
    "X2 = X2.values\n",
    "\n",
    "for i in range(2,6):\n",
    "\n",
    "    mu = X2[:,:i] @ alpha_mu[:i]\n",
    "    mu -= mu.mean()\n",
    "\n",
    "    fit = OLS(alpha, mu).fit()\n",
    "    print(fit.rsquared.round(3))"
   ]
  },
  {
   "cell_type": "code",
   "execution_count": 72,
   "id": "a5d02604-2c79-4b67-9cf2-33a0fd95aa0b",
   "metadata": {},
   "outputs": [
    {
     "data": {
      "text/plain": [
       "3.0"
      ]
     },
     "execution_count": 72,
     "metadata": {},
     "output_type": "execute_result"
    }
   ],
   "source": [
    "15 * 12 / 60"
   ]
  },
  {
   "cell_type": "code",
   "execution_count": 28,
   "id": "fda6d879-29b4-4498-a340-4d0f657f2dd9",
   "metadata": {},
   "outputs": [
    {
     "data": {
      "text/plain": [
       "<matplotlib.lines.Line2D at 0x7ffcc1bea610>"
      ]
     },
     "execution_count": 28,
     "metadata": {},
     "output_type": "execute_result"
    },
    {
     "data": {
      "image/png": "[encoded data removed]",
      "text/plain": [
       "<Figure size 432x288 with 1 Axes>"
      ]
     },
     "metadata": {},
     "output_type": "display_data"
    }
   ],
   "source": [
    "items = [ 6, 10, 11, 12, 13, 14, 15, 16, 17, 18, 19, 20, 21, 22, 23, 24, 25,\n",
    "       26, 27, 28, 29, 30, 31, 34, 35, 36, 37, 39, 40, 42, 44, 45, 46, 47,\n",
    "       49, 50, 51, 52, 53, 54, 55, 56, 58, 59, 60, 61, 62, 63, 64, 65, 66,\n",
    "       67, 69, 70, 71, 72, 73, 74, 75, 76, 77, 78, 79, 80]\n",
    "dif = [ 6, 18, 24, 26, 34, 47, 50, 52, 54, 61, 66, 75]\n",
    "\n",
    "hue = np.repeat(np.in1d(items, dif), 2)\n",
    "\n",
    "beta  = df.T.filter(regex='beta\\[').T['Mean'].values\n",
    "alpha = df.T.filter(regex='alpha\\[').T['Mean'].values\n",
    "ax = sns.scatterplot(x=beta, y=alpha, hue=hue)\n",
    "ax.axhline(1 / 0.75, color='0.5', linestyle='--', zorder=-1)"
   ]
  },
  {
   "cell_type": "code",
   "execution_count": 31,
   "id": "e371fdb3-b1ce-4aff-bab9-ba50852c5d33",
   "metadata": {},
   "outputs": [
    {
     "data": {
      "text/plain": [
       "array([ True,  True, False, False, False, False, False, False, False,\n",
       "       False, False, False, False, False, False, False, False, False,\n",
       "        True,  True, False, False, False, False, False, False, False,\n",
       "       False, False, False,  True,  True, False, False,  True,  True,\n",
       "       False, False, False, False, False, False, False, False, False,\n",
       "       False,  True,  True, False, False, False, False, False, False,\n",
       "       False, False, False, False, False, False, False, False, False,\n",
       "       False, False, False,  True,  True, False, False,  True,  True,\n",
       "       False, False,  True,  True, False, False,  True,  True, False,\n",
       "       False, False, False, False, False, False, False, False, False,\n",
       "        True,  True, False, False, False, False, False, False, False,\n",
       "       False,  True,  True, False, False, False, False, False, False,\n",
       "       False, False, False, False, False, False, False, False,  True,\n",
       "        True, False, False, False, False, False, False, False, False,\n",
       "       False, False])"
      ]
     },
     "execution_count": 31,
     "metadata": {},
     "output_type": "execute_result"
    }
   ],
   "source": [
    "hue"
   ]
  },
  {
   "cell_type": "code",
   "execution_count": null,
   "id": "026118c2-c8ab-4ead-b15f-65b7d75f53a6",
   "metadata": {},
   "outputs": [],
   "source": [
    "## Load data.\n",
    "data = read_csv(os.path.join('data', 'data.csv'))\n",
    "\n",
    "## Apply rejections.\n",
    "reject = read_csv(os.path.join('data', 'reject.csv'))\n",
    "data = data.loc[data.subject.isin(reject.query('reject==0').subject)]\n",
    "\n",
    "## Re-index items.\n",
    "data['item_id'] = data.apply(lambda x: '%0.2d' %x['item'] + '_' + x['distractor'], 1)\n",
    "\n",
    "## Score missing data.\n",
    "data['accuracy'] = data['accuracy'].fillna(0)"
   ]
  },
  {
   "cell_type": "code",
   "execution_count": null,
   "id": "87a7d06d-b3da-4a08-9ffe-3d072127f590",
   "metadata": {},
   "outputs": [],
   "source": [
    "from statsmodels.api import OLS\n",
    "\n",
    "y = data.groupby('item_id').rt.mean().values\n",
    "X = np.column_stack([np.ones_like(beta), zscore(beta), zscore(alpha)])\n",
    "\n",
    "\n",
    "fit = OLS(y, X).fit()\n",
    "fit.summary()"
   ]
  },
  {
   "cell_type": "code",
   "execution_count": null,
   "id": "8fcf7d67-b80d-43ea-866d-f9c5c5f5cc33",
   "metadata": {},
   "outputs": [],
   "source": [
    "from statsmodels.api import OLS\n",
    "\n",
    "y = np.log(alpha)\n",
    "x = zscore(data.groupby('item_id').rt.mean().values)\n",
    "X = np.column_stack([np.ones_like(beta), x, x**2])\n",
    "\n",
    "\n",
    "fit = OLS(y, X).fit()\n",
    "fit.summary()"
   ]
  },
  {
   "cell_type": "markdown",
   "id": "4e3ac2bb-3ea0-4ef9-b6c5-c55a133f35e0",
   "metadata": {},
   "source": [
    "## Section 2: Item Description"
   ]
  },
  {
   "cell_type": "code",
   "execution_count": 3,
   "id": "f7eaed72-fdbd-476d-8c69-a17e2fec665f",
   "metadata": {},
   "outputs": [
    {
     "name": "stderr",
     "output_type": "stream",
     "text": [
      "/Users/szoro/Documents/software/anaconda3.7/lib/python3.7/site-packages/numpy/lib/function_base.py:2642: RuntimeWarning: invalid value encountered in true_divide\n",
      "  c /= stddev[:, None]\n",
      "/Users/szoro/Documents/software/anaconda3.7/lib/python3.7/site-packages/numpy/lib/function_base.py:2643: RuntimeWarning: invalid value encountered in true_divide\n",
      "  c /= stddev[None, :]\n"
     ]
    },
    {
     "data": {
      "text/plain": [
       "<AxesSubplot:xlabel='accuracy'>"
      ]
     },
     "execution_count": 3,
     "metadata": {},
     "output_type": "execute_result"
    },
    {
     "data": {
      "image/png": "[encoded data removed]",
      "text/plain": [
       "<Figure size 432x288 with 1 Axes>"
      ]
     },
     "metadata": {},
     "output_type": "display_data"
    }
   ],
   "source": [
    "sum_scores = data.groupby('subject').accuracy.sum()\n",
    "f = lambda x: np.corrcoef(sum_scores[x.subject], x.accuracy)[0,1]\n",
    "a = data.groupby('item_id').apply(f).fillna(0)\n",
    "b = data.groupby('item_id').accuracy.mean()\n",
    "sns.scatterplot(x=b, y=a)"
   ]
  }
 ],
 "metadata": {
  "kernelspec": {
   "display_name": "Python 3",
   "language": "python",
   "name": "python3"
  },
  "language_info": {
   "codemirror_mode": {
    "name": "ipython",
    "version": 3
   },
   "file_extension": ".py",
   "mimetype": "text/x-python",
   "name": "python",
   "nbconvert_exporter": "python",
   "pygments_lexer": "ipython3",
   "version": "3.7.9"
  }
 },
 "nbformat": 4,
 "nbformat_minor": 5
}

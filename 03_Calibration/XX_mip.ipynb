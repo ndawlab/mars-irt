{
 "cells": [
  {
   "cell_type": "markdown",
   "id": "d6657eb3-6f2c-442b-9f52-ab2e31a2944e",
   "metadata": {},
   "source": [
    "## Example 1"
   ]
  },
  {
   "cell_type": "code",
   "execution_count": 1,
   "id": "6c0427c9-e6d7-4679-82d4-cda0ae68e31c",
   "metadata": {},
   "outputs": [
    {
     "name": "stdout",
     "output_type": "stream",
     "text": [
      "[ 0  2 21 38 48 50 55 67 94 98]\n",
      "[ 0  2 21 38 48 50 55 67 94 98]\n"
     ]
    }
   ],
   "source": [
    "import numpy as np\n",
    "from mip import Model, xsum, maximize, BINARY\n",
    "np.random.seed(47404)\n",
    "\n",
    "I = np.random.uniform(0.5,1.5,100)\n",
    "n = len(I)\n",
    "c = 10\n",
    "\n",
    "## Initialize model.\n",
    "m = Model(\"assembly\")\n",
    "\n",
    "## Add binary variables.\n",
    "x = [m.add_var(var_type=BINARY) for i in range(n)]\n",
    "\n",
    "## Define objective.\n",
    "m.objective = maximize(xsum(I[i] * x[i] for i in range(n)))\n",
    "\n",
    "## Define contraint (maximum number of items).\n",
    "m += xsum(x[i] for i in range(n)) <= c\n",
    "\n",
    "## Optimize.\n",
    "m.optimize(max_seconds=120)\n",
    "\n",
    "optimal = np.sort(np.arange(n)[np.argsort(I)[::-1]][:10])\n",
    "selected = np.array([i for i in range(n) if x[i].x >= 0.99])\n",
    "print(optimal)\n",
    "print(selected)"
   ]
  },
  {
   "cell_type": "markdown",
   "id": "2c87afbe-e4d7-4757-a86b-4daac5d1c6f4",
   "metadata": {},
   "source": [
    "## Example 2"
   ]
  },
  {
   "cell_type": "code",
   "execution_count": 2,
   "id": "f743c68d-4638-419b-bd3f-062650dc7db1",
   "metadata": {},
   "outputs": [
    {
     "name": "stdout",
     "output_type": "stream",
     "text": [
      "[ 1  2  7 15 37 50 55 63 69 75]\n",
      "[ 1  2  7 13 15 37 50 55 67 93]\n"
     ]
    }
   ],
   "source": [
    "import numpy as np\n",
    "from mip import Model, xsum, maximize, BINARY\n",
    "np.random.seed(47404)\n",
    "\n",
    "I1 = np.random.uniform(0.5,1.5,100)\n",
    "I2 = np.random.uniform(0.5,1.5,100)\n",
    "I3 = np.random.uniform(0.5,1.5,100)\n",
    "I = I1 + I2 + I3\n",
    "n = len(I)\n",
    "c = 10\n",
    "\n",
    "## Initialize model.\n",
    "m = Model(\"assembly\")\n",
    "\n",
    "## Add binary variables.\n",
    "x = [m.add_var(var_type=BINARY) for i in range(n)]\n",
    "\n",
    "## Define objective.\n",
    "m.objective = maximize(xsum(x[i] * (I1[i] + I2[i] + I3[i]) for i in range(n)))\n",
    "\n",
    "## Define contraint (maximum number of items).\n",
    "m += xsum(x[i] for i in range(n)) <= c\n",
    "m += xsum(x[i] * (I1[i] - I2[i]) for i in range(n)) <= 0.001\n",
    "m += xsum(x[i] * (I1[i] - I2[i]) for i in range(n)) >= -0.001\n",
    "\n",
    "## Optimize.\n",
    "m.optimize(max_seconds=120)\n",
    "\n",
    "optimal = np.sort(np.arange(n)[np.argsort(I)[::-1]][:10])\n",
    "selected = np.array([i for i in range(n) if x[i].x >= 0.99])\n",
    "print(optimal)\n",
    "print(selected)"
   ]
  },
  {
   "cell_type": "markdown",
   "id": "b91a7c0a-b2d1-45ab-ad60-e921ca5dfc96",
   "metadata": {},
   "source": [
    "## Example 3"
   ]
  },
  {
   "cell_type": "code",
   "execution_count": 16,
   "id": "28077f3c-bc54-4f7a-9f77-21736779f389",
   "metadata": {},
   "outputs": [
    {
     "name": "stdout",
     "output_type": "stream",
     "text": [
      "[ 0  2 11 17 21 24 37 38 44 48]\n",
      "[ 1  2  7  8 13 15 21 37 45 48]\n"
     ]
    }
   ],
   "source": [
    "import numpy as np\n",
    "from mip import Model, xsum, maximize, BINARY\n",
    "np.random.seed(47404)\n",
    "\n",
    "I = np.random.uniform(0.5,1.5,50)\n",
    "n = len(I)\n",
    "c = 10\n",
    "\n",
    "## Initialize model.\n",
    "m = Model(\"assembly\")\n",
    "\n",
    "## Add binary variables.\n",
    "x = [m.add_var(var_type=BINARY) for i in range(n)]\n",
    "\n",
    "## Define objective.\n",
    "m.objective = maximize(xsum(x[i] * (I1[i] + I2[i] + I3[i]) for i in range(n)))\n",
    "\n",
    "## Define contraint (maximum number of items).\n",
    "m += xsum(x[i] for i in range(n)) <= c\n",
    "for i in range(0,n,2): \n",
    "    m += x[i] + x[i+1] <= 1\n",
    "\n",
    "## Optimize.\n",
    "m.optimize(max_seconds=120)\n",
    "\n",
    "optimal = np.sort(np.arange(n)[np.argsort(I)[::-1]][:10])\n",
    "selected = np.array([i for i in range(n) if x[i].x >= 0.99])\n",
    "print(optimal)\n",
    "print(selected)"
   ]
  },
  {
   "cell_type": "code",
   "execution_count": 37,
   "id": "1307d14d-4295-4d34-bc53-c8a423c793fd",
   "metadata": {},
   "outputs": [],
   "source": [
    "import os\n",
    "import numpy as np\n",
    "import matplotlib.pyplot as plt\n",
    "import seaborn as sns\n",
    "from pandas import read_csv\n",
    "from scipy.stats import norm\n",
    "sns.set_theme(style='white', context='notebook', font_scale=1.33)\n",
    "\n",
    "## Extract parameters.\n",
    "params = read_csv('stan_results/3pl_summary.tsv', sep='\\t', index_col=0)\n",
    "beta  = params.T.filter(regex='beta\\[').T['Mean'].values\n",
    "alpha = params.T.filter(regex='alpha\\[').T['Mean'].values\n",
    "\n",
    "## Extract DIF. \n",
    "dif = read_csv('stan_results/dif.csv')\n",
    "dif = np.repeat(np.where(dif.fwe2 < 0.05, 1, 0), 2)\n",
    "\n",
    "## Extract IFS.\n",
    "ifs = read_csv('stan_results/3pl_ifs.csv')\n",
    "ifs = np.where(ifs.p >= 0.95, 1, 0)\n",
    "\n",
    "## Define exclusions.\n",
    "exclude = np.logical_or(dif, ifs).astype(int)\n",
    "\n",
    "## \n",
    "items = np.arange(exclude.size)\n",
    "items = items[exclude == 0]\n",
    "beta  = beta[exclude == 0]\n",
    "alpha = alpha[exclude == 0]\n",
    "gamma = 0.25\n",
    "\n",
    "def inv_logit(x):\n",
    "    return 1 / (1 + np.exp(-x))\n",
    "\n",
    "theta = np.array([-1,0,1])\n",
    "template = norm(0,1).pdf(theta)\n",
    "\n",
    "mu = np.outer(theta, alpha) - beta\n",
    "p = gamma + (1-gamma) * inv_logit(mu)\n",
    "q = 1 - p\n",
    "\n",
    "I = alpha**2 * (q / p) * np.square((p - gamma) / (1 - gamma))\n",
    "I = I.T"
   ]
  },
  {
   "cell_type": "code",
   "execution_count": 38,
   "id": "2649c646-529d-4d44-bbee-74b2afd21298",
   "metadata": {},
   "outputs": [
    {
     "name": "stdout",
     "output_type": "stream",
     "text": [
      "[ 3 11 14 22 31 33 37 51 60 62 82 90]\n"
     ]
    }
   ],
   "source": [
    "import numpy as np\n",
    "from mip import Model, xsum, maximize, BINARY\n",
    "np.random.seed(47404)\n",
    "\n",
    "n = len(I)\n",
    "c = 12\n",
    "\n",
    "## Initialize model.\n",
    "m = Model(\"assembly\")\n",
    "\n",
    "## Add binary variables.\n",
    "x = [m.add_var(var_type=BINARY) for i in range(n)]\n",
    "\n",
    "## Define objective.\n",
    "m.objective = maximize(xsum(x[i] * I[i].sum() for i in range(n)))\n",
    "\n",
    "## Define contraint (maximum number of items).\n",
    "m += xsum(x[i] for i in range(n)) <= c\n",
    "for i in range(0,n,2): \n",
    "    m += x[i] + x[i+1] <= 1\n",
    "\n",
    "## Optimize.\n",
    "m.optimize(max_seconds=120)\n",
    "\n",
    "selected = np.array([i for i in range(n) if x[i].x >= 0.99])\n",
    "print(selected)"
   ]
  },
  {
   "cell_type": "code",
   "execution_count": 39,
   "id": "3a56edf7-0700-473e-a1a2-d5a785b53131",
   "metadata": {
    "jupyter": {
     "source_hidden": true
    },
    "tags": []
   },
   "outputs": [],
   "source": [
    "theta = np.linspace(-3,3,1001)\n",
    "template = norm(0,1).pdf(theta)\n",
    "\n",
    "mu = np.outer(theta, alpha) - beta\n",
    "p = gamma + (1-gamma) * inv_logit(mu)\n",
    "q = 1 - p\n",
    "\n",
    "I = alpha**2 * (q / p) * np.square((p - gamma) / (1 - gamma))\n",
    "I = I.T"
   ]
  },
  {
   "cell_type": "code",
   "execution_count": 40,
   "id": "78e13e1e-6b42-4922-b992-47c19ff1af0c",
   "metadata": {},
   "outputs": [
    {
     "data": {
      "text/plain": [
       "[<matplotlib.lines.Line2D at 0x7fcdf2a32b50>]"
      ]
     },
     "execution_count": 40,
     "metadata": {},
     "output_type": "execute_result"
    },
    {
     "data": {
      "image/png": "[encoded data removed]",
      "text/plain": [
       "<Figure size 432x288 with 1 Axes>"
      ]
     },
     "metadata": {},
     "output_type": "display_data"
    }
   ],
   "source": [
    "plt.plot(theta, I[selected].sum(axis=0))"
   ]
  },
  {
   "cell_type": "code",
   "execution_count": null,
   "id": "d5da8bd6-d110-400b-899c-8cfbd5208c49",
   "metadata": {},
   "outputs": [],
   "source": []
  }
 ],
 "metadata": {
  "kernelspec": {
   "display_name": "Python 3",
   "language": "python",
   "name": "python3"
  },
  "language_info": {
   "codemirror_mode": {
    "name": "ipython",
    "version": 3
   },
   "file_extension": ".py",
   "mimetype": "text/x-python",
   "name": "python",
   "nbconvert_exporter": "python",
   "pygments_lexer": "ipython3",
   "version": "3.7.9"
  }
 },
 "nbformat": 4,
 "nbformat_minor": 5
}

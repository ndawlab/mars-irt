{
 "cells": [
  {
   "cell_type": "code",
   "execution_count": 1,
   "id": "b195559f-a9d6-4998-b102-1a8053056181",
   "metadata": {},
   "outputs": [],
   "source": [
    "import os\n",
    "import numpy as np\n",
    "import matplotlib.pyplot as plt\n",
    "import seaborn as sns\n",
    "from pandas import read_csv"
   ]
  },
  {
   "cell_type": "markdown",
   "id": "5af74854-3793-477a-8db1-fee91a551cd6",
   "metadata": {},
   "source": [
    "## Section 1: Model Comparison"
   ]
  },
  {
   "cell_type": "code",
   "execution_count": 32,
   "id": "46e52ad7-6fdd-413d-ad09-1ccfe38d37ec",
   "metadata": {},
   "outputs": [
    {
     "name": "stdout",
     "output_type": "stream",
     "text": [
      "m1:  -13682.584 | -13592.691 | 1155.670 | 115.556\n",
      "m2:  -13312.044 | -13210.953 | 1190.392 | 169.193\n",
      "m3:  -13532.890 | -13436.319 | 1234.753 | 208.260\n",
      "m4:  -13158.729 | -13050.601 | 1299.683 | 295.889\n"
     ]
    }
   ],
   "source": [
    "for m in range(4):\n",
    "    \n",
    "    ## Load ppc.\n",
    "    ppc = read_csv(os.path.join('stan_results', f'1pl_m{m+1}_ppc.csv'))\n",
    "    if np.any(ppc.k_u > 0.5): print(f'[m{m}] WARNING: k-hat measures above 0.5.')\n",
    "        \n",
    "    ## Model comparison.\n",
    "    louo = ppc.louo.sum()\n",
    "    loco = ppc.groupby('subject').loco.mean().sum()\n",
    "    pwaic_u = ppc.pwaic_u.sum()\n",
    "    pwaic_c = ppc.groupby('subject').pwaic_c.mean().sum()\n",
    "    \n",
    "    print('m%s:  %0.3f | %0.3f | %0.3f | %0.3f' %(m+1, louo, loco, pwaic_u, pwaic_c))"
   ]
  },
  {
   "cell_type": "code",
   "execution_count": null,
   "id": "27525cde-b98b-4ae7-9411-751aea715515",
   "metadata": {},
   "outputs": [],
   "source": [
    "from itertools import combinations\n",
    "\n",
    "for a, b in combinations([1,2,3,4],2):\n",
    "    \n",
    "    ## Load data.\n",
    "    df1 = read_csv(os.path.join('stan_results', f'1pl_m{a}_ppc.csv'))\n",
    "    df2 = read_csv(os.path.join('stan_results', f'1pl_m{b}_ppc.csv'))\n",
    "    \n",
    "    arr = df2.groupby('subject').loco.mean() - df1.groupby('subject').loco.mean()\n",
    "    \n",
    "    ## Compute stats.\n",
    "    N = df1.subject.nunique()\n",
    "    mu = np.sum(arr)\n",
    "    se = np.std(arr) * np.sqrt(N)\n",
    "    \n",
    "    print(f'm{b} - m{a}: %0.3f (%0.3f)' %(mu, se))"
   ]
  },
  {
   "cell_type": "code",
   "execution_count": null,
   "id": "ceff5395-ebb0-400d-a881-775cdf2bfeef",
   "metadata": {},
   "outputs": [],
   "source": [
    "fig, axes = plt.subplots(1,4,figsize=(10,3.5),sharex=True,sharey=True)\n",
    "agg = {'accuracy':'mean', 'y_hat':'mean'}\n",
    "\n",
    "for m, ax in enumerate(axes.flatten()):\n",
    "    \n",
    "    ppc = read_csv(os.path.join('stan_results', f'1pl_m{m+1}_ppc.csv'))\n",
    "    gb = ppc.groupby('subject').agg(agg)\n",
    "    \n",
    "    sns.scatterplot(x='accuracy', y='y_hat', data=gb, s=50, ax=ax)\n",
    "    ax.plot([0,1],[0,1])\n",
    "    \n",
    "sns.despine()\n",
    "plt.tight_layout()"
   ]
  },
  {
   "cell_type": "code",
   "execution_count": null,
   "id": "af946b68-5085-4de7-b31a-388e219c9997",
   "metadata": {},
   "outputs": [],
   "source": [
    "fig, axes = plt.subplots(1,4,figsize=(10,3.5),sharex=True,sharey=True)\n",
    "agg = {'accuracy':'mean', 'y_hat':'mean'}\n",
    "\n",
    "for m, ax in enumerate(axes.flatten()):\n",
    "    \n",
    "    ppc = read_csv(os.path.join('stan_results', f'1pl_m{m+1}_ppc.csv'))\n",
    "    gb = ppc.groupby(['item','distractor','test_form']).agg(agg).reset_index()\n",
    "    gb['delta'] = gb['accuracy'] - gb['y_hat']\n",
    "    \n",
    "    sns.scatterplot(x='accuracy', y='y_hat', data=gb, hue='distractor', s=50, ax=ax)\n",
    "    ax.plot([0,1],[0,1])"
   ]
  },
  {
   "cell_type": "code",
   "execution_count": null,
   "id": "67266586-43f3-4c0d-8129-6303e7923e04",
   "metadata": {},
   "outputs": [],
   "source": [
    "fig, axes = plt.subplots(1,4,figsize=(10,3.5),sharex=True,sharey=True)\n",
    "agg = {'accuracy':'mean', 'y_hat':'mean'}\n",
    "\n",
    "for m, ax in enumerate(axes.flatten()):\n",
    "    \n",
    "    ppc = read_csv(os.path.join('stan_results',  f'1pl_m{m+1}_ppc.csv'))\n",
    "    gb = ppc.groupby(['item','distractor','shape_set']).agg(agg).reset_index()\n",
    "    gb['delta'] = gb['accuracy'] - gb['y_hat']\n",
    "    \n",
    "    sns.scatterplot(x='accuracy', y='y_hat', data=gb, hue='shape_set', s=50, ax=ax)\n",
    "    ax.plot([0,1],[0,1])"
   ]
  },
  {
   "cell_type": "code",
   "execution_count": null,
   "id": "b2a93609-d5ec-480e-a8c9-c1aa01c3e4f1",
   "metadata": {},
   "outputs": [],
   "source": [
    "df = read_csv('stan_results/1pl_m3_summary.tsv', sep='\\t', index_col=0)\n",
    "mu = df.T.filter(regex='mu').T['Mean'].values"
   ]
  },
  {
   "cell_type": "code",
   "execution_count": null,
   "id": "b93ea5a0-f883-44f1-8ccb-a7ac3bd16c52",
   "metadata": {},
   "outputs": [],
   "source": []
  }
 ],
 "metadata": {
  "kernelspec": {
   "display_name": "Python 3",
   "language": "python",
   "name": "python3"
  },
  "language_info": {
   "codemirror_mode": {
    "name": "ipython",
    "version": 3
   },
   "file_extension": ".py",
   "mimetype": "text/x-python",
   "name": "python",
   "nbconvert_exporter": "python",
   "pygments_lexer": "ipython3",
   "version": "3.7.9"
  }
 },
 "nbformat": 4,
 "nbformat_minor": 5
}

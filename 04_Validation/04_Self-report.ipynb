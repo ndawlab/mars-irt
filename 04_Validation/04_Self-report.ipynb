{
 "cells": [
  {
   "cell_type": "code",
   "execution_count": 1,
   "id": "1b03b0e2-0515-4d52-b60d-caf2586fab76",
   "metadata": {},
   "outputs": [],
   "source": [
    "import os\n",
    "import numpy as np\n",
    "import matplotlib.pyplot as plt\n",
    "import seaborn as sns\n",
    "from pandas import DataFrame, read_csv\n",
    "sns.set_theme(style='white', context='notebook', font_scale=1.33)"
   ]
  },
  {
   "cell_type": "markdown",
   "id": "c7ca0f0e-de71-4058-a877-8bf2664d6d16",
   "metadata": {},
   "source": [
    "## Section 1: Self-Report Data"
   ]
  },
  {
   "cell_type": "code",
   "execution_count": 2,
   "id": "161b794c-8089-40d0-a999-4141334b6cea",
   "metadata": {},
   "outputs": [],
   "source": [
    "## Load data.\n",
    "surveys = read_csv(os.path.join('data', 'surveys.csv'))\n",
    "mars = read_csv(os.path.join('data', 'mars.csv'))\n",
    "\n",
    "## Apply rejections.\n",
    "reject = read_csv(os.path.join('data', 'reject.csv'))\n",
    "surveys = surveys[surveys.subject.isin(reject.query('reject == 0').subject)].reset_index(drop=True)\n",
    "mars = mars[mars.subject.isin(reject.query('reject == 0').subject)].reset_index(drop=True)\n",
    "\n",
    "## Handle missing responses.\n",
    "mars = mars.fillna(0)\n",
    "\n",
    "## Compute sum scores.\n",
    "surveys['nfc10'] = surveys.filter(regex='nfc10_q').values[:,:-1].sum(axis=1)\n",
    "surveys['pcf'] = surveys.filter(regex='pcf_q').values[:,:-1].sum(axis=1)\n",
    "surveys['sns'] = surveys.filter(regex='sns_q').values[:,:-1].sum(axis=1)\n",
    "\n",
    "## Merge scores.\n",
    "scores = mars.groupby('subject').accuracy.sum().reset_index(name='mars')\n",
    "scores = scores.merge(surveys[['subject','nfc10','pcf','sns']])"
   ]
  },
  {
   "cell_type": "markdown",
   "id": "183519c6-4b5a-48a1-b8d5-38cbfbb04c7e",
   "metadata": {},
   "source": [
    "### 1.1 Summarize data"
   ]
  },
  {
   "cell_type": "code",
   "execution_count": 3,
   "id": "b9f4808a-c22f-44fe-9a2f-269163e68436",
   "metadata": {},
   "outputs": [
    {
     "data": {
      "text/html": [
       "<div>\n",
       "<style scoped>\n",
       "    .dataframe tbody tr th:only-of-type {\n",
       "        vertical-align: middle;\n",
       "    }\n",
       "\n",
       "    .dataframe tbody tr th {\n",
       "        vertical-align: top;\n",
       "    }\n",
       "\n",
       "    .dataframe thead th {\n",
       "        text-align: right;\n",
       "    }\n",
       "</style>\n",
       "<table border=\"1\" class=\"dataframe\">\n",
       "  <thead>\n",
       "    <tr style=\"text-align: right;\">\n",
       "      <th></th>\n",
       "      <th>mean</th>\n",
       "      <th>std</th>\n",
       "      <th>25%</th>\n",
       "      <th>75%</th>\n",
       "      <th>nfc10</th>\n",
       "      <th>pcf</th>\n",
       "      <th>sns</th>\n",
       "      <th>mars</th>\n",
       "    </tr>\n",
       "  </thead>\n",
       "  <tbody>\n",
       "    <tr>\n",
       "      <th>mars</th>\n",
       "      <td>8.00</td>\n",
       "      <td>2.53</td>\n",
       "      <td>6.00</td>\n",
       "      <td>10.00</td>\n",
       "      <td>-0.04</td>\n",
       "      <td>0.04</td>\n",
       "      <td>0.14</td>\n",
       "      <td>1.00</td>\n",
       "    </tr>\n",
       "    <tr>\n",
       "      <th>nfc10</th>\n",
       "      <td>25.03</td>\n",
       "      <td>8.27</td>\n",
       "      <td>20.00</td>\n",
       "      <td>31.00</td>\n",
       "      <td>1.00</td>\n",
       "      <td>0.27</td>\n",
       "      <td>0.46</td>\n",
       "      <td>-0.04</td>\n",
       "    </tr>\n",
       "    <tr>\n",
       "      <th>pcf</th>\n",
       "      <td>22.17</td>\n",
       "      <td>6.29</td>\n",
       "      <td>18.75</td>\n",
       "      <td>26.25</td>\n",
       "      <td>0.27</td>\n",
       "      <td>1.00</td>\n",
       "      <td>0.29</td>\n",
       "      <td>0.04</td>\n",
       "    </tr>\n",
       "    <tr>\n",
       "      <th>sns</th>\n",
       "      <td>29.07</td>\n",
       "      <td>7.48</td>\n",
       "      <td>25.00</td>\n",
       "      <td>35.00</td>\n",
       "      <td>0.46</td>\n",
       "      <td>0.29</td>\n",
       "      <td>1.00</td>\n",
       "      <td>0.14</td>\n",
       "    </tr>\n",
       "  </tbody>\n",
       "</table>\n",
       "</div>"
      ],
      "text/plain": [
       "        mean   std    25%    75%  nfc10   pcf   sns  mars\n",
       "mars    8.00  2.53   6.00  10.00  -0.04  0.04  0.14  1.00\n",
       "nfc10  25.03  8.27  20.00  31.00   1.00  0.27  0.46 -0.04\n",
       "pcf    22.17  6.29  18.75  26.25   0.27  1.00  0.29  0.04\n",
       "sns    29.07  7.48  25.00  35.00   0.46  0.29  1.00  0.14"
      ]
     },
     "execution_count": 3,
     "metadata": {},
     "output_type": "execute_result"
    }
   ],
   "source": [
    "## Compute summary tables.\n",
    "summary = scores.describe().T\n",
    "corr = scores.corr(method='spearman')\n",
    "\n",
    "## Merge tables.\n",
    "summary = summary.merge(corr, left_index=True, right_index=True)\n",
    "\n",
    "## Restrict to variables of interest.\n",
    "summary = summary[['mean','std','25%','75%','nfc10','pcf','sns','mars']].round(2)\n",
    "summary"
   ]
  },
  {
   "cell_type": "code",
   "execution_count": 4,
   "id": "67eaa3d2-20ef-4783-8de2-0e9af4b4d093",
   "metadata": {},
   "outputs": [
    {
     "name": "stdout",
     "output_type": "stream",
     "text": [
      "\\begin{tabular}{lrrrrrrrr}\n",
      "\\toprule\n",
      "{} &   mean &   std &    25\\% &    75\\% &  nfc10 &   pcf &   sns &  mars \\\\\n",
      "\\midrule\n",
      "mars  &   8.00 &  2.53 &   6.00 &  10.00 &  -0.04 &  0.04 &  0.14 &  1.00 \\\\\n",
      "nfc10 &  25.03 &  8.27 &  20.00 &  31.00 &   1.00 &  0.27 &  0.46 & -0.04 \\\\\n",
      "pcf   &  22.17 &  6.29 &  18.75 &  26.25 &   0.27 &  1.00 &  0.29 &  0.04 \\\\\n",
      "sns   &  29.07 &  7.48 &  25.00 &  35.00 &   0.46 &  0.29 &  1.00 &  0.14 \\\\\n",
      "\\bottomrule\n",
      "\\end{tabular}\n",
      "\n"
     ]
    }
   ],
   "source": [
    "print(summary.to_latex())"
   ]
  },
  {
   "cell_type": "code",
   "execution_count": 5,
   "id": "78cd90f8-3ee1-4e55-82a4-c258e1b6e4d2",
   "metadata": {},
   "outputs": [
    {
     "name": "stdout",
     "output_type": "stream",
     "text": [
      "[mars, nfc10]:\trho = -0.037 pval = 0.522\n",
      "[mars, pcf]:\trho = 0.038 pval = 0.512\n",
      "[mars, sns]:\trho = 0.139 pval = 0.016\n",
      "[nfc10, pcf]:\trho = 0.274 pval = 0.000\n",
      "[nfc10, sns]:\trho = 0.465 pval = 0.000\n",
      "[pcf, sns]:\trho = 0.291 pval = 0.000\n"
     ]
    }
   ],
   "source": [
    "from itertools import combinations\n",
    "from scipy.stats import spearmanr\n",
    "\n",
    "for x, y in combinations(['mars','nfc10','pcf','sns'], 2):\n",
    "    rho, pval = spearmanr(scores[x], scores[y])\n",
    "    print('[%s, %s]:\\trho = %0.3f pval = %0.3f' %(x, y, rho, pval))"
   ]
  }
 ],
 "metadata": {
  "kernelspec": {
   "display_name": "Python 3",
   "language": "python",
   "name": "python3"
  },
  "language_info": {
   "codemirror_mode": {
    "name": "ipython",
    "version": 3
   },
   "file_extension": ".py",
   "mimetype": "text/x-python",
   "name": "python",
   "nbconvert_exporter": "python",
   "pygments_lexer": "ipython3",
   "version": "3.9.12"
  }
 },
 "nbformat": 4,
 "nbformat_minor": 5
}

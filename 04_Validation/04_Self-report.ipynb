{
 "cells": [
  {
   "cell_type": "code",
   "execution_count": 1,
   "id": "1b03b0e2-0515-4d52-b60d-caf2586fab76",
   "metadata": {},
   "outputs": [],
   "source": [
    "import os\n",
    "import numpy as np\n",
    "import matplotlib.pyplot as plt\n",
    "import seaborn as sns\n",
    "from pandas import DataFrame, read_csv, concat\n",
    "sns.set_theme(style='white', context='notebook', font_scale=1.33)"
   ]
  },
  {
   "cell_type": "markdown",
   "id": "c7ca0f0e-de71-4058-a877-8bf2664d6d16",
   "metadata": {},
   "source": [
    "## Section 1: Self-report data"
   ]
  },
  {
   "cell_type": "code",
   "execution_count": 2,
   "id": "ea974f63-3292-44c8-9210-e5a76df91a2f",
   "metadata": {},
   "outputs": [],
   "source": [
    "## Load MaRs-IB data.\n",
    "mars = concat([\n",
    "    read_csv(os.path.join('data', 'shortform', 'mars.csv')).assign(form='sf'),\n",
    "    read_csv(os.path.join('data', 'longform', 'mars.csv')).assign(form='lf')\n",
    "])\n",
    "\n",
    "## Load survey data.\n",
    "surveys = concat([\n",
    "    read_csv(os.path.join('data', 'shortform', 'surveys.csv')),\n",
    "    read_csv(os.path.join('data', 'longform', 'surveys.csv'))\n",
    "])\n",
    "\n",
    "## Apply rejections.\n",
    "reject = concat([\n",
    "    read_csv(os.path.join('data', 'shortform', 'reject.csv')),\n",
    "    read_csv(os.path.join('data', 'longform', 'reject.csv'))\n",
    "])\n",
    "surveys = surveys[surveys.subject.isin(reject.query('reject == 0').subject)].reset_index(drop=True)\n",
    "mars = mars[mars.subject.isin(reject.query('reject == 0').subject)].reset_index(drop=True)\n",
    "\n",
    "## Handle missing responses.\n",
    "mars = mars.fillna(0)\n",
    "\n",
    "## Compute sum scores.\n",
    "surveys['nfc10'] = surveys.filter(regex='nfc10_q').values[:,:-1].sum(axis=1)\n",
    "surveys['pcf'] = surveys.filter(regex='pcf_q').values[:,:-1].sum(axis=1)\n",
    "surveys['sns'] = surveys.filter(regex='sns_q').values[:,:-1].sum(axis=1)\n",
    "\n",
    "## Merge scores.\n",
    "scores = mars.pivot_table('accuracy', 'subject', 'form', aggfunc=np.sum).reset_index()\n",
    "scores = scores.merge(surveys[['subject','nfc10','pcf','sns']])"
   ]
  },
  {
   "cell_type": "markdown",
   "id": "183519c6-4b5a-48a1-b8d5-38cbfbb04c7e",
   "metadata": {},
   "source": [
    "### 1.1 Score summary"
   ]
  },
  {
   "cell_type": "code",
   "execution_count": 3,
   "id": "b9f4808a-c22f-44fe-9a2f-269163e68436",
   "metadata": {},
   "outputs": [
    {
     "data": {
      "text/html": [
       "<div>\n",
       "<style scoped>\n",
       "    .dataframe tbody tr th:only-of-type {\n",
       "        vertical-align: middle;\n",
       "    }\n",
       "\n",
       "    .dataframe tbody tr th {\n",
       "        vertical-align: top;\n",
       "    }\n",
       "\n",
       "    .dataframe thead th {\n",
       "        text-align: right;\n",
       "    }\n",
       "</style>\n",
       "<table border=\"1\" class=\"dataframe\">\n",
       "  <thead>\n",
       "    <tr style=\"text-align: right;\">\n",
       "      <th></th>\n",
       "      <th>mean</th>\n",
       "      <th>std</th>\n",
       "      <th>25%</th>\n",
       "      <th>75%</th>\n",
       "      <th>nfc10</th>\n",
       "      <th>pcf</th>\n",
       "      <th>sns</th>\n",
       "      <th>sf</th>\n",
       "      <th>lf</th>\n",
       "    </tr>\n",
       "  </thead>\n",
       "  <tbody>\n",
       "    <tr>\n",
       "      <th>nfc10</th>\n",
       "      <td>24.44</td>\n",
       "      <td>9.01</td>\n",
       "      <td>19.00</td>\n",
       "      <td>31.0</td>\n",
       "      <td>1.00</td>\n",
       "      <td>0.28</td>\n",
       "      <td>0.42</td>\n",
       "      <td>-0.04</td>\n",
       "      <td>0.12</td>\n",
       "    </tr>\n",
       "    <tr>\n",
       "      <th>pcf</th>\n",
       "      <td>22.58</td>\n",
       "      <td>6.45</td>\n",
       "      <td>18.00</td>\n",
       "      <td>28.0</td>\n",
       "      <td>0.28</td>\n",
       "      <td>1.00</td>\n",
       "      <td>0.32</td>\n",
       "      <td>0.04</td>\n",
       "      <td>-0.06</td>\n",
       "    </tr>\n",
       "    <tr>\n",
       "      <th>sns</th>\n",
       "      <td>29.02</td>\n",
       "      <td>7.36</td>\n",
       "      <td>24.75</td>\n",
       "      <td>35.0</td>\n",
       "      <td>0.42</td>\n",
       "      <td>0.32</td>\n",
       "      <td>1.00</td>\n",
       "      <td>0.14</td>\n",
       "      <td>0.18</td>\n",
       "    </tr>\n",
       "    <tr>\n",
       "      <th>sf</th>\n",
       "      <td>8.00</td>\n",
       "      <td>2.53</td>\n",
       "      <td>6.00</td>\n",
       "      <td>10.0</td>\n",
       "      <td>-0.04</td>\n",
       "      <td>0.04</td>\n",
       "      <td>0.14</td>\n",
       "      <td>1.00</td>\n",
       "      <td>NaN</td>\n",
       "    </tr>\n",
       "    <tr>\n",
       "      <th>lf</th>\n",
       "      <td>15.73</td>\n",
       "      <td>5.13</td>\n",
       "      <td>12.00</td>\n",
       "      <td>20.0</td>\n",
       "      <td>0.12</td>\n",
       "      <td>-0.06</td>\n",
       "      <td>0.18</td>\n",
       "      <td>NaN</td>\n",
       "      <td>1.00</td>\n",
       "    </tr>\n",
       "  </tbody>\n",
       "</table>\n",
       "</div>"
      ],
      "text/plain": [
       "        mean   std    25%   75%  nfc10   pcf   sns    sf    lf\n",
       "nfc10  24.44  9.01  19.00  31.0   1.00  0.28  0.42 -0.04  0.12\n",
       "pcf    22.58  6.45  18.00  28.0   0.28  1.00  0.32  0.04 -0.06\n",
       "sns    29.02  7.36  24.75  35.0   0.42  0.32  1.00  0.14  0.18\n",
       "sf      8.00  2.53   6.00  10.0  -0.04  0.04  0.14  1.00   NaN\n",
       "lf     15.73  5.13  12.00  20.0   0.12 -0.06  0.18   NaN  1.00"
      ]
     },
     "execution_count": 3,
     "metadata": {},
     "output_type": "execute_result"
    }
   ],
   "source": [
    "## Compute summary tables.\n",
    "summary = scores.describe().T\n",
    "corr = scores.corr(method='spearman')\n",
    "\n",
    "## Merge tables.\n",
    "summary = summary.merge(corr, left_index=True, right_index=True)\n",
    "\n",
    "## Restrict to variables of interest.\n",
    "cols = ['mean','std','25%','75%','nfc10','pcf','sns','sf','lf']\n",
    "rows = ['nfc10','pcf','sns','sf','lf']\n",
    "\n",
    "summary = summary.loc[rows,cols].round(2)\n",
    "summary"
   ]
  },
  {
   "cell_type": "code",
   "execution_count": 4,
   "id": "67eaa3d2-20ef-4783-8de2-0e9af4b4d093",
   "metadata": {},
   "outputs": [
    {
     "name": "stdout",
     "output_type": "stream",
     "text": [
      "\\begin{tabular}{lrrrrrrrrr}\n",
      "\\toprule\n",
      "{} &   mean &   std &    25\\% &   75\\% &  nfc10 &   pcf &   sns &    sf &    lf \\\\\n",
      "\\midrule\n",
      "nfc10 &  24.44 &  9.01 &  19.00 &  31.0 &   1.00 &  0.28 &  0.42 & -0.04 &  0.12 \\\\\n",
      "pcf   &  22.58 &  6.45 &  18.00 &  28.0 &   0.28 &  1.00 &  0.32 &  0.04 & -0.06 \\\\\n",
      "sns   &  29.02 &  7.36 &  24.75 &  35.0 &   0.42 &  0.32 &  1.00 &  0.14 &  0.18 \\\\\n",
      "sf    &   8.00 &  2.53 &   6.00 &  10.0 &  -0.04 &  0.04 &  0.14 &  1.00 &   NaN \\\\\n",
      "lf    &  15.73 &  5.13 &  12.00 &  20.0 &   0.12 & -0.06 &  0.18 &   NaN &  1.00 \\\\\n",
      "\\bottomrule\n",
      "\\end{tabular}\n",
      "\n"
     ]
    },
    {
     "name": "stderr",
     "output_type": "stream",
     "text": [
      "<ipython-input-4-7e93adafb0e5>:1: FutureWarning: In future versions `DataFrame.to_latex` is expected to utilise the base implementation of `Styler.to_latex` for formatting and rendering. The arguments signature may therefore change. It is recommended instead to use `DataFrame.style.to_latex` which also contains additional functionality.\n",
      "  print(summary.to_latex())\n"
     ]
    }
   ],
   "source": [
    "print(summary.to_latex())"
   ]
  },
  {
   "cell_type": "code",
   "execution_count": 5,
   "id": "78cd90f8-3ee1-4e55-82a4-c258e1b6e4d2",
   "metadata": {},
   "outputs": [
    {
     "name": "stdout",
     "output_type": "stream",
     "text": [
      "[sf, lf]:\trho = nan pval = nan\n",
      "[sf, nfc10]:\trho = -0.037 pval = 0.522\n",
      "[sf, pcf]:\trho = 0.038 pval = 0.512\n",
      "[sf, sns]:\trho = 0.139 pval = 0.016\n",
      "[lf, nfc10]:\trho = 0.116 pval = 0.045\n",
      "[lf, pcf]:\trho = -0.059 pval = 0.311\n",
      "[lf, sns]:\trho = 0.175 pval = 0.002\n",
      "[nfc10, pcf]:\trho = 0.281 pval = 0.000\n",
      "[nfc10, sns]:\trho = 0.423 pval = 0.000\n",
      "[pcf, sns]:\trho = 0.318 pval = 0.000\n"
     ]
    }
   ],
   "source": [
    "from itertools import combinations\n",
    "from scipy.stats import spearmanr\n",
    "\n",
    "for x, y in combinations(['sf','lf','nfc10','pcf','sns'], 2):\n",
    "    rho, pval = spearmanr(*scores[[x,y]].dropna().values.T)\n",
    "    print('[%s, %s]:\\trho = %0.3f pval = %0.3f' %(x, y, rho, pval))"
   ]
  }
 ],
 "metadata": {
  "kernelspec": {
   "display_name": "Python 3",
   "language": "python",
   "name": "python3"
  },
  "language_info": {
   "codemirror_mode": {
    "name": "ipython",
    "version": 3
   },
   "file_extension": ".py",
   "mimetype": "text/x-python",
   "name": "python",
   "nbconvert_exporter": "python",
   "pygments_lexer": "ipython3",
   "version": "3.9.12"
  }
 },
 "nbformat": 4,
 "nbformat_minor": 5
}

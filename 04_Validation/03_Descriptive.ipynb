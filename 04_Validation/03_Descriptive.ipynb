{
 "cells": [
  {
   "cell_type": "code",
   "execution_count": 1,
   "id": "d6c06774-2a99-4850-a60f-01ab128565ec",
   "metadata": {
    "tags": []
   },
   "outputs": [],
   "source": [
    "import os\n",
    "import numpy as np\n",
    "import matplotlib.pyplot as plt\n",
    "import seaborn as sns\n",
    "from pandas import DataFrame, read_csv\n",
    "sns.set_theme(style='white', context='notebook', font_scale=1.33)"
   ]
  },
  {
   "cell_type": "markdown",
   "id": "b48d8c47-ac01-4640-9a5c-43b36342642b",
   "metadata": {},
   "source": [
    "## Section 1: Demographics"
   ]
  },
  {
   "cell_type": "markdown",
   "id": "0d12167b-89f9-4a22-88ba-38e055649002",
   "metadata": {},
   "source": [
    "### 1.1 Short forms"
   ]
  },
  {
   "cell_type": "code",
   "execution_count": 2,
   "id": "a855ca49-c727-4efa-8eb3-9f5d751073f5",
   "metadata": {},
   "outputs": [],
   "source": [
    "## Load metadata.\n",
    "metadata = read_csv(os.path.join('data', 'shortform', 'metadata.csv'))\n",
    "\n",
    "## Apply rejections.\n",
    "reject = read_csv(os.path.join('data', 'shortform', 'reject.csv'))\n",
    "metadata = metadata[metadata.subject.isin(reject.query('reject == 0').subject)].reset_index(drop=True)"
   ]
  },
  {
   "cell_type": "markdown",
   "id": "43347273-3b6a-47cd-940a-4dec60b487bf",
   "metadata": {},
   "source": [
    "#### Gender / age composition"
   ]
  },
  {
   "cell_type": "code",
   "execution_count": 3,
   "id": "9ca2c95d-3854-4d49-b3d8-51564b017a97",
   "metadata": {},
   "outputs": [
    {
     "data": {
      "text/html": [
       "<div>\n",
       "<style scoped>\n",
       "    .dataframe tbody tr th:only-of-type {\n",
       "        vertical-align: middle;\n",
       "    }\n",
       "\n",
       "    .dataframe tbody tr th {\n",
       "        vertical-align: top;\n",
       "    }\n",
       "\n",
       "    .dataframe thead th {\n",
       "        text-align: right;\n",
       "    }\n",
       "</style>\n",
       "<table border=\"1\" class=\"dataframe\">\n",
       "  <thead>\n",
       "    <tr style=\"text-align: right;\">\n",
       "      <th></th>\n",
       "      <th>count</th>\n",
       "      <th>mean</th>\n",
       "      <th>std</th>\n",
       "      <th>min</th>\n",
       "      <th>25%</th>\n",
       "      <th>50%</th>\n",
       "      <th>75%</th>\n",
       "      <th>max</th>\n",
       "    </tr>\n",
       "    <tr>\n",
       "      <th>gender</th>\n",
       "      <th></th>\n",
       "      <th></th>\n",
       "      <th></th>\n",
       "      <th></th>\n",
       "      <th></th>\n",
       "      <th></th>\n",
       "      <th></th>\n",
       "      <th></th>\n",
       "    </tr>\n",
       "  </thead>\n",
       "  <tbody>\n",
       "    <tr>\n",
       "      <th>Female</th>\n",
       "      <td>147.0</td>\n",
       "      <td>33.0</td>\n",
       "      <td>13.1</td>\n",
       "      <td>18.0</td>\n",
       "      <td>23.0</td>\n",
       "      <td>29.0</td>\n",
       "      <td>41.0</td>\n",
       "      <td>70.0</td>\n",
       "    </tr>\n",
       "    <tr>\n",
       "      <th>Male</th>\n",
       "      <td>138.0</td>\n",
       "      <td>38.0</td>\n",
       "      <td>13.2</td>\n",
       "      <td>18.0</td>\n",
       "      <td>28.0</td>\n",
       "      <td>36.0</td>\n",
       "      <td>46.8</td>\n",
       "      <td>76.0</td>\n",
       "    </tr>\n",
       "    <tr>\n",
       "      <th>Other</th>\n",
       "      <td>13.0</td>\n",
       "      <td>27.5</td>\n",
       "      <td>6.5</td>\n",
       "      <td>19.0</td>\n",
       "      <td>22.0</td>\n",
       "      <td>26.0</td>\n",
       "      <td>30.0</td>\n",
       "      <td>39.0</td>\n",
       "    </tr>\n",
       "    <tr>\n",
       "      <th>Rather not say</th>\n",
       "      <td>2.0</td>\n",
       "      <td>25.5</td>\n",
       "      <td>3.5</td>\n",
       "      <td>23.0</td>\n",
       "      <td>24.2</td>\n",
       "      <td>25.5</td>\n",
       "      <td>26.8</td>\n",
       "      <td>28.0</td>\n",
       "    </tr>\n",
       "  </tbody>\n",
       "</table>\n",
       "</div>"
      ],
      "text/plain": [
       "                count  mean   std   min   25%   50%   75%   max\n",
       "gender                                                         \n",
       "Female          147.0  33.0  13.1  18.0  23.0  29.0  41.0  70.0\n",
       "Male            138.0  38.0  13.2  18.0  28.0  36.0  46.8  76.0\n",
       "Other            13.0  27.5   6.5  19.0  22.0  26.0  30.0  39.0\n",
       "Rather not say    2.0  25.5   3.5  23.0  24.2  25.5  26.8  28.0"
      ]
     },
     "execution_count": 3,
     "metadata": {},
     "output_type": "execute_result"
    }
   ],
   "source": [
    "## Describe gender composition.\n",
    "metadata.groupby('gender').age.describe().round(1)"
   ]
  },
  {
   "cell_type": "code",
   "execution_count": 4,
   "id": "a363ade4-44ca-48e4-b896-0cf6df9349c2",
   "metadata": {},
   "outputs": [
    {
     "data": {
      "text/plain": [
       "count    300.000000\n",
       "mean      34.996667\n",
       "std       13.202943\n",
       "min       18.000000\n",
       "25%       24.000000\n",
       "50%       32.000000\n",
       "75%       43.000000\n",
       "max       76.000000\n",
       "Name: age, dtype: float64"
      ]
     },
     "execution_count": 4,
     "metadata": {},
     "output_type": "execute_result"
    }
   ],
   "source": [
    "metadata.age.describe()"
   ]
  },
  {
   "cell_type": "markdown",
   "id": "a1e61345-b1ae-47e9-b44d-c6eecf2b3792",
   "metadata": {},
   "source": [
    "#### Race / ethnicity"
   ]
  },
  {
   "cell_type": "code",
   "execution_count": 5,
   "id": "c79ef2e3-fb1c-4629-a419-11d11ede759e",
   "metadata": {},
   "outputs": [
    {
     "data": {
      "text/plain": [
       "['White']                                                 226\n",
       "['Asian']                                                  27\n",
       "['Black or African American']                              26\n",
       "['Rather not say']                                          8\n",
       "['Asian', 'White']                                          7\n",
       "['Asian', 'Black or African American']                      2\n",
       "['Native Hawaiian or other Pacific Islander', 'White']      1\n",
       "['American Indian/Alaska Native']                           1\n",
       "['American Indian/Alaska Native', 'White']                  1\n",
       "['Black or African American', 'White']                      1\n",
       "Name: race, dtype: int64"
      ]
     },
     "execution_count": 5,
     "metadata": {},
     "output_type": "execute_result"
    }
   ],
   "source": [
    "## Describe race endorsement.\n",
    "metadata.race.value_counts()"
   ]
  },
  {
   "cell_type": "markdown",
   "id": "2811d5aa-f065-4604-b16c-3bd3a93bba09",
   "metadata": {},
   "source": [
    "#### Education"
   ]
  },
  {
   "cell_type": "code",
   "execution_count": 6,
   "id": "baee0130-336f-422f-8492-ffe231c2a73c",
   "metadata": {},
   "outputs": [
    {
     "data": {
      "text/plain": [
       "Bachelor degree            121\n",
       "Some college                74\n",
       "Master degree or higher     45\n",
       "High school                 31\n",
       "Associate degree            26\n",
       "Less than high school        2\n",
       "Rather not say               1\n",
       "Name: education, dtype: int64"
      ]
     },
     "execution_count": 6,
     "metadata": {},
     "output_type": "execute_result"
    }
   ],
   "source": [
    "## Describe education endorsement.\n",
    "metadata.education.value_counts()"
   ]
  },
  {
   "cell_type": "markdown",
   "id": "5e8473c9-ff27-4635-b019-07a7cd2074c7",
   "metadata": {},
   "source": [
    "### 1.2 Long forms"
   ]
  },
  {
   "cell_type": "code",
   "execution_count": 7,
   "id": "d4134bed-2daf-4e80-9217-45c160fc397e",
   "metadata": {},
   "outputs": [],
   "source": [
    "## Load metadata.\n",
    "metadata = read_csv(os.path.join('data', 'longform', 'metadata.csv'))\n",
    "\n",
    "## Apply rejections.\n",
    "reject = read_csv(os.path.join('data', 'longform', 'reject.csv'))\n",
    "metadata = metadata[metadata.subject.isin(reject.query('reject == 0').subject)].reset_index(drop=True)"
   ]
  },
  {
   "cell_type": "markdown",
   "id": "37d595a8-5ba8-4d9c-be45-1203b0fa0f87",
   "metadata": {},
   "source": [
    "#### Gender / age composition"
   ]
  },
  {
   "cell_type": "code",
   "execution_count": 8,
   "id": "072b8652-b5f1-453a-aef7-d3d23d40d28c",
   "metadata": {},
   "outputs": [
    {
     "data": {
      "text/html": [
       "<div>\n",
       "<style scoped>\n",
       "    .dataframe tbody tr th:only-of-type {\n",
       "        vertical-align: middle;\n",
       "    }\n",
       "\n",
       "    .dataframe tbody tr th {\n",
       "        vertical-align: top;\n",
       "    }\n",
       "\n",
       "    .dataframe thead th {\n",
       "        text-align: right;\n",
       "    }\n",
       "</style>\n",
       "<table border=\"1\" class=\"dataframe\">\n",
       "  <thead>\n",
       "    <tr style=\"text-align: right;\">\n",
       "      <th></th>\n",
       "      <th>count</th>\n",
       "      <th>mean</th>\n",
       "      <th>std</th>\n",
       "      <th>min</th>\n",
       "      <th>25%</th>\n",
       "      <th>50%</th>\n",
       "      <th>75%</th>\n",
       "      <th>max</th>\n",
       "    </tr>\n",
       "    <tr>\n",
       "      <th>gender</th>\n",
       "      <th></th>\n",
       "      <th></th>\n",
       "      <th></th>\n",
       "      <th></th>\n",
       "      <th></th>\n",
       "      <th></th>\n",
       "      <th></th>\n",
       "      <th></th>\n",
       "    </tr>\n",
       "  </thead>\n",
       "  <tbody>\n",
       "    <tr>\n",
       "      <th>Female</th>\n",
       "      <td>145.0</td>\n",
       "      <td>39.0</td>\n",
       "      <td>13.6</td>\n",
       "      <td>19.0</td>\n",
       "      <td>28.0</td>\n",
       "      <td>36.0</td>\n",
       "      <td>49.0</td>\n",
       "      <td>74.0</td>\n",
       "    </tr>\n",
       "    <tr>\n",
       "      <th>Male</th>\n",
       "      <td>142.0</td>\n",
       "      <td>38.3</td>\n",
       "      <td>12.2</td>\n",
       "      <td>18.0</td>\n",
       "      <td>30.0</td>\n",
       "      <td>35.5</td>\n",
       "      <td>44.0</td>\n",
       "      <td>73.0</td>\n",
       "    </tr>\n",
       "    <tr>\n",
       "      <th>Other</th>\n",
       "      <td>12.0</td>\n",
       "      <td>29.8</td>\n",
       "      <td>6.8</td>\n",
       "      <td>21.0</td>\n",
       "      <td>23.8</td>\n",
       "      <td>30.0</td>\n",
       "      <td>32.8</td>\n",
       "      <td>42.0</td>\n",
       "    </tr>\n",
       "  </tbody>\n",
       "</table>\n",
       "</div>"
      ],
      "text/plain": [
       "        count  mean   std   min   25%   50%   75%   max\n",
       "gender                                                 \n",
       "Female  145.0  39.0  13.6  19.0  28.0  36.0  49.0  74.0\n",
       "Male    142.0  38.3  12.2  18.0  30.0  35.5  44.0  73.0\n",
       "Other    12.0  29.8   6.8  21.0  23.8  30.0  32.8  42.0"
      ]
     },
     "execution_count": 8,
     "metadata": {},
     "output_type": "execute_result"
    }
   ],
   "source": [
    "## Describe gender composition.\n",
    "metadata.groupby('gender').age.describe().round(1)"
   ]
  },
  {
   "cell_type": "code",
   "execution_count": 9,
   "id": "0cad0bc6-30e0-49b1-a438-33ab7388b71b",
   "metadata": {},
   "outputs": [
    {
     "data": {
      "text/plain": [
       "count    299.000000\n",
       "mean      38.297659\n",
       "std       12.855483\n",
       "min       18.000000\n",
       "25%       29.000000\n",
       "50%       35.000000\n",
       "75%       45.500000\n",
       "max       74.000000\n",
       "Name: age, dtype: float64"
      ]
     },
     "execution_count": 9,
     "metadata": {},
     "output_type": "execute_result"
    }
   ],
   "source": [
    "metadata.age.describe()"
   ]
  },
  {
   "cell_type": "markdown",
   "id": "f403d8fd-d213-4420-bc5a-f19dd9404b90",
   "metadata": {},
   "source": [
    "#### Race / ethnicity"
   ]
  },
  {
   "cell_type": "code",
   "execution_count": 10,
   "id": "c8c4268f-94e1-4a56-91d3-eb371ecb81fd",
   "metadata": {},
   "outputs": [
    {
     "data": {
      "text/plain": [
       "['White']                                                                              249\n",
       "['Asian']                                                                               17\n",
       "['Black or African American']                                                           12\n",
       "['Black or African American', 'White']                                                   6\n",
       "['Asian', 'White']                                                                       5\n",
       "['American Indian/Alaska Native', 'White']                                               3\n",
       "['Rather not say']                                                                       2\n",
       "['Native Hawaiian or other Pacific Islander']                                            1\n",
       "['American Indian/Alaska Native', 'Asian', 'White']                                      1\n",
       "['American Indian/Alaska Native', 'Black or African American', 'White']                  1\n",
       "['Native Hawaiian or other Pacific Islander', 'Black or African American', 'White']      1\n",
       "['American Indian/Alaska Native']                                                        1\n",
       "['American Indian/Alaska Native', 'Asian', 'Black or African American']                  1\n",
       "Name: race, dtype: int64"
      ]
     },
     "execution_count": 10,
     "metadata": {},
     "output_type": "execute_result"
    }
   ],
   "source": [
    "## Describe race endorsement.\n",
    "metadata.race.value_counts()"
   ]
  },
  {
   "cell_type": "markdown",
   "id": "14b2e337-6593-48e9-88ac-c27197e82a16",
   "metadata": {},
   "source": [
    "#### Education"
   ]
  },
  {
   "cell_type": "code",
   "execution_count": 11,
   "id": "bd0d2767-20fa-4e5a-afea-5e91a0b71ffb",
   "metadata": {},
   "outputs": [
    {
     "data": {
      "text/plain": [
       "Bachelor degree            106\n",
       "Some college                68\n",
       "High school                 59\n",
       "Master degree or higher     31\n",
       "Associate degree            30\n",
       "Less than high school        6\n",
       "Name: education, dtype: int64"
      ]
     },
     "execution_count": 11,
     "metadata": {},
     "output_type": "execute_result"
    }
   ],
   "source": [
    "## Describe education endorsement.\n",
    "metadata.education.value_counts()"
   ]
  },
  {
   "cell_type": "markdown",
   "id": "f83171fc-79cc-420e-96cd-5f760955c0ab",
   "metadata": {},
   "source": [
    "## Section 2: Timing"
   ]
  },
  {
   "cell_type": "markdown",
   "id": "9388238a-72ac-4795-a557-f3631f8cf731",
   "metadata": {},
   "source": [
    "### 2.1 Short forms"
   ]
  },
  {
   "cell_type": "code",
   "execution_count": 12,
   "id": "c554d6ed-85f4-425b-8cdd-7cbd0c3e235a",
   "metadata": {},
   "outputs": [
    {
     "data": {
      "text/html": [
       "<div>\n",
       "<style scoped>\n",
       "    .dataframe tbody tr th:only-of-type {\n",
       "        vertical-align: middle;\n",
       "    }\n",
       "\n",
       "    .dataframe tbody tr th {\n",
       "        vertical-align: top;\n",
       "    }\n",
       "\n",
       "    .dataframe thead th {\n",
       "        text-align: right;\n",
       "    }\n",
       "</style>\n",
       "<table border=\"1\" class=\"dataframe\">\n",
       "  <thead>\n",
       "    <tr style=\"text-align: right;\">\n",
       "      <th></th>\n",
       "      <th>count</th>\n",
       "      <th>mean</th>\n",
       "      <th>std</th>\n",
       "      <th>min</th>\n",
       "      <th>25%</th>\n",
       "      <th>50%</th>\n",
       "      <th>75%</th>\n",
       "      <th>max</th>\n",
       "    </tr>\n",
       "  </thead>\n",
       "  <tbody>\n",
       "    <tr>\n",
       "      <th>total</th>\n",
       "      <td>300.0</td>\n",
       "      <td>645.7</td>\n",
       "      <td>273.8</td>\n",
       "      <td>272.8</td>\n",
       "      <td>496.1</td>\n",
       "      <td>593.8</td>\n",
       "      <td>734.6</td>\n",
       "      <td>2402.0</td>\n",
       "    </tr>\n",
       "    <tr>\n",
       "      <th>surveys_total</th>\n",
       "      <td>300.0</td>\n",
       "      <td>204.0</td>\n",
       "      <td>150.7</td>\n",
       "      <td>74.4</td>\n",
       "      <td>136.4</td>\n",
       "      <td>166.4</td>\n",
       "      <td>216.6</td>\n",
       "      <td>1765.5</td>\n",
       "    </tr>\n",
       "    <tr>\n",
       "      <th>mars_total</th>\n",
       "      <td>300.0</td>\n",
       "      <td>270.7</td>\n",
       "      <td>152.7</td>\n",
       "      <td>117.0</td>\n",
       "      <td>198.6</td>\n",
       "      <td>247.8</td>\n",
       "      <td>301.7</td>\n",
       "      <td>2087.3</td>\n",
       "    </tr>\n",
       "    <tr>\n",
       "      <th>mars_task</th>\n",
       "      <td>300.0</td>\n",
       "      <td>174.2</td>\n",
       "      <td>54.0</td>\n",
       "      <td>52.6</td>\n",
       "      <td>133.7</td>\n",
       "      <td>173.7</td>\n",
       "      <td>212.5</td>\n",
       "      <td>297.1</td>\n",
       "    </tr>\n",
       "    <tr>\n",
       "      <th>mars_interactions</th>\n",
       "      <td>300.0</td>\n",
       "      <td>1.8</td>\n",
       "      <td>2.2</td>\n",
       "      <td>1.0</td>\n",
       "      <td>1.0</td>\n",
       "      <td>1.0</td>\n",
       "      <td>2.0</td>\n",
       "      <td>22.0</td>\n",
       "    </tr>\n",
       "    <tr>\n",
       "      <th>rpm_total</th>\n",
       "      <td>300.0</td>\n",
       "      <td>171.0</td>\n",
       "      <td>123.2</td>\n",
       "      <td>43.4</td>\n",
       "      <td>126.8</td>\n",
       "      <td>158.9</td>\n",
       "      <td>186.8</td>\n",
       "      <td>1747.6</td>\n",
       "    </tr>\n",
       "    <tr>\n",
       "      <th>rpm_task</th>\n",
       "      <td>300.0</td>\n",
       "      <td>124.6</td>\n",
       "      <td>40.1</td>\n",
       "      <td>18.6</td>\n",
       "      <td>97.9</td>\n",
       "      <td>127.2</td>\n",
       "      <td>151.0</td>\n",
       "      <td>243.1</td>\n",
       "    </tr>\n",
       "    <tr>\n",
       "      <th>rpm_interactions</th>\n",
       "      <td>300.0</td>\n",
       "      <td>1.6</td>\n",
       "      <td>1.6</td>\n",
       "      <td>0.0</td>\n",
       "      <td>1.0</td>\n",
       "      <td>1.0</td>\n",
       "      <td>1.0</td>\n",
       "      <td>13.0</td>\n",
       "    </tr>\n",
       "  </tbody>\n",
       "</table>\n",
       "</div>"
      ],
      "text/plain": [
       "                   count   mean    std    min    25%    50%    75%     max\n",
       "total              300.0  645.7  273.8  272.8  496.1  593.8  734.6  2402.0\n",
       "surveys_total      300.0  204.0  150.7   74.4  136.4  166.4  216.6  1765.5\n",
       "mars_total         300.0  270.7  152.7  117.0  198.6  247.8  301.7  2087.3\n",
       "mars_task          300.0  174.2   54.0   52.6  133.7  173.7  212.5   297.1\n",
       "mars_interactions  300.0    1.8    2.2    1.0    1.0    1.0    2.0    22.0\n",
       "rpm_total          300.0  171.0  123.2   43.4  126.8  158.9  186.8  1747.6\n",
       "rpm_task           300.0  124.6   40.1   18.6   97.9  127.2  151.0   243.1\n",
       "rpm_interactions   300.0    1.6    1.6    0.0    1.0    1.0    1.0    13.0"
      ]
     },
     "execution_count": 12,
     "metadata": {},
     "output_type": "execute_result"
    }
   ],
   "source": [
    "## Load metadata.\n",
    "timing = read_csv(os.path.join('data', 'shortform', 'timing.csv'))\n",
    "\n",
    "## Apply rejections.\n",
    "reject = read_csv(os.path.join('data', 'shortform', 'reject.csv'))\n",
    "timing = timing[timing.subject.isin(reject.query('reject == 0').subject)].reset_index(drop=True)\n",
    "\n",
    "## Describe task timing.\n",
    "timing.describe().T.round(1)"
   ]
  },
  {
   "cell_type": "markdown",
   "id": "c2f69631-33f8-46fc-9ab2-1526ca0ccb33",
   "metadata": {},
   "source": [
    "### 2.2 Long forms"
   ]
  },
  {
   "cell_type": "code",
   "execution_count": 13,
   "id": "8da6809c-23be-4d08-880d-8ce69104a186",
   "metadata": {},
   "outputs": [
    {
     "data": {
      "text/html": [
       "<div>\n",
       "<style scoped>\n",
       "    .dataframe tbody tr th:only-of-type {\n",
       "        vertical-align: middle;\n",
       "    }\n",
       "\n",
       "    .dataframe tbody tr th {\n",
       "        vertical-align: top;\n",
       "    }\n",
       "\n",
       "    .dataframe thead th {\n",
       "        text-align: right;\n",
       "    }\n",
       "</style>\n",
       "<table border=\"1\" class=\"dataframe\">\n",
       "  <thead>\n",
       "    <tr style=\"text-align: right;\">\n",
       "      <th></th>\n",
       "      <th>count</th>\n",
       "      <th>mean</th>\n",
       "      <th>std</th>\n",
       "      <th>min</th>\n",
       "      <th>25%</th>\n",
       "      <th>50%</th>\n",
       "      <th>75%</th>\n",
       "      <th>max</th>\n",
       "    </tr>\n",
       "  </thead>\n",
       "  <tbody>\n",
       "    <tr>\n",
       "      <th>total</th>\n",
       "      <td>300.0</td>\n",
       "      <td>859.9</td>\n",
       "      <td>291.1</td>\n",
       "      <td>400.0</td>\n",
       "      <td>686.5</td>\n",
       "      <td>816.6</td>\n",
       "      <td>964.2</td>\n",
       "      <td>2608.1</td>\n",
       "    </tr>\n",
       "    <tr>\n",
       "      <th>surveys_total</th>\n",
       "      <td>300.0</td>\n",
       "      <td>207.4</td>\n",
       "      <td>172.8</td>\n",
       "      <td>68.8</td>\n",
       "      <td>137.2</td>\n",
       "      <td>168.3</td>\n",
       "      <td>219.6</td>\n",
       "      <td>2118.2</td>\n",
       "    </tr>\n",
       "    <tr>\n",
       "      <th>mars_total</th>\n",
       "      <td>300.0</td>\n",
       "      <td>480.5</td>\n",
       "      <td>168.4</td>\n",
       "      <td>188.4</td>\n",
       "      <td>376.7</td>\n",
       "      <td>468.5</td>\n",
       "      <td>551.3</td>\n",
       "      <td>1868.9</td>\n",
       "    </tr>\n",
       "    <tr>\n",
       "      <th>mars_task</th>\n",
       "      <td>300.0</td>\n",
       "      <td>349.3</td>\n",
       "      <td>97.9</td>\n",
       "      <td>117.5</td>\n",
       "      <td>279.5</td>\n",
       "      <td>345.8</td>\n",
       "      <td>414.2</td>\n",
       "      <td>637.9</td>\n",
       "    </tr>\n",
       "    <tr>\n",
       "      <th>mars_interactions</th>\n",
       "      <td>300.0</td>\n",
       "      <td>2.1</td>\n",
       "      <td>2.7</td>\n",
       "      <td>1.0</td>\n",
       "      <td>1.0</td>\n",
       "      <td>1.0</td>\n",
       "      <td>2.0</td>\n",
       "      <td>27.0</td>\n",
       "    </tr>\n",
       "    <tr>\n",
       "      <th>rpm_total</th>\n",
       "      <td>300.0</td>\n",
       "      <td>171.9</td>\n",
       "      <td>89.2</td>\n",
       "      <td>54.1</td>\n",
       "      <td>134.1</td>\n",
       "      <td>162.1</td>\n",
       "      <td>192.8</td>\n",
       "      <td>1138.1</td>\n",
       "    </tr>\n",
       "    <tr>\n",
       "      <th>rpm_task</th>\n",
       "      <td>300.0</td>\n",
       "      <td>128.9</td>\n",
       "      <td>39.1</td>\n",
       "      <td>16.4</td>\n",
       "      <td>100.7</td>\n",
       "      <td>129.6</td>\n",
       "      <td>154.6</td>\n",
       "      <td>236.8</td>\n",
       "    </tr>\n",
       "    <tr>\n",
       "      <th>rpm_interactions</th>\n",
       "      <td>300.0</td>\n",
       "      <td>1.7</td>\n",
       "      <td>2.3</td>\n",
       "      <td>0.0</td>\n",
       "      <td>1.0</td>\n",
       "      <td>1.0</td>\n",
       "      <td>1.0</td>\n",
       "      <td>31.0</td>\n",
       "    </tr>\n",
       "  </tbody>\n",
       "</table>\n",
       "</div>"
      ],
      "text/plain": [
       "                   count   mean    std    min    25%    50%    75%     max\n",
       "total              300.0  859.9  291.1  400.0  686.5  816.6  964.2  2608.1\n",
       "surveys_total      300.0  207.4  172.8   68.8  137.2  168.3  219.6  2118.2\n",
       "mars_total         300.0  480.5  168.4  188.4  376.7  468.5  551.3  1868.9\n",
       "mars_task          300.0  349.3   97.9  117.5  279.5  345.8  414.2   637.9\n",
       "mars_interactions  300.0    2.1    2.7    1.0    1.0    1.0    2.0    27.0\n",
       "rpm_total          300.0  171.9   89.2   54.1  134.1  162.1  192.8  1138.1\n",
       "rpm_task           300.0  128.9   39.1   16.4  100.7  129.6  154.6   236.8\n",
       "rpm_interactions   300.0    1.7    2.3    0.0    1.0    1.0    1.0    31.0"
      ]
     },
     "execution_count": 13,
     "metadata": {},
     "output_type": "execute_result"
    }
   ],
   "source": [
    "## Load metadata.\n",
    "timing = read_csv(os.path.join('data', 'longform', 'timing.csv'))\n",
    "\n",
    "## Apply rejections.\n",
    "reject = read_csv(os.path.join('data', 'longform', 'reject.csv'))\n",
    "timing = timing[timing.subject.isin(reject.query('reject == 0').subject)].reset_index(drop=True)\n",
    "\n",
    "## Describe task timing.\n",
    "timing.describe().T.round(1)"
   ]
  },
  {
   "cell_type": "markdown",
   "id": "a0175062-662f-4031-8b3d-4e6feacd847f",
   "metadata": {
    "tags": []
   },
   "source": [
    "## Section 3: Progressive Matrices"
   ]
  },
  {
   "cell_type": "markdown",
   "id": "2f8fb1f9-9951-46f6-ab58-999a0292c27a",
   "metadata": {
    "tags": []
   },
   "source": [
    "### 3.1 Short forms"
   ]
  },
  {
   "cell_type": "code",
   "execution_count": 14,
   "id": "10afdb58-b242-406f-8f17-245f18c6ec3b",
   "metadata": {},
   "outputs": [],
   "source": [
    "## Load data.\n",
    "mars = read_csv(os.path.join('data', 'shortform', 'mars.csv'))\n",
    "rpm  = read_csv(os.path.join('data', 'shortform', 'rpm.csv'))\n",
    "\n",
    "## Apply rejections.\n",
    "reject = read_csv(os.path.join('data', 'shortform', 'reject.csv'))\n",
    "mars = mars[mars.subject.isin(reject.query('reject == 0').subject)].reset_index(drop=True)\n",
    "rpm  = rpm[rpm.subject.isin(reject.query('reject == 0').subject)].reset_index(drop=True)\n",
    "\n",
    "## Handle missing responses.\n",
    "mars = mars.fillna(0)\n",
    "rpm  = rpm.fillna(0)\n",
    "\n",
    "## Define sum scores.\n",
    "scores = DataFrame(dict(\n",
    "    subject = mars.subject.unique(),\n",
    "    short_form = mars.groupby('subject').short_form.mean().astype(int).values,\n",
    "    mars = mars.groupby('subject').accuracy.sum().astype(int).values,\n",
    "    rpm = rpm.groupby('subject').accuracy.sum().astype(int).values,\n",
    "))"
   ]
  },
  {
   "cell_type": "markdown",
   "id": "df753705-d04f-4921-a101-4ab2e9437847",
   "metadata": {},
   "source": [
    "#### MARS Scores"
   ]
  },
  {
   "cell_type": "code",
   "execution_count": 15,
   "id": "265a3ede-7fe2-408b-b962-d3cabf0a7a46",
   "metadata": {},
   "outputs": [
    {
     "data": {
      "text/html": [
       "<div>\n",
       "<style scoped>\n",
       "    .dataframe tbody tr th:only-of-type {\n",
       "        vertical-align: middle;\n",
       "    }\n",
       "\n",
       "    .dataframe tbody tr th {\n",
       "        vertical-align: top;\n",
       "    }\n",
       "\n",
       "    .dataframe thead th {\n",
       "        text-align: right;\n",
       "    }\n",
       "</style>\n",
       "<table border=\"1\" class=\"dataframe\">\n",
       "  <thead>\n",
       "    <tr style=\"text-align: right;\">\n",
       "      <th></th>\n",
       "      <th>count</th>\n",
       "      <th>mean</th>\n",
       "      <th>std</th>\n",
       "      <th>min</th>\n",
       "      <th>25%</th>\n",
       "      <th>50%</th>\n",
       "      <th>75%</th>\n",
       "      <th>max</th>\n",
       "    </tr>\n",
       "    <tr>\n",
       "      <th>short_form</th>\n",
       "      <th></th>\n",
       "      <th></th>\n",
       "      <th></th>\n",
       "      <th></th>\n",
       "      <th></th>\n",
       "      <th></th>\n",
       "      <th></th>\n",
       "      <th></th>\n",
       "    </tr>\n",
       "  </thead>\n",
       "  <tbody>\n",
       "    <tr>\n",
       "      <th>1</th>\n",
       "      <td>103.0</td>\n",
       "      <td>7.9</td>\n",
       "      <td>2.4</td>\n",
       "      <td>2.0</td>\n",
       "      <td>7.0</td>\n",
       "      <td>8.0</td>\n",
       "      <td>10.0</td>\n",
       "      <td>12.0</td>\n",
       "    </tr>\n",
       "    <tr>\n",
       "      <th>2</th>\n",
       "      <td>98.0</td>\n",
       "      <td>8.2</td>\n",
       "      <td>2.6</td>\n",
       "      <td>1.0</td>\n",
       "      <td>7.0</td>\n",
       "      <td>9.0</td>\n",
       "      <td>10.0</td>\n",
       "      <td>12.0</td>\n",
       "    </tr>\n",
       "    <tr>\n",
       "      <th>3</th>\n",
       "      <td>99.0</td>\n",
       "      <td>7.9</td>\n",
       "      <td>2.7</td>\n",
       "      <td>1.0</td>\n",
       "      <td>6.0</td>\n",
       "      <td>8.0</td>\n",
       "      <td>10.0</td>\n",
       "      <td>12.0</td>\n",
       "    </tr>\n",
       "  </tbody>\n",
       "</table>\n",
       "</div>"
      ],
      "text/plain": [
       "            count  mean  std  min  25%  50%   75%   max\n",
       "short_form                                             \n",
       "1           103.0   7.9  2.4  2.0  7.0  8.0  10.0  12.0\n",
       "2            98.0   8.2  2.6  1.0  7.0  9.0  10.0  12.0\n",
       "3            99.0   7.9  2.7  1.0  6.0  8.0  10.0  12.0"
      ]
     },
     "execution_count": 15,
     "metadata": {},
     "output_type": "execute_result"
    }
   ],
   "source": [
    "## Describe score distributions.\n",
    "scores.groupby('short_form').mars.describe().round(1)"
   ]
  },
  {
   "cell_type": "markdown",
   "id": "1b544680-b4ab-4478-8d16-39240bc157c7",
   "metadata": {},
   "source": [
    "#### RPM Scores"
   ]
  },
  {
   "cell_type": "code",
   "execution_count": 16,
   "id": "78514a5a-124c-4e9c-9320-254aeb375444",
   "metadata": {},
   "outputs": [
    {
     "data": {
      "text/plain": [
       "count    300.0\n",
       "mean       4.5\n",
       "std        2.0\n",
       "min        0.0\n",
       "25%        3.0\n",
       "50%        5.0\n",
       "75%        6.0\n",
       "max        9.0\n",
       "Name: rpm, dtype: float64"
      ]
     },
     "execution_count": 16,
     "metadata": {},
     "output_type": "execute_result"
    }
   ],
   "source": [
    "## Describe score distributions.\n",
    "scores.rpm.describe().round(1)"
   ]
  },
  {
   "cell_type": "markdown",
   "id": "4daf9dec-bbe7-414b-98f9-8c1e290858bb",
   "metadata": {},
   "source": [
    "#### Comparative statistics"
   ]
  },
  {
   "cell_type": "code",
   "execution_count": 17,
   "id": "90cbffd9-49e1-448b-b112-a08fb6fb06ac",
   "metadata": {},
   "outputs": [
    {
     "data": {
      "text/plain": [
       "F_onewayResult(statistic=0.25269128003541735, pvalue=0.7768744452906258)"
      ]
     },
     "execution_count": 17,
     "metadata": {},
     "output_type": "execute_result"
    }
   ],
   "source": [
    "from scipy.stats import f_oneway\n",
    "\n",
    "a = scores.query('short_form == 1').mars.values\n",
    "b = scores.query('short_form == 2').mars.values\n",
    "c = scores.query('short_form == 3').mars.values\n",
    "\n",
    "f_oneway(a,b,c)"
   ]
  },
  {
   "cell_type": "code",
   "execution_count": 18,
   "id": "94fc0b2d-7ff8-41d3-81a0-cd0f2cc66c71",
   "metadata": {},
   "outputs": [
    {
     "data": {
      "text/plain": [
       "Ttest_relResult(statistic=13.02783445280114, pvalue=4.925829669190968e-31)"
      ]
     },
     "execution_count": 18,
     "metadata": {},
     "output_type": "execute_result"
    }
   ],
   "source": [
    "from scipy.stats import ttest_rel\n",
    "\n",
    "ttest_rel(scores.mars / 12, scores.rpm / 9)"
   ]
  },
  {
   "cell_type": "markdown",
   "id": "3a9c965d-01ac-4ba1-a7cc-8e99d99d2c7c",
   "metadata": {},
   "source": [
    "#### Convergent validity"
   ]
  },
  {
   "cell_type": "code",
   "execution_count": 19,
   "id": "a931b280-4cec-4802-9b27-e55c2eb7533a",
   "metadata": {},
   "outputs": [
    {
     "data": {
      "text/plain": [
       "PearsonRResult(statistic=0.47039801000204445, pvalue=6.358292642942078e-18)"
      ]
     },
     "execution_count": 19,
     "metadata": {},
     "output_type": "execute_result"
    }
   ],
   "source": [
    "from scipy.stats import pearsonr\n",
    "\n",
    "pearsonr(scores.mars, scores.rpm)"
   ]
  },
  {
   "cell_type": "markdown",
   "id": "ada274c9-9c01-4ecd-99bd-aed81b7796c4",
   "metadata": {
    "tags": []
   },
   "source": [
    "### 3.2 Long forms"
   ]
  },
  {
   "cell_type": "code",
   "execution_count": 20,
   "id": "f7f9184b-65ca-4a74-8c89-c960b3f5b733",
   "metadata": {},
   "outputs": [],
   "source": [
    "## Load data.\n",
    "mars = read_csv(os.path.join('data', 'longform', 'mars.csv'))\n",
    "rpm  = read_csv(os.path.join('data', 'longform', 'rpm.csv'))\n",
    "\n",
    "## Apply rejections.\n",
    "reject = read_csv(os.path.join('data', 'longform', 'reject.csv'))\n",
    "mars = mars[mars.subject.isin(reject.query('reject == 0').subject)].reset_index(drop=True)\n",
    "rpm  = rpm[rpm.subject.isin(reject.query('reject == 0').subject)].reset_index(drop=True)\n",
    "\n",
    "## Handle missing responses.\n",
    "mars = mars.fillna(0)\n",
    "rpm  = rpm.fillna(0)\n",
    "\n",
    "## Define sum scores.\n",
    "scores = DataFrame(dict(\n",
    "    subject = mars.subject.unique(),\n",
    "    long_form = mars.groupby('subject').long_form.mean().astype(int).values,\n",
    "    mars = mars.groupby('subject').accuracy.sum().astype(int).values,\n",
    "    rpm = rpm.groupby('subject').accuracy.sum().astype(int).values,\n",
    "))"
   ]
  },
  {
   "cell_type": "markdown",
   "id": "8da5d51e-5cce-45c5-9403-57b670dcafad",
   "metadata": {},
   "source": [
    "#### MARS Scores"
   ]
  },
  {
   "cell_type": "code",
   "execution_count": 21,
   "id": "9ee2a380-9cc0-4d68-82dc-c6a0969daef5",
   "metadata": {},
   "outputs": [
    {
     "data": {
      "text/html": [
       "<div>\n",
       "<style scoped>\n",
       "    .dataframe tbody tr th:only-of-type {\n",
       "        vertical-align: middle;\n",
       "    }\n",
       "\n",
       "    .dataframe tbody tr th {\n",
       "        vertical-align: top;\n",
       "    }\n",
       "\n",
       "    .dataframe thead th {\n",
       "        text-align: right;\n",
       "    }\n",
       "</style>\n",
       "<table border=\"1\" class=\"dataframe\">\n",
       "  <thead>\n",
       "    <tr style=\"text-align: right;\">\n",
       "      <th></th>\n",
       "      <th>count</th>\n",
       "      <th>mean</th>\n",
       "      <th>std</th>\n",
       "      <th>min</th>\n",
       "      <th>25%</th>\n",
       "      <th>50%</th>\n",
       "      <th>75%</th>\n",
       "      <th>max</th>\n",
       "    </tr>\n",
       "    <tr>\n",
       "      <th>long_form</th>\n",
       "      <th></th>\n",
       "      <th></th>\n",
       "      <th></th>\n",
       "      <th></th>\n",
       "      <th></th>\n",
       "      <th></th>\n",
       "      <th></th>\n",
       "      <th></th>\n",
       "    </tr>\n",
       "  </thead>\n",
       "  <tbody>\n",
       "    <tr>\n",
       "      <th>1</th>\n",
       "      <td>153.0</td>\n",
       "      <td>15.9</td>\n",
       "      <td>4.9</td>\n",
       "      <td>4.0</td>\n",
       "      <td>13.0</td>\n",
       "      <td>16.0</td>\n",
       "      <td>20.0</td>\n",
       "      <td>24.0</td>\n",
       "    </tr>\n",
       "    <tr>\n",
       "      <th>2</th>\n",
       "      <td>147.0</td>\n",
       "      <td>15.6</td>\n",
       "      <td>5.4</td>\n",
       "      <td>3.0</td>\n",
       "      <td>11.0</td>\n",
       "      <td>16.0</td>\n",
       "      <td>20.0</td>\n",
       "      <td>24.0</td>\n",
       "    </tr>\n",
       "  </tbody>\n",
       "</table>\n",
       "</div>"
      ],
      "text/plain": [
       "           count  mean  std  min   25%   50%   75%   max\n",
       "long_form                                               \n",
       "1          153.0  15.9  4.9  4.0  13.0  16.0  20.0  24.0\n",
       "2          147.0  15.6  5.4  3.0  11.0  16.0  20.0  24.0"
      ]
     },
     "execution_count": 21,
     "metadata": {},
     "output_type": "execute_result"
    }
   ],
   "source": [
    "## Describe score distributions.\n",
    "scores.groupby('long_form').mars.describe().round(1)"
   ]
  },
  {
   "cell_type": "markdown",
   "id": "ae9da7d6-4d09-4844-a015-c41f8da8feb9",
   "metadata": {},
   "source": [
    "#### RPM Scores"
   ]
  },
  {
   "cell_type": "code",
   "execution_count": 22,
   "id": "839a785c-4cd0-48ac-8ecc-af6701d2b27a",
   "metadata": {},
   "outputs": [
    {
     "data": {
      "text/plain": [
       "count    300.0\n",
       "mean       4.6\n",
       "std        2.0\n",
       "min        0.0\n",
       "25%        3.0\n",
       "50%        5.0\n",
       "75%        6.0\n",
       "max        9.0\n",
       "Name: rpm, dtype: float64"
      ]
     },
     "execution_count": 22,
     "metadata": {},
     "output_type": "execute_result"
    }
   ],
   "source": [
    "## Describe score distributions.\n",
    "scores.rpm.describe().round(1)"
   ]
  },
  {
   "cell_type": "markdown",
   "id": "394b0c5b-3ada-4b2e-a37c-bc964207c9ca",
   "metadata": {},
   "source": [
    "#### Comparative statistics"
   ]
  },
  {
   "cell_type": "code",
   "execution_count": 23,
   "id": "ab39470c-8788-4bba-8897-cdf0792f5aae",
   "metadata": {},
   "outputs": [
    {
     "data": {
      "text/plain": [
       "F_onewayResult(statistic=0.21916336067472061, pvalue=0.6400203512860618)"
      ]
     },
     "execution_count": 23,
     "metadata": {},
     "output_type": "execute_result"
    }
   ],
   "source": [
    "from scipy.stats import f_oneway\n",
    "\n",
    "a = scores.query('long_form == 1').mars.values\n",
    "b = scores.query('long_form == 2').mars.values\n",
    "\n",
    "f_oneway(a,b)"
   ]
  },
  {
   "cell_type": "code",
   "execution_count": 24,
   "id": "c4dd74f7-d740-43e1-80b2-08df3f6efac5",
   "metadata": {},
   "outputs": [
    {
     "data": {
      "text/plain": [
       "Ttest_relResult(statistic=12.812275495288901, pvalue=2.973200399129017e-30)"
      ]
     },
     "execution_count": 24,
     "metadata": {},
     "output_type": "execute_result"
    }
   ],
   "source": [
    "from scipy.stats import ttest_rel\n",
    "\n",
    "ttest_rel(scores.mars / 24, scores.rpm / 9)"
   ]
  },
  {
   "cell_type": "markdown",
   "id": "1a033cf3-d630-4cfd-b2d6-a5f4f83d4b04",
   "metadata": {},
   "source": [
    "#### Convergent validity"
   ]
  },
  {
   "cell_type": "code",
   "execution_count": 25,
   "id": "2a5288c1-6f5b-4188-ba0a-483c459b998c",
   "metadata": {},
   "outputs": [
    {
     "data": {
      "text/plain": [
       "PearsonRResult(statistic=0.597787610494006, pvalue=1.8773896104343616e-30)"
      ]
     },
     "execution_count": 25,
     "metadata": {},
     "output_type": "execute_result"
    }
   ],
   "source": [
    "from scipy.stats import pearsonr\n",
    "\n",
    "pearsonr(scores.mars, scores.rpm)"
   ]
  },
  {
   "cell_type": "code",
   "execution_count": 26,
   "id": "05806420-0c90-4b8b-97ef-919953c4be7a",
   "metadata": {},
   "outputs": [],
   "source": [
    "from pandas import concat\n",
    "\n",
    "## Load data.\n",
    "rpm = concat([\n",
    "    read_csv(os.path.join('data', 'shortform', 'rpm.csv')),\n",
    "    read_csv(os.path.join('data', 'longform', 'rpm.csv')),\n",
    "])\n",
    "\n",
    "## Apply rejections.\n",
    "reject = concat([\n",
    "    read_csv(os.path.join('data', 'shortform', 'reject.csv')),\n",
    "    read_csv(os.path.join('data', 'longform', 'reject.csv'))\n",
    "])\n",
    "rpm  = rpm[rpm.subject.isin(reject.query('reject == 0').subject)].reset_index(drop=True)\n",
    "\n",
    "## Score missing data.\n",
    "rpm['accuracy'] = rpm['accuracy'].fillna(0)"
   ]
  },
  {
   "cell_type": "markdown",
   "id": "5e2b5518-5185-4a56-8f23-bc3af7395f6a",
   "metadata": {},
   "source": [
    "### 3.3 Raven's progressive matrices"
   ]
  },
  {
   "cell_type": "markdown",
   "id": "419bef49-d0a3-4f8e-b86d-9e2f61d45726",
   "metadata": {},
   "source": [
    "#### IRT test reliability"
   ]
  },
  {
   "cell_type": "code",
   "execution_count": 27,
   "id": "d227a1b8-b843-4d02-9ce9-dc6a8c64c929",
   "metadata": {},
   "outputs": [
    {
     "name": "stdout",
     "output_type": "stream",
     "text": [
      "RPM: 0.613\n"
     ]
    }
   ],
   "source": [
    "from scipy.stats import norm\n",
    "\n",
    "## Define convenience function.\n",
    "def inv_logit(x):\n",
    "    return 1. / (1 + np.exp(-x))\n",
    "\n",
    "## Load Stan summary.\n",
    "summary = read_csv(os.path.join('stan_results', '3pl_rpm_summary.tsv'), sep='\\t', index_col=0)\n",
    "\n",
    "## Extract parameters.\n",
    "beta  = summary.T.filter(regex='beta\\[').T['Mean'].values\n",
    "alpha = summary.T.filter(regex='alpha\\[').T['Mean'].values\n",
    "gamma = np.concatenate([np.ones(2)/6, np.ones(7)/8])\n",
    "\n",
    "## Define ability distribution.\n",
    "theta = np.linspace(-3,3,1001)\n",
    "\n",
    "## Define integration weights.\n",
    "w = norm.pdf(theta)\n",
    "w /= w.sum()\n",
    "    \n",
    "## Compute p(correct).\n",
    "mu = np.outer(theta, alpha) - beta\n",
    "p = gamma + (1-gamma) * inv_logit(mu)\n",
    "\n",
    "## Compute true score variance.\n",
    "sigma_t = w @ np.square(p.sum(axis=1) - w @ p.sum(axis=1))\n",
    "\n",
    "## Compute item error variance.\n",
    "sigma_e = w @ np.sum(p * (1-p), axis=1)\n",
    "\n",
    "## Compute reliability.\n",
    "rho = sigma_t / (sigma_t + sigma_e)\n",
    "\n",
    "print('RPM: %0.3f' %rho)"
   ]
  },
  {
   "cell_type": "markdown",
   "id": "e8236afb-dbcb-471c-a221-8e8fd9f87252",
   "metadata": {},
   "source": [
    "## Section 3: Figures"
   ]
  },
  {
   "cell_type": "code",
   "execution_count": 28,
   "id": "eb1f040f-1015-4dce-b403-9334fcd58e09",
   "metadata": {},
   "outputs": [
    {
     "data": {
      "image/png": "[encoded data removed]",
      "text/plain": [
       "<Figure size 864x432 with 6 Axes>"
      ]
     },
     "metadata": {
      "needs_background": "light"
     },
     "output_type": "display_data"
    }
   ],
   "source": [
    "import matplotlib.gridspec as gridspec\n",
    "from scipy.stats import pearsonr\n",
    "sns.set_theme('notebook', style='white', font='sans-serif', font_scale=1.33)\n",
    "\n",
    "#~~~~~~~~~~~~~~~~~~~~~~~~~~~~~~~~~~~~~~~~~~#\n",
    "### Define parameters.\n",
    "#~~~~~~~~~~~~~~~~~~~~~~~~~~~~~~~~~~~~~~~~~~#\n",
    "  \n",
    "## Define I/O parameters.\n",
    "datasets = ['shortform', 'longform']\n",
    "    \n",
    "## Define palette.\n",
    "palettes = [\n",
    "    sns.color_palette('Blues', n_colors=4).as_hex()[1:],\n",
    "    sns.color_palette('Blues', n_colors=3).as_hex()[1:]\n",
    "]\n",
    "\n",
    "## Define details.\n",
    "xlims = [(-0.5, 12.5), (-0.5, 24.5)]\n",
    "xtickss = [np.arange(0,13,4), np.arange(0,25,4)]\n",
    "prefix = ['SF','LF']\n",
    "\n",
    "#~~~~~~~~~~~~~~~~~~~~~~~~~~~~~~~~~~~~~~~~~~#\n",
    "### Main loop.\n",
    "#~~~~~~~~~~~~~~~~~~~~~~~~~~~~~~~~~~~~~~~~~~#\n",
    "\n",
    "## Initialize canvas.\n",
    "fig = plt.figure(figsize=(12,6))\n",
    "\n",
    "## Initialize panels.\n",
    "specs = [\n",
    "    fig.add_gridspec(4, 4, left=0.06, right=0.49, top=0.98, bottom=0.12, wspace=0, hspace=0),\n",
    "    fig.add_gridspec(4, 4, left=0.56, right=0.99, top=0.98, bottom=0.12, wspace=0, hspace=0),\n",
    "]\n",
    "\n",
    "for form, spec, palette, xlim, xticks, pf, p in zip(datasets, specs, palettes, xlims, xtickss, prefix, ['A','B']):\n",
    "    \n",
    "    #~~~~~~~~~~~~~~~~~~~~~~~~~~~~~~~~~~~~~~~~~~#\n",
    "    ### Load and prepare data.\n",
    "    #~~~~~~~~~~~~~~~~~~~~~~~~~~~~~~~~~~~~~~~~~~#\n",
    "\n",
    "    ## Load data.\n",
    "    mars = read_csv(os.path.join('data', form, 'mars.csv'))\n",
    "    rpm  = read_csv(os.path.join('data', form, 'rpm.csv'))\n",
    "\n",
    "    ## Apply rejections.\n",
    "    reject = read_csv(os.path.join('data', form, 'reject.csv'))\n",
    "    mars = mars[mars.subject.isin(reject.query('reject == 0').subject)].reset_index(drop=True)\n",
    "    rpm  = rpm[rpm.subject.isin(reject.query('reject == 0').subject)].reset_index(drop=True)\n",
    "\n",
    "    ## Handle missing responses.\n",
    "    mars = mars.fillna(0)\n",
    "    rpm  = rpm.fillna(0)\n",
    "\n",
    "    ## Define sum scores.\n",
    "    scores = DataFrame(dict(\n",
    "        subject = mars.subject.unique(),\n",
    "        hue = mars.groupby('subject')[form.replace('form','_form')].mean().astype(int).values,\n",
    "        mars = mars.groupby('subject').accuracy.sum().astype(int).values,\n",
    "        rpm = rpm.groupby('subject').accuracy.sum().astype(int).values,\n",
    "    ))\n",
    "    \n",
    "    #~~~~~~~~~~~~~~~~~~~~~~~~~~~~~~~~~~~~~~~~~~#\n",
    "    ### Panel A: MaRs-IB scores.\n",
    "    #~~~~~~~~~~~~~~~~~~~~~~~~~~~~~~~~~~~~~~~~~~#\n",
    "\n",
    "    ## Initialize axis.\n",
    "    ax = plt.subplot(spec[0,:3])\n",
    "\n",
    "    ## Plot MARS scores.\n",
    "    sns.histplot(x='mars', hue='hue', data=scores, bins=np.arange(xticks.max())+1.5, \n",
    "                 multiple='stack', legend=True, palette=palette, ax=ax)\n",
    "    ax.set(xlim=xlim, xticks=xticks, xticklabels=[], yticks=[], ylabel='')\n",
    "\n",
    "    ## Update legend.\n",
    "    legend = ax.get_legend()\n",
    "    handles = legend.legendHandles\n",
    "    ax.legend(handles, [f'{pf}-{i}' for i in np.unique(scores.hue)], loc=2, frameon=False, \n",
    "              fontsize=13, handletextpad=0.5, borderpad=-0.2)\n",
    "\n",
    "    ## Add annotation.\n",
    "    ax.annotate(p, (0,0), (-0.06,1), xycoords='axes fraction', ha='right', va='top', \n",
    "                fontsize=24, fontweight='bold')\n",
    "    \n",
    "    ## Remove spines.\n",
    "    sns.despine(ax=ax, left=True, right=True, top=True, bottom=True)\n",
    "    \n",
    "    #~~~~~~~~~~~~~~~~~~~~~~~~~~~~~~~~~~~~~~~~~~#\n",
    "    ### Panel B: RPM scores.\n",
    "    #~~~~~~~~~~~~~~~~~~~~~~~~~~~~~~~~~~~~~~~~~~#\n",
    "\n",
    "    ## Initialize axis.\n",
    "    ax = plt.subplot(spec[1:,-1])\n",
    "\n",
    "    ## Plot RPM scores.\n",
    "    sns.histplot(y='rpm', data=scores, bins=np.arange(11)-0.5, ax=ax)\n",
    "    ax.set(ylim=(-0.5, 9.5), yticks=np.arange(0,10,3), yticklabels=[], xticks=[], xlabel='')\n",
    "\n",
    "    ## Remove spines.\n",
    "    sns.despine(ax=ax, left=True, right=True, top=True, bottom=True)\n",
    "\n",
    "    #~~~~~~~~~~~~~~~~~~~~~~~~~~~~~~~~~~~~~~~~~~#\n",
    "    ### Panel C: Scatterplot.\n",
    "    #~~~~~~~~~~~~~~~~~~~~~~~~~~~~~~~~~~~~~~~~~~#\n",
    "    np.random.seed(47404)\n",
    "\n",
    "    ## Initialize axis.\n",
    "    ax = plt.subplot(spec[1:,:3])\n",
    "\n",
    "    ## Add jitter.\n",
    "    scores['mars_j'] = scores['mars'] + np.random.uniform(-0.3,0.3,len(scores))\n",
    "    scores['rpm_j'] = scores['rpm'] + np.random.uniform(-0.3,0.3,len(scores))\n",
    "\n",
    "    ## Plot joint scores.\n",
    "    ax.set(xlim=xlim, ylim=(-0.5, 9.5))\n",
    "    sns.regplot(x='mars', y='rpm', data=scores, color='grey', scatter=False, truncate=False, ax=ax)\n",
    "    sns.scatterplot(x='mars_j', y='rpm_j', hue='hue', data=scores, palette=palette, s=30, zorder=10, ax=ax)\n",
    "    ax.set(xticks=xticks, xlabel=f'MaRs-IB {pf} scores', yticks=np.arange(0,10,3), ylabel='RPM scores')\n",
    "    ax.legend_.set_visible(False)\n",
    "    \n",
    "    ## Add annotations.\n",
    "    rval, pval = pearsonr(scores.mars, scores.rpm)\n",
    "    ax.annotate('r = %0.3f (p < 0.001)' %rval, (0,0), (0.02,0.97), xycoords='axes fraction', \n",
    "                ha='left', va='top', fontsize=13.5, zorder=100)\n",
    "\n",
    "plt.savefig(os.path.join('..', '05_Figures', 'fig04.png'), dpi=100)"
   ]
  }
 ],
 "metadata": {
  "kernelspec": {
   "display_name": "Python 3",
   "language": "python",
   "name": "python3"
  },
  "language_info": {
   "codemirror_mode": {
    "name": "ipython",
    "version": 3
   },
   "file_extension": ".py",
   "mimetype": "text/x-python",
   "name": "python",
   "nbconvert_exporter": "python",
   "pygments_lexer": "ipython3",
   "version": "3.9.12"
  },
  "toc-autonumbering": false,
  "toc-showcode": false,
  "toc-showtags": false
 },
 "nbformat": 4,
 "nbformat_minor": 5
}

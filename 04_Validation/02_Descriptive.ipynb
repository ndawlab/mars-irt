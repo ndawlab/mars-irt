{
 "cells": [
  {
   "cell_type": "code",
   "execution_count": 1,
   "id": "f322d3bd-aab8-47c5-a504-9ae74e9a3374",
   "metadata": {
    "tags": []
   },
   "outputs": [],
   "source": [
    "import numpy as np\n",
    "import matplotlib.pyplot as plt\n",
    "import seaborn as sns\n",
    "from pandas import DataFrame, read_csv\n",
    "\n",
    "mars = read_csv('data/mars.csv').fillna(0)\n",
    "rpm = read_csv('data/rpm.csv').fillna(0)\n",
    "surveys = read_csv('data/surveys.csv')\n",
    "reject = read_csv('data/reject.csv')\n",
    "\n",
    "mars = mars[mars.subject.isin(reject.query('reject == 0').subject)].reset_index(drop=True)\n",
    "rpm = rpm[rpm.subject.isin(reject.query('reject == 0').subject)].reset_index(drop=True)\n",
    "surveys = surveys[surveys.subject.isin(reject.query('reject == 0').subject)].reset_index(drop=True)"
   ]
  },
  {
   "cell_type": "code",
   "execution_count": 2,
   "id": "6f9b44f1-58a0-4f2b-abed-8f3b7b4c245f",
   "metadata": {},
   "outputs": [
    {
     "data": {
      "text/plain": [
       "item  shape_set\n",
       "71    2            83\n",
       "      1            52\n",
       "      3            30\n",
       "55    3            83\n",
       "      2            65\n",
       "      1            17\n",
       "30    1            96\n",
       "      3            52\n",
       "      2            17\n",
       "45    2            83\n",
       "      1            52\n",
       "      3            30\n",
       "11    3            83\n",
       "      2            65\n",
       "      1            17\n",
       "29    1            96\n",
       "      3            52\n",
       "      2            17\n",
       "16    2            83\n",
       "      1            52\n",
       "      3            30\n",
       "17    3            83\n",
       "      2            65\n",
       "      1            17\n",
       "23    1            96\n",
       "      3            52\n",
       "      2            17\n",
       "58    2            83\n",
       "      1            52\n",
       "      3            30\n",
       "35    3            83\n",
       "      2            65\n",
       "      1            17\n",
       "76    1            96\n",
       "      3            52\n",
       "      2            17\n",
       "Name: shape_set, dtype: int64"
      ]
     },
     "execution_count": 2,
     "metadata": {},
     "output_type": "execute_result"
    }
   ],
   "source": [
    "counts = mars.groupby('item').shape_set.value_counts()\n",
    "counts[[71, 55, 30, 45, 11, 29, 16, 17, 23, 58, 35, 76]]"
   ]
  },
  {
   "cell_type": "code",
   "execution_count": 3,
   "id": "e658de58-6bbf-41b6-9261-13d6411f42ef",
   "metadata": {},
   "outputs": [],
   "source": [
    "scores = DataFrame([\n",
    "    mars.groupby('subject').accuracy.sum(),\n",
    "    rpm.groupby('subject').accuracy.sum(),\n",
    "]).T\n",
    "scores.columns = ['mars', 'rpm']\n",
    "\n",
    "weights = [0.198,0.216,0.237,0.142,0.374,0.304,0.178,0.458,0.289];\n",
    "X = 1 - rpm.pivot_table('accuracy','subject','trial').values\n",
    "err = rpm.trial.max() - scores['rpm']\n",
    "scores['rpm_adj'] = 60 - (err + np.exp(1.323 + X @ weights))\n",
    "scores['neuroticism'] = surveys[surveys.filter(regex='neuroticism_q').columns[:-1]].sum(axis=1).values\n",
    "scores['openness'] = surveys[surveys.filter(regex='openness_q').columns[:-1]].sum(axis=1).values\n",
    "scores['nfc6'] = surveys[surveys.filter(regex='nfc6_q').columns[:-1]].sum(axis=1).values"
   ]
  },
  {
   "cell_type": "code",
   "execution_count": 4,
   "id": "938b6237-4d55-440d-a295-47f64539c95f",
   "metadata": {},
   "outputs": [
    {
     "data": {
      "text/html": [
       "<div>\n",
       "<style scoped>\n",
       "    .dataframe tbody tr th:only-of-type {\n",
       "        vertical-align: middle;\n",
       "    }\n",
       "\n",
       "    .dataframe tbody tr th {\n",
       "        vertical-align: top;\n",
       "    }\n",
       "\n",
       "    .dataframe thead th {\n",
       "        text-align: right;\n",
       "    }\n",
       "</style>\n",
       "<table border=\"1\" class=\"dataframe\">\n",
       "  <thead>\n",
       "    <tr style=\"text-align: right;\">\n",
       "      <th></th>\n",
       "      <th>mars</th>\n",
       "      <th>rpm</th>\n",
       "      <th>rpm_adj</th>\n",
       "      <th>neuroticism</th>\n",
       "      <th>openness</th>\n",
       "      <th>nfc6</th>\n",
       "    </tr>\n",
       "  </thead>\n",
       "  <tbody>\n",
       "    <tr>\n",
       "      <th>mars</th>\n",
       "      <td>1.000</td>\n",
       "      <td>0.527</td>\n",
       "      <td>0.543</td>\n",
       "      <td>0.050</td>\n",
       "      <td>0.186</td>\n",
       "      <td>0.090</td>\n",
       "    </tr>\n",
       "    <tr>\n",
       "      <th>rpm</th>\n",
       "      <td>0.527</td>\n",
       "      <td>1.000</td>\n",
       "      <td>0.963</td>\n",
       "      <td>0.008</td>\n",
       "      <td>0.116</td>\n",
       "      <td>0.302</td>\n",
       "    </tr>\n",
       "    <tr>\n",
       "      <th>rpm_adj</th>\n",
       "      <td>0.543</td>\n",
       "      <td>0.963</td>\n",
       "      <td>1.000</td>\n",
       "      <td>0.019</td>\n",
       "      <td>0.079</td>\n",
       "      <td>0.267</td>\n",
       "    </tr>\n",
       "    <tr>\n",
       "      <th>neuroticism</th>\n",
       "      <td>0.050</td>\n",
       "      <td>0.008</td>\n",
       "      <td>0.019</td>\n",
       "      <td>1.000</td>\n",
       "      <td>0.224</td>\n",
       "      <td>-0.210</td>\n",
       "    </tr>\n",
       "    <tr>\n",
       "      <th>openness</th>\n",
       "      <td>0.186</td>\n",
       "      <td>0.116</td>\n",
       "      <td>0.079</td>\n",
       "      <td>0.224</td>\n",
       "      <td>1.000</td>\n",
       "      <td>0.165</td>\n",
       "    </tr>\n",
       "    <tr>\n",
       "      <th>nfc6</th>\n",
       "      <td>0.090</td>\n",
       "      <td>0.302</td>\n",
       "      <td>0.267</td>\n",
       "      <td>-0.210</td>\n",
       "      <td>0.165</td>\n",
       "      <td>1.000</td>\n",
       "    </tr>\n",
       "  </tbody>\n",
       "</table>\n",
       "</div>"
      ],
      "text/plain": [
       "              mars    rpm  rpm_adj  neuroticism  openness   nfc6\n",
       "mars         1.000  0.527    0.543        0.050     0.186  0.090\n",
       "rpm          0.527  1.000    0.963        0.008     0.116  0.302\n",
       "rpm_adj      0.543  0.963    1.000        0.019     0.079  0.267\n",
       "neuroticism  0.050  0.008    0.019        1.000     0.224 -0.210\n",
       "openness     0.186  0.116    0.079        0.224     1.000  0.165\n",
       "nfc6         0.090  0.302    0.267       -0.210     0.165  1.000"
      ]
     },
     "execution_count": 4,
     "metadata": {},
     "output_type": "execute_result"
    }
   ],
   "source": [
    "scores.corr(method='pearson').round(3)"
   ]
  },
  {
   "cell_type": "code",
   "execution_count": 5,
   "id": "f9e11e49-4c2e-4877-b62e-1066763801e6",
   "metadata": {},
   "outputs": [
    {
     "data": {
      "text/plain": [
       "<AxesSubplot:xlabel='mars_x', ylabel='rpm_y'>"
      ]
     },
     "execution_count": 5,
     "metadata": {},
     "output_type": "execute_result"
    },
    {
     "data": {
      "image/png": "[encoded data removed]",
      "text/plain": [
       "<Figure size 432x288 with 1 Axes>"
      ]
     },
     "metadata": {
      "needs_background": "light"
     },
     "output_type": "display_data"
    }
   ],
   "source": [
    "scores['mars_x'] = scores['mars'] + np.random.normal(0, 0.1, len(scores))\n",
    "scores['rpm_y'] = scores['rpm'] + np.random.normal(0, 0.1, len(scores))\n",
    "sns.scatterplot(x='mars_x', y='rpm_y', data=scores)"
   ]
  },
  {
   "cell_type": "code",
   "execution_count": 6,
   "id": "66103608-ec48-4bfb-9392-56a085393987",
   "metadata": {},
   "outputs": [
    {
     "data": {
      "text/plain": [
       "<AxesSubplot:xlabel='mars', ylabel='count'>"
      ]
     },
     "execution_count": 6,
     "metadata": {},
     "output_type": "execute_result"
    },
    {
     "data": {
      "image/png": "[encoded data removed]",
      "text/plain": [
       "<Figure size 432x288 with 1 Axes>"
      ]
     },
     "metadata": {
      "needs_background": "light"
     },
     "output_type": "display_data"
    }
   ],
   "source": [
    "sns.countplot(x=scores['mars'], order=np.arange(13))"
   ]
  },
  {
   "cell_type": "code",
   "execution_count": 7,
   "id": "01f2e2e9-3bc6-4157-bd34-68450035427d",
   "metadata": {},
   "outputs": [
    {
     "data": {
      "text/plain": [
       "<AxesSubplot:xlabel='rpm', ylabel='count'>"
      ]
     },
     "execution_count": 7,
     "metadata": {},
     "output_type": "execute_result"
    },
    {
     "data": {
      "image/png": "[encoded data removed]",
      "text/plain": [
       "<Figure size 432x288 with 1 Axes>"
      ]
     },
     "metadata": {
      "needs_background": "light"
     },
     "output_type": "display_data"
    }
   ],
   "source": [
    "sns.countplot(x=scores['rpm'], order=np.arange(10))"
   ]
  },
  {
   "cell_type": "code",
   "execution_count": null,
   "id": "1da22d5d-eac1-473d-b156-ad355574f13a",
   "metadata": {},
   "outputs": [],
   "source": []
  }
 ],
 "metadata": {
  "kernelspec": {
   "display_name": "Python 3",
   "language": "python",
   "name": "python3"
  },
  "language_info": {
   "codemirror_mode": {
    "name": "ipython",
    "version": 3
   },
   "file_extension": ".py",
   "mimetype": "text/x-python",
   "name": "python",
   "nbconvert_exporter": "python",
   "pygments_lexer": "ipython3",
   "version": "3.7.9"
  }
 },
 "nbformat": 4,
 "nbformat_minor": 5
}

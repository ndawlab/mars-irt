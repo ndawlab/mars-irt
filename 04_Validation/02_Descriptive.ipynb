{
 "cells": [
  {
   "cell_type": "code",
   "execution_count": 1,
   "id": "d6c06774-2a99-4850-a60f-01ab128565ec",
   "metadata": {
    "tags": []
   },
   "outputs": [],
   "source": [
    "import os\n",
    "import numpy as np\n",
    "import matplotlib.pyplot as plt\n",
    "import seaborn as sns\n",
    "from pandas import DataFrame, read_csv\n",
    "sns.set_theme(style='white', context='notebook', font_scale=1.33)"
   ]
  },
  {
   "cell_type": "markdown",
   "id": "b48d8c47-ac01-4640-9a5c-43b36342642b",
   "metadata": {},
   "source": [
    "## Section 1: Metadata"
   ]
  },
  {
   "cell_type": "code",
   "execution_count": 2,
   "id": "a855ca49-c727-4efa-8eb3-9f5d751073f5",
   "metadata": {},
   "outputs": [],
   "source": [
    "## Load metadata.\n",
    "metadata = read_csv(os.path.join('data', 'metadata.csv'))\n",
    "\n",
    "## Apply rejections.\n",
    "reject = read_csv(os.path.join('data', 'reject.csv'))\n",
    "metadata = metadata[metadata.subject.isin(reject.query('reject == 0').subject)].reset_index(drop=True)"
   ]
  },
  {
   "cell_type": "markdown",
   "id": "43347273-3b6a-47cd-940a-4dec60b487bf",
   "metadata": {},
   "source": [
    "#### 1.1 Gender composition"
   ]
  },
  {
   "cell_type": "code",
   "execution_count": 3,
   "id": "9ca2c95d-3854-4d49-b3d8-51564b017a97",
   "metadata": {},
   "outputs": [
    {
     "data": {
      "text/html": [
       "<div>\n",
       "<style scoped>\n",
       "    .dataframe tbody tr th:only-of-type {\n",
       "        vertical-align: middle;\n",
       "    }\n",
       "\n",
       "    .dataframe tbody tr th {\n",
       "        vertical-align: top;\n",
       "    }\n",
       "\n",
       "    .dataframe thead th {\n",
       "        text-align: right;\n",
       "    }\n",
       "</style>\n",
       "<table border=\"1\" class=\"dataframe\">\n",
       "  <thead>\n",
       "    <tr style=\"text-align: right;\">\n",
       "      <th></th>\n",
       "      <th>count</th>\n",
       "      <th>mean</th>\n",
       "      <th>std</th>\n",
       "      <th>min</th>\n",
       "      <th>25%</th>\n",
       "      <th>50%</th>\n",
       "      <th>75%</th>\n",
       "      <th>max</th>\n",
       "    </tr>\n",
       "    <tr>\n",
       "      <th>gender</th>\n",
       "      <th></th>\n",
       "      <th></th>\n",
       "      <th></th>\n",
       "      <th></th>\n",
       "      <th></th>\n",
       "      <th></th>\n",
       "      <th></th>\n",
       "      <th></th>\n",
       "    </tr>\n",
       "  </thead>\n",
       "  <tbody>\n",
       "    <tr>\n",
       "      <th>Female</th>\n",
       "      <td>147.0</td>\n",
       "      <td>33.0</td>\n",
       "      <td>13.1</td>\n",
       "      <td>18.0</td>\n",
       "      <td>23.0</td>\n",
       "      <td>29.0</td>\n",
       "      <td>41.0</td>\n",
       "      <td>70.0</td>\n",
       "    </tr>\n",
       "    <tr>\n",
       "      <th>Male</th>\n",
       "      <td>138.0</td>\n",
       "      <td>38.0</td>\n",
       "      <td>13.2</td>\n",
       "      <td>18.0</td>\n",
       "      <td>28.0</td>\n",
       "      <td>36.0</td>\n",
       "      <td>46.8</td>\n",
       "      <td>76.0</td>\n",
       "    </tr>\n",
       "    <tr>\n",
       "      <th>Other</th>\n",
       "      <td>13.0</td>\n",
       "      <td>27.5</td>\n",
       "      <td>6.5</td>\n",
       "      <td>19.0</td>\n",
       "      <td>22.0</td>\n",
       "      <td>26.0</td>\n",
       "      <td>30.0</td>\n",
       "      <td>39.0</td>\n",
       "    </tr>\n",
       "    <tr>\n",
       "      <th>Rather not say</th>\n",
       "      <td>2.0</td>\n",
       "      <td>25.5</td>\n",
       "      <td>3.5</td>\n",
       "      <td>23.0</td>\n",
       "      <td>24.2</td>\n",
       "      <td>25.5</td>\n",
       "      <td>26.8</td>\n",
       "      <td>28.0</td>\n",
       "    </tr>\n",
       "  </tbody>\n",
       "</table>\n",
       "</div>"
      ],
      "text/plain": [
       "                count  mean   std   min   25%   50%   75%   max\n",
       "gender                                                         \n",
       "Female          147.0  33.0  13.1  18.0  23.0  29.0  41.0  70.0\n",
       "Male            138.0  38.0  13.2  18.0  28.0  36.0  46.8  76.0\n",
       "Other            13.0  27.5   6.5  19.0  22.0  26.0  30.0  39.0\n",
       "Rather not say    2.0  25.5   3.5  23.0  24.2  25.5  26.8  28.0"
      ]
     },
     "execution_count": 3,
     "metadata": {},
     "output_type": "execute_result"
    }
   ],
   "source": [
    "## Describe gender composition.\n",
    "metadata.groupby('gender').age.describe().round(1)"
   ]
  },
  {
   "cell_type": "code",
   "execution_count": 4,
   "id": "a363ade4-44ca-48e4-b896-0cf6df9349c2",
   "metadata": {},
   "outputs": [
    {
     "data": {
      "text/plain": [
       "count    300.000000\n",
       "mean      34.996667\n",
       "std       13.202943\n",
       "min       18.000000\n",
       "25%       24.000000\n",
       "50%       32.000000\n",
       "75%       43.000000\n",
       "max       76.000000\n",
       "Name: age, dtype: float64"
      ]
     },
     "execution_count": 4,
     "metadata": {},
     "output_type": "execute_result"
    }
   ],
   "source": [
    "metadata.age.describe()"
   ]
  },
  {
   "cell_type": "markdown",
   "id": "a1e61345-b1ae-47e9-b44d-c6eecf2b3792",
   "metadata": {},
   "source": [
    "#### 1.2 Race / ethnicity"
   ]
  },
  {
   "cell_type": "code",
   "execution_count": 5,
   "id": "c79ef2e3-fb1c-4629-a419-11d11ede759e",
   "metadata": {},
   "outputs": [
    {
     "data": {
      "text/plain": [
       "['White']                                                 226\n",
       "['Asian']                                                  27\n",
       "['Black or African American']                              26\n",
       "['Rather not say']                                          8\n",
       "['Asian', 'White']                                          7\n",
       "['Asian', 'Black or African American']                      2\n",
       "['Native Hawaiian or other Pacific Islander', 'White']      1\n",
       "['American Indian/Alaska Native']                           1\n",
       "['American Indian/Alaska Native', 'White']                  1\n",
       "['Black or African American', 'White']                      1\n",
       "Name: race, dtype: int64"
      ]
     },
     "execution_count": 5,
     "metadata": {},
     "output_type": "execute_result"
    }
   ],
   "source": [
    "## Describe race endorsement.\n",
    "metadata.race.value_counts()"
   ]
  },
  {
   "cell_type": "markdown",
   "id": "2811d5aa-f065-4604-b16c-3bd3a93bba09",
   "metadata": {},
   "source": [
    "#### 1.3 Education"
   ]
  },
  {
   "cell_type": "code",
   "execution_count": 6,
   "id": "baee0130-336f-422f-8492-ffe231c2a73c",
   "metadata": {},
   "outputs": [
    {
     "data": {
      "text/plain": [
       "Bachelor degree            121\n",
       "Some college                74\n",
       "Master degree or higher     45\n",
       "High school                 31\n",
       "Associate degree            26\n",
       "Less than high school        2\n",
       "Rather not say               1\n",
       "Name: education, dtype: int64"
      ]
     },
     "execution_count": 6,
     "metadata": {},
     "output_type": "execute_result"
    }
   ],
   "source": [
    "## Describe education endorsement.\n",
    "metadata.education.value_counts()"
   ]
  },
  {
   "cell_type": "markdown",
   "id": "f83171fc-79cc-420e-96cd-5f760955c0ab",
   "metadata": {},
   "source": [
    "#### 1.4 Timing"
   ]
  },
  {
   "cell_type": "code",
   "execution_count": 7,
   "id": "c554d6ed-85f4-425b-8cdd-7cbd0c3e235a",
   "metadata": {},
   "outputs": [
    {
     "data": {
      "text/html": [
       "<div>\n",
       "<style scoped>\n",
       "    .dataframe tbody tr th:only-of-type {\n",
       "        vertical-align: middle;\n",
       "    }\n",
       "\n",
       "    .dataframe tbody tr th {\n",
       "        vertical-align: top;\n",
       "    }\n",
       "\n",
       "    .dataframe thead th {\n",
       "        text-align: right;\n",
       "    }\n",
       "</style>\n",
       "<table border=\"1\" class=\"dataframe\">\n",
       "  <thead>\n",
       "    <tr style=\"text-align: right;\">\n",
       "      <th></th>\n",
       "      <th>count</th>\n",
       "      <th>mean</th>\n",
       "      <th>std</th>\n",
       "      <th>min</th>\n",
       "      <th>25%</th>\n",
       "      <th>50%</th>\n",
       "      <th>75%</th>\n",
       "      <th>max</th>\n",
       "    </tr>\n",
       "  </thead>\n",
       "  <tbody>\n",
       "    <tr>\n",
       "      <th>total</th>\n",
       "      <td>300.0</td>\n",
       "      <td>645.7</td>\n",
       "      <td>273.8</td>\n",
       "      <td>272.8</td>\n",
       "      <td>496.1</td>\n",
       "      <td>593.8</td>\n",
       "      <td>734.6</td>\n",
       "      <td>2402.0</td>\n",
       "    </tr>\n",
       "    <tr>\n",
       "      <th>surveys_total</th>\n",
       "      <td>300.0</td>\n",
       "      <td>204.0</td>\n",
       "      <td>150.7</td>\n",
       "      <td>74.4</td>\n",
       "      <td>136.4</td>\n",
       "      <td>166.4</td>\n",
       "      <td>216.6</td>\n",
       "      <td>1765.5</td>\n",
       "    </tr>\n",
       "    <tr>\n",
       "      <th>mars_total</th>\n",
       "      <td>300.0</td>\n",
       "      <td>270.7</td>\n",
       "      <td>152.7</td>\n",
       "      <td>117.0</td>\n",
       "      <td>198.6</td>\n",
       "      <td>247.8</td>\n",
       "      <td>301.7</td>\n",
       "      <td>2087.3</td>\n",
       "    </tr>\n",
       "    <tr>\n",
       "      <th>mars_task</th>\n",
       "      <td>300.0</td>\n",
       "      <td>174.2</td>\n",
       "      <td>54.0</td>\n",
       "      <td>52.6</td>\n",
       "      <td>133.7</td>\n",
       "      <td>173.7</td>\n",
       "      <td>212.5</td>\n",
       "      <td>297.1</td>\n",
       "    </tr>\n",
       "    <tr>\n",
       "      <th>mars_interactions</th>\n",
       "      <td>300.0</td>\n",
       "      <td>1.8</td>\n",
       "      <td>2.2</td>\n",
       "      <td>1.0</td>\n",
       "      <td>1.0</td>\n",
       "      <td>1.0</td>\n",
       "      <td>2.0</td>\n",
       "      <td>22.0</td>\n",
       "    </tr>\n",
       "    <tr>\n",
       "      <th>rpm_total</th>\n",
       "      <td>300.0</td>\n",
       "      <td>171.0</td>\n",
       "      <td>123.2</td>\n",
       "      <td>43.4</td>\n",
       "      <td>126.8</td>\n",
       "      <td>158.9</td>\n",
       "      <td>186.8</td>\n",
       "      <td>1747.6</td>\n",
       "    </tr>\n",
       "    <tr>\n",
       "      <th>rpm_task</th>\n",
       "      <td>300.0</td>\n",
       "      <td>124.6</td>\n",
       "      <td>40.1</td>\n",
       "      <td>18.6</td>\n",
       "      <td>97.9</td>\n",
       "      <td>127.2</td>\n",
       "      <td>151.0</td>\n",
       "      <td>243.1</td>\n",
       "    </tr>\n",
       "    <tr>\n",
       "      <th>rpm_interactions</th>\n",
       "      <td>300.0</td>\n",
       "      <td>1.6</td>\n",
       "      <td>1.6</td>\n",
       "      <td>0.0</td>\n",
       "      <td>1.0</td>\n",
       "      <td>1.0</td>\n",
       "      <td>1.0</td>\n",
       "      <td>13.0</td>\n",
       "    </tr>\n",
       "  </tbody>\n",
       "</table>\n",
       "</div>"
      ],
      "text/plain": [
       "                   count   mean    std    min    25%    50%    75%     max\n",
       "total              300.0  645.7  273.8  272.8  496.1  593.8  734.6  2402.0\n",
       "surveys_total      300.0  204.0  150.7   74.4  136.4  166.4  216.6  1765.5\n",
       "mars_total         300.0  270.7  152.7  117.0  198.6  247.8  301.7  2087.3\n",
       "mars_task          300.0  174.2   54.0   52.6  133.7  173.7  212.5   297.1\n",
       "mars_interactions  300.0    1.8    2.2    1.0    1.0    1.0    2.0    22.0\n",
       "rpm_total          300.0  171.0  123.2   43.4  126.8  158.9  186.8  1747.6\n",
       "rpm_task           300.0  124.6   40.1   18.6   97.9  127.2  151.0   243.1\n",
       "rpm_interactions   300.0    1.6    1.6    0.0    1.0    1.0    1.0    13.0"
      ]
     },
     "execution_count": 7,
     "metadata": {},
     "output_type": "execute_result"
    }
   ],
   "source": [
    "## Load metadata.\n",
    "timing = read_csv(os.path.join('data', 'timing.csv'))\n",
    "\n",
    "## Apply rejections.\n",
    "reject = read_csv(os.path.join('data', 'reject.csv'))\n",
    "timing = timing[timing.subject.isin(reject.query('reject == 0').subject)].reset_index(drop=True)\n",
    "\n",
    "## Describe task timing.\n",
    "timing.describe().T.round(1)"
   ]
  },
  {
   "cell_type": "markdown",
   "id": "edb0b39c-5dd9-4f2f-b16d-b970652c4667",
   "metadata": {},
   "source": [
    "## Progressive Matrices"
   ]
  },
  {
   "cell_type": "code",
   "execution_count": 8,
   "id": "10afdb58-b242-406f-8f17-245f18c6ec3b",
   "metadata": {},
   "outputs": [],
   "source": [
    "## Load data.\n",
    "mars = read_csv(os.path.join('data', 'mars.csv'))\n",
    "rpm  = read_csv(os.path.join('data', 'rpm.csv'))\n",
    "\n",
    "## Apply rejections.\n",
    "mars = mars[mars.subject.isin(reject.query('reject == 0').subject)].reset_index(drop=True)\n",
    "rpm  = rpm[rpm.subject.isin(reject.query('reject == 0').subject)].reset_index(drop=True)\n",
    "\n",
    "## Handle missing responses.\n",
    "mars = mars.fillna(0)\n",
    "rpm  = rpm.fillna(0)\n",
    "\n",
    "## Define sum scores.\n",
    "scores = DataFrame(dict(\n",
    "    subject = mars.subject.unique(),\n",
    "    short_form = mars.groupby('subject').short_form.mean().astype(int).values,\n",
    "    mars = mars.groupby('subject').accuracy.sum().astype(int).values,\n",
    "    rpm = rpm.groupby('subject').accuracy.sum().astype(int).values,\n",
    "))"
   ]
  },
  {
   "cell_type": "markdown",
   "id": "df753705-d04f-4921-a101-4ab2e9437847",
   "metadata": {},
   "source": [
    "#### 2.1 MARS Scores"
   ]
  },
  {
   "cell_type": "code",
   "execution_count": 9,
   "id": "265a3ede-7fe2-408b-b962-d3cabf0a7a46",
   "metadata": {},
   "outputs": [
    {
     "data": {
      "text/html": [
       "<div>\n",
       "<style scoped>\n",
       "    .dataframe tbody tr th:only-of-type {\n",
       "        vertical-align: middle;\n",
       "    }\n",
       "\n",
       "    .dataframe tbody tr th {\n",
       "        vertical-align: top;\n",
       "    }\n",
       "\n",
       "    .dataframe thead th {\n",
       "        text-align: right;\n",
       "    }\n",
       "</style>\n",
       "<table border=\"1\" class=\"dataframe\">\n",
       "  <thead>\n",
       "    <tr style=\"text-align: right;\">\n",
       "      <th></th>\n",
       "      <th>count</th>\n",
       "      <th>mean</th>\n",
       "      <th>std</th>\n",
       "      <th>min</th>\n",
       "      <th>25%</th>\n",
       "      <th>50%</th>\n",
       "      <th>75%</th>\n",
       "      <th>max</th>\n",
       "    </tr>\n",
       "    <tr>\n",
       "      <th>short_form</th>\n",
       "      <th></th>\n",
       "      <th></th>\n",
       "      <th></th>\n",
       "      <th></th>\n",
       "      <th></th>\n",
       "      <th></th>\n",
       "      <th></th>\n",
       "      <th></th>\n",
       "    </tr>\n",
       "  </thead>\n",
       "  <tbody>\n",
       "    <tr>\n",
       "      <th>1</th>\n",
       "      <td>103.0</td>\n",
       "      <td>7.9</td>\n",
       "      <td>2.4</td>\n",
       "      <td>2.0</td>\n",
       "      <td>7.0</td>\n",
       "      <td>8.0</td>\n",
       "      <td>10.0</td>\n",
       "      <td>12.0</td>\n",
       "    </tr>\n",
       "    <tr>\n",
       "      <th>2</th>\n",
       "      <td>98.0</td>\n",
       "      <td>8.2</td>\n",
       "      <td>2.6</td>\n",
       "      <td>1.0</td>\n",
       "      <td>7.0</td>\n",
       "      <td>9.0</td>\n",
       "      <td>10.0</td>\n",
       "      <td>12.0</td>\n",
       "    </tr>\n",
       "    <tr>\n",
       "      <th>3</th>\n",
       "      <td>99.0</td>\n",
       "      <td>7.9</td>\n",
       "      <td>2.7</td>\n",
       "      <td>1.0</td>\n",
       "      <td>6.0</td>\n",
       "      <td>8.0</td>\n",
       "      <td>10.0</td>\n",
       "      <td>12.0</td>\n",
       "    </tr>\n",
       "  </tbody>\n",
       "</table>\n",
       "</div>"
      ],
      "text/plain": [
       "            count  mean  std  min  25%  50%   75%   max\n",
       "short_form                                             \n",
       "1           103.0   7.9  2.4  2.0  7.0  8.0  10.0  12.0\n",
       "2            98.0   8.2  2.6  1.0  7.0  9.0  10.0  12.0\n",
       "3            99.0   7.9  2.7  1.0  6.0  8.0  10.0  12.0"
      ]
     },
     "execution_count": 9,
     "metadata": {},
     "output_type": "execute_result"
    }
   ],
   "source": [
    "## Describe score distributions.\n",
    "scores.groupby('short_form').mars.describe().round(1)"
   ]
  },
  {
   "cell_type": "markdown",
   "id": "1b544680-b4ab-4478-8d16-39240bc157c7",
   "metadata": {},
   "source": [
    "#### 2.2 RPM Scores"
   ]
  },
  {
   "cell_type": "code",
   "execution_count": 10,
   "id": "78514a5a-124c-4e9c-9320-254aeb375444",
   "metadata": {},
   "outputs": [
    {
     "data": {
      "text/plain": [
       "count    300.0\n",
       "mean       4.5\n",
       "std        2.0\n",
       "min        0.0\n",
       "25%        3.0\n",
       "50%        5.0\n",
       "75%        6.0\n",
       "max        9.0\n",
       "Name: rpm, dtype: float64"
      ]
     },
     "execution_count": 10,
     "metadata": {},
     "output_type": "execute_result"
    }
   ],
   "source": [
    "## Describe score distributions.\n",
    "scores.rpm.describe().round(1)"
   ]
  },
  {
   "cell_type": "code",
   "execution_count": 11,
   "id": "34179719-f988-4c3b-b982-2e62302a3149",
   "metadata": {},
   "outputs": [
    {
     "data": {
      "text/plain": [
       "count    300.000000\n",
       "mean       8.003333\n",
       "std        2.534707\n",
       "min        1.000000\n",
       "25%        6.000000\n",
       "50%        8.000000\n",
       "75%       10.000000\n",
       "max       12.000000\n",
       "Name: mars, dtype: float64"
      ]
     },
     "execution_count": 11,
     "metadata": {},
     "output_type": "execute_result"
    }
   ],
   "source": [
    "scores.mars.describe()"
   ]
  },
  {
   "cell_type": "code",
   "execution_count": 12,
   "id": "90cbffd9-49e1-448b-b112-a08fb6fb06ac",
   "metadata": {},
   "outputs": [
    {
     "data": {
      "text/plain": [
       "F_onewayResult(statistic=0.25269128003541735, pvalue=0.7768744452906258)"
      ]
     },
     "execution_count": 12,
     "metadata": {},
     "output_type": "execute_result"
    }
   ],
   "source": [
    "from scipy.stats import f_oneway\n",
    "\n",
    "a = scores.query('short_form == 1').mars.values\n",
    "b = scores.query('short_form == 2').mars.values\n",
    "c = scores.query('short_form == 3').mars.values\n",
    "\n",
    "f_oneway(a,b,c)"
   ]
  },
  {
   "cell_type": "code",
   "execution_count": 13,
   "id": "94fc0b2d-7ff8-41d3-81a0-cd0f2cc66c71",
   "metadata": {},
   "outputs": [
    {
     "data": {
      "text/plain": [
       "Ttest_relResult(statistic=25.597510780142958, pvalue=2.5075521632634885e-77)"
      ]
     },
     "execution_count": 13,
     "metadata": {},
     "output_type": "execute_result"
    }
   ],
   "source": [
    "from scipy.stats import ttest_rel\n",
    "\n",
    "ttest_rel(scores.mars, scores.rpm)"
   ]
  },
  {
   "cell_type": "markdown",
   "id": "3a9c965d-01ac-4ba1-a7cc-8e99d99d2c7c",
   "metadata": {},
   "source": [
    "#### 2.3 Correlation"
   ]
  },
  {
   "cell_type": "code",
   "execution_count": 14,
   "id": "a931b280-4cec-4802-9b27-e55c2eb7533a",
   "metadata": {},
   "outputs": [
    {
     "name": "stdout",
     "output_type": "stream",
     "text": [
      "rho[1]:\t-0.123\t[-0.253, 0.013]\n",
      "rho[2]:\t-0.025\t[-0.160, 0.108]\n",
      "rho[3]:\t0.527\t[0.457, 0.577]\n"
     ]
    }
   ],
   "source": [
    "from arviz import hdi\n",
    "\n",
    "samples = read_csv('stan_results/3pl.tsv.gz', index_col=0, sep='\\t', compression='gzip')\n",
    "\n",
    "for i in [1,2,3]:\n",
    "\n",
    "    ## Extract samples.\n",
    "    arr = samples[f'rho[{i}]'].values\n",
    "    \n",
    "    ## Compute mean.\n",
    "    mu = np.mean(arr)\n",
    "    \n",
    "    ## Compute HDI.\n",
    "    lb, ub = hdi(arr, hdi_prob=0.95)\n",
    "    \n",
    "    print('rho[%s]:\\t%0.3f\\t[%0.3f, %0.3f]' %(i,mu,lb,ub))"
   ]
  },
  {
   "cell_type": "markdown",
   "id": "e8236afb-dbcb-471c-a221-8e8fd9f87252",
   "metadata": {},
   "source": [
    "## Section 3: Figures"
   ]
  },
  {
   "cell_type": "code",
   "execution_count": 15,
   "id": "eb1f040f-1015-4dce-b403-9334fcd58e09",
   "metadata": {},
   "outputs": [
    {
     "data": {
      "image/png": "[encoded data removed]",
      "text/plain": [
       "<Figure size 432x432 with 3 Axes>"
      ]
     },
     "metadata": {},
     "output_type": "display_data"
    }
   ],
   "source": [
    "import matplotlib.gridspec as gridspec\n",
    "sns.set_theme('notebook', style='white', font='sans-serif', font_scale=1.33)\n",
    "\n",
    "#~~~~~~~~~~~~~~~~~~~~~~~~~~~~~~~~~~~~~~~~~~#\n",
    "### Define parameters.\n",
    "#~~~~~~~~~~~~~~~~~~~~~~~~~~~~~~~~~~~~~~~~~~#\n",
    "\n",
    "## Initialize canvas.\n",
    "fig = plt.figure(figsize=(6,6))\n",
    "\n",
    "## Initialize panels.\n",
    "spec = fig.add_gridspec(4,4, left=0.12, right=0.98, top=0.98, bottom=0.12, wspace=0, hspace=0)\n",
    "\n",
    "## Define palette.\n",
    "palette = sns.color_palette('Blues', n_colors=4).as_hex()[1:]\n",
    "\n",
    "#~~~~~~~~~~~~~~~~~~~~~~~~~~~~~~~~~~~~~~~~~~#\n",
    "### Panel A: MaRs-IB scores.\n",
    "#~~~~~~~~~~~~~~~~~~~~~~~~~~~~~~~~~~~~~~~~~~#\n",
    "\n",
    "## Initialize axis.\n",
    "ax = plt.subplot(spec[0,:3])\n",
    "\n",
    "## Plot MARS scores.\n",
    "sns.histplot(x='mars', hue='short_form', data=scores, bins=np.arange(14)-0.5, \n",
    "             multiple='stack', legend=True, palette=palette, ax=ax)\n",
    "ax.set(xlim=(-0.5, 12.5), xticks=np.arange(0,13,4), xticklabels=[], yticks=[], ylabel='')\n",
    "\n",
    "## Update legend.\n",
    "legend = ax.get_legend()\n",
    "handles = legend.legendHandles\n",
    "ax.legend(handles, ['SF-1','SF-2','SF-3'], loc=2, frameon=False, handletextpad=0.5, borderpad=-0.2)\n",
    "\n",
    "## Remove spines.\n",
    "sns.despine(ax=ax, left=True, right=True, top=True, bottom=True)\n",
    "\n",
    "#~~~~~~~~~~~~~~~~~~~~~~~~~~~~~~~~~~~~~~~~~~#\n",
    "### Panel B: RPM scores.\n",
    "#~~~~~~~~~~~~~~~~~~~~~~~~~~~~~~~~~~~~~~~~~~#\n",
    "\n",
    "## Initialize axis.\n",
    "ax = plt.subplot(spec[1:,-1])\n",
    "\n",
    "## Plot RPM scores.\n",
    "sns.histplot(y='rpm', data=scores, bins=np.arange(11)-0.5, ax=ax)\n",
    "ax.set(ylim=(-0.5, 9.5), yticks=np.arange(0,10,3), yticklabels=[], xticks=[], xlabel='')\n",
    "\n",
    "## Remove spines.\n",
    "sns.despine(ax=ax, left=True, right=True, top=True, bottom=True)\n",
    "\n",
    "#~~~~~~~~~~~~~~~~~~~~~~~~~~~~~~~~~~~~~~~~~~#\n",
    "### Panel C: Scatterplot.\n",
    "#~~~~~~~~~~~~~~~~~~~~~~~~~~~~~~~~~~~~~~~~~~#\n",
    "np.random.seed(47404)\n",
    "\n",
    "## Initialize axis.\n",
    "ax = plt.subplot(spec[1:,:3])\n",
    "\n",
    "# ## Add jitter.\n",
    "scores['mars_j'] = scores['mars'] + np.random.normal(0,0.1,len(scores))\n",
    "scores['rpm_j'] = scores['rpm'] + np.random.normal(0,0.1,len(scores))\n",
    "\n",
    "## Plot joint scores.\n",
    "ax.set(xlim=(-0.5, 12.5), ylim=(-0.5, 9.5))\n",
    "sns.regplot(x='mars', y='rpm', data=scores, color='grey', scatter=False, truncate=False, ax=ax)\n",
    "sns.scatterplot(x='mars_j', y='rpm_j', hue='short_form', data=scores, palette=palette, zorder=10, ax=ax)\n",
    "ax.set(xticks=np.arange(0,13,4), xlabel='MaRs-IB scores', yticks=np.arange(0,10,3), ylabel='RPM scores')\n",
    "ax.legend_.set_visible(False)\n",
    "\n",
    "plt.savefig(os.path.join('..', '05_Figures', 'fig03.png'), dpi=100)"
   ]
  },
  {
   "cell_type": "markdown",
   "id": "d81dac6d-f09c-4c60-a255-41a148dbf398",
   "metadata": {},
   "source": [
    "## Section 4: Self-Report Data"
   ]
  },
  {
   "cell_type": "code",
   "execution_count": null,
   "id": "d736b6e9-2f97-4bc7-a7a1-6fc0956a8220",
   "metadata": {},
   "outputs": [],
   "source": [
    "## Load metadata.\n",
    "surveys = read_csv(os.path.join('data', 'surveys.csv'))\n",
    "\n",
    "## Apply rejections.\n",
    "reject = read_csv(os.path.join('data', 'reject.csv'))\n",
    "surveys = surveys[surveys.subject.isin(reject.query('reject == 0').subject)].reset_index(drop=True)\n",
    "\n",
    "## Compute sum scores.\n",
    "scores['nfc10'] = surveys.filter(regex='nfc10_q').values[:,:-1].sum(axis=1)\n",
    "scores['pcf'] = surveys.filter(regex='pcf_q').values[:,:-1].sum(axis=1)\n",
    "scores['sns'] = surveys.filter(regex='sns_q').values[:,:-1].sum(axis=1)"
   ]
  },
  {
   "cell_type": "markdown",
   "id": "086c15b8-1f49-4710-875a-24c0fa015350",
   "metadata": {},
   "source": [
    "#### 4.1 Score distributiosn"
   ]
  },
  {
   "cell_type": "code",
   "execution_count": null,
   "id": "ed6726e8-f40f-4725-8e03-cc182e6835f9",
   "metadata": {},
   "outputs": [],
   "source": [
    "## Initialize canvas.\n",
    "fig, axes = plt.subplots(1,3,figsize=(12,4),sharey=True)\n",
    "\n",
    "## Plot distributions.\n",
    "sns.histplot(x=scores.nfc10, bins=7, ax=axes[0])\n",
    "sns.histplot(x=scores.pcf, bins=7, ax=axes[1])\n",
    "sns.histplot(x=scores.sns, bins=7, ax=axes[2])\n",
    "\n",
    "sns.despine()\n",
    "plt.tight_layout()"
   ]
  },
  {
   "cell_type": "markdown",
   "id": "765aeb77-9c68-4451-9080-2120fef0dac3",
   "metadata": {},
   "source": [
    "#### 4.2 Score correlations"
   ]
  },
  {
   "cell_type": "code",
   "execution_count": null,
   "id": "97cf3b25-5eb2-45ff-aea6-476437165830",
   "metadata": {},
   "outputs": [],
   "source": [
    "## Compute correlations.\n",
    "corr = scores.drop(columns='short_form').corr(method='spearman')\n",
    "\n",
    "## Plot correlations.\n",
    "sns.heatmap(corr, vmin=0, vmax=1, annot=True, fmt='0.2f');"
   ]
  }
 ],
 "metadata": {
  "kernelspec": {
   "display_name": "Python 3",
   "language": "python",
   "name": "python3"
  },
  "language_info": {
   "codemirror_mode": {
    "name": "ipython",
    "version": 3
   },
   "file_extension": ".py",
   "mimetype": "text/x-python",
   "name": "python",
   "nbconvert_exporter": "python",
   "pygments_lexer": "ipython3",
   "version": "3.7.9"
  },
  "toc-autonumbering": false,
  "toc-showcode": false,
  "toc-showtags": false
 },
 "nbformat": 4,
 "nbformat_minor": 5
}

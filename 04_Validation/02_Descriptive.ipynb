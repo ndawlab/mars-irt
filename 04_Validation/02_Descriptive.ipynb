{
 "cells": [
  {
   "cell_type": "code",
   "execution_count": 1,
   "id": "f322d3bd-aab8-47c5-a504-9ae74e9a3374",
   "metadata": {
    "tags": []
   },
   "outputs": [],
   "source": [
    "import numpy as np\n",
    "import matplotlib.pyplot as plt\n",
    "import seaborn as sns\n",
    "from pandas import DataFrame, read_csv\n",
    "\n",
    "mars = read_csv('data/mars.csv').fillna(0)\n",
    "rpm = read_csv('data/rpm.csv').fillna(0)\n",
    "surveys = read_csv('data/surveys.csv')\n",
    "reject = read_csv('data/reject.csv')\n",
    "\n",
    "mars = mars[mars.subject.isin(reject.query('reject == 0').subject)].reset_index(drop=True)\n",
    "rpm = rpm[rpm.subject.isin(reject.query('reject == 0').subject)].reset_index(drop=True)\n",
    "surveys = surveys[surveys.subject.isin(reject.query('reject == 0').subject)].reset_index(drop=True)"
   ]
  },
  {
   "cell_type": "code",
   "execution_count": 2,
   "id": "6f9b44f1-58a0-4f2b-abed-8f3b7b4c245f",
   "metadata": {},
   "outputs": [
    {
     "data": {
      "text/plain": [
       "item  shape_set\n",
       "71    2            105\n",
       "      1             98\n",
       "      3             96\n",
       "55    2            111\n",
       "      3             96\n",
       "      1             92\n",
       "30    2            105\n",
       "      3             98\n",
       "      1             96\n",
       "45    2            105\n",
       "      1             98\n",
       "      3             96\n",
       "11    2            111\n",
       "      1             95\n",
       "      3             93\n",
       "29    2            105\n",
       "      3             98\n",
       "      1             96\n",
       "16    2            105\n",
       "      1             98\n",
       "      3             96\n",
       "17    2            111\n",
       "      1             96\n",
       "      3             92\n",
       "23    2            105\n",
       "      3             98\n",
       "      1             96\n",
       "58    2            105\n",
       "      1             98\n",
       "      3             96\n",
       "35    2            111\n",
       "      3             99\n",
       "      1             89\n",
       "76    2            105\n",
       "      3             98\n",
       "      1             96\n",
       "Name: shape_set, dtype: int64"
      ]
     },
     "execution_count": 2,
     "metadata": {},
     "output_type": "execute_result"
    }
   ],
   "source": [
    "counts = mars.groupby('item').shape_set.value_counts()\n",
    "counts[[71, 55, 30, 45, 11, 29, 16, 17, 23, 58, 35, 76]]"
   ]
  },
  {
   "cell_type": "code",
   "execution_count": 3,
   "id": "e658de58-6bbf-41b6-9261-13d6411f42ef",
   "metadata": {},
   "outputs": [],
   "source": [
    "scores = DataFrame([\n",
    "    mars.groupby('subject').accuracy.sum(),\n",
    "    rpm.groupby('subject').accuracy.sum(),\n",
    "]).T\n",
    "scores.columns = ['mars', 'rpm']\n",
    "\n",
    "weights = [0.198,0.216,0.237,0.142,0.374,0.304,0.178,0.458,0.289];\n",
    "X = 1 - rpm.pivot_table('accuracy','subject','trial').values\n",
    "err = rpm.trial.max() - scores['rpm']\n",
    "scores['rpm_adj'] = 60 - (err + np.exp(1.323 + X @ weights))\n",
    "scores['neuroticism'] = surveys[surveys.filter(regex='neuroticism_q').columns[:-1]].sum(axis=1).values\n",
    "scores['openness'] = surveys[surveys.filter(regex='openness_q').columns[:-1]].sum(axis=1).values"
   ]
  },
  {
   "cell_type": "code",
   "execution_count": 4,
   "id": "938b6237-4d55-440d-a295-47f64539c95f",
   "metadata": {},
   "outputs": [
    {
     "data": {
      "text/html": [
       "<div>\n",
       "<style scoped>\n",
       "    .dataframe tbody tr th:only-of-type {\n",
       "        vertical-align: middle;\n",
       "    }\n",
       "\n",
       "    .dataframe tbody tr th {\n",
       "        vertical-align: top;\n",
       "    }\n",
       "\n",
       "    .dataframe thead th {\n",
       "        text-align: right;\n",
       "    }\n",
       "</style>\n",
       "<table border=\"1\" class=\"dataframe\">\n",
       "  <thead>\n",
       "    <tr style=\"text-align: right;\">\n",
       "      <th></th>\n",
       "      <th>mars</th>\n",
       "      <th>rpm</th>\n",
       "      <th>rpm_adj</th>\n",
       "      <th>neuroticism</th>\n",
       "      <th>openness</th>\n",
       "    </tr>\n",
       "  </thead>\n",
       "  <tbody>\n",
       "    <tr>\n",
       "      <th>mars</th>\n",
       "      <td>1.000</td>\n",
       "      <td>0.544</td>\n",
       "      <td>0.533</td>\n",
       "      <td>0.135</td>\n",
       "      <td>0.090</td>\n",
       "    </tr>\n",
       "    <tr>\n",
       "      <th>rpm</th>\n",
       "      <td>0.544</td>\n",
       "      <td>1.000</td>\n",
       "      <td>0.959</td>\n",
       "      <td>0.074</td>\n",
       "      <td>0.108</td>\n",
       "    </tr>\n",
       "    <tr>\n",
       "      <th>rpm_adj</th>\n",
       "      <td>0.533</td>\n",
       "      <td>0.959</td>\n",
       "      <td>1.000</td>\n",
       "      <td>0.085</td>\n",
       "      <td>0.103</td>\n",
       "    </tr>\n",
       "    <tr>\n",
       "      <th>neuroticism</th>\n",
       "      <td>0.135</td>\n",
       "      <td>0.074</td>\n",
       "      <td>0.085</td>\n",
       "      <td>1.000</td>\n",
       "      <td>0.110</td>\n",
       "    </tr>\n",
       "    <tr>\n",
       "      <th>openness</th>\n",
       "      <td>0.090</td>\n",
       "      <td>0.108</td>\n",
       "      <td>0.103</td>\n",
       "      <td>0.110</td>\n",
       "      <td>1.000</td>\n",
       "    </tr>\n",
       "  </tbody>\n",
       "</table>\n",
       "</div>"
      ],
      "text/plain": [
       "              mars    rpm  rpm_adj  neuroticism  openness\n",
       "mars         1.000  0.544    0.533        0.135     0.090\n",
       "rpm          0.544  1.000    0.959        0.074     0.108\n",
       "rpm_adj      0.533  0.959    1.000        0.085     0.103\n",
       "neuroticism  0.135  0.074    0.085        1.000     0.110\n",
       "openness     0.090  0.108    0.103        0.110     1.000"
      ]
     },
     "execution_count": 4,
     "metadata": {},
     "output_type": "execute_result"
    }
   ],
   "source": [
    "scores.corr(method='pearson').round(3)"
   ]
  },
  {
   "cell_type": "code",
   "execution_count": 5,
   "id": "f9e11e49-4c2e-4877-b62e-1066763801e6",
   "metadata": {},
   "outputs": [
    {
     "data": {
      "text/plain": [
       "<AxesSubplot:xlabel='mars_x', ylabel='rpm_y'>"
      ]
     },
     "execution_count": 5,
     "metadata": {},
     "output_type": "execute_result"
    },
    {
     "data": {
      "image/png": "[encoded data removed]",
      "text/plain": [
       "<Figure size 432x288 with 1 Axes>"
      ]
     },
     "metadata": {
      "needs_background": "light"
     },
     "output_type": "display_data"
    }
   ],
   "source": [
    "scores['mars_x'] = scores['mars'] + np.random.normal(0, 0.1, len(scores))\n",
    "scores['rpm_y'] = scores['rpm'] + np.random.normal(0, 0.1, len(scores))\n",
    "sns.scatterplot(x='mars_x', y='rpm_y', data=scores)"
   ]
  },
  {
   "cell_type": "code",
   "execution_count": 6,
   "id": "86089a96-58ef-4d92-a1c8-02e78007964b",
   "metadata": {},
   "outputs": [
    {
     "name": "stderr",
     "output_type": "stream",
     "text": [
      "INFO:cmdstanpy:found newer exe file, not recompiling\n",
      "INFO:cmdstanpy:compiled model file: /Users/szoro/Desktop/projects/mars-irt/04_Validation/stan_models/student_t_reg\n"
     ]
    },
    {
     "data": {
      "application/vnd.jupyter.widget-view+json": {
       "model_id": "ca3473d52be848b9bc9b952197c61ee6",
       "version_major": 2,
       "version_minor": 0
      },
      "text/plain": [
       "Chain 1 - warmup:   0%|          | 0/1 [00:00<?, ?it/s]"
      ]
     },
     "metadata": {},
     "output_type": "display_data"
    },
    {
     "data": {
      "application/vnd.jupyter.widget-view+json": {
       "model_id": "f778a79f9b884d7996a7db9683b511a9",
       "version_major": 2,
       "version_minor": 0
      },
      "text/plain": [
       "Chain 2 - warmup:   0%|          | 0/1 [00:00<?, ?it/s]"
      ]
     },
     "metadata": {},
     "output_type": "display_data"
    },
    {
     "data": {
      "application/vnd.jupyter.widget-view+json": {
       "model_id": "9d09b07da6a04a7faff8d2513f05e86c",
       "version_major": 2,
       "version_minor": 0
      },
      "text/plain": [
       "Chain 3 - warmup:   0%|          | 0/1 [00:00<?, ?it/s]"
      ]
     },
     "metadata": {},
     "output_type": "display_data"
    },
    {
     "data": {
      "application/vnd.jupyter.widget-view+json": {
       "model_id": "02a561433a994c0d86c2618bee3baf67",
       "version_major": 2,
       "version_minor": 0
      },
      "text/plain": [
       "Chain 4 - warmup:   0%|          | 0/1 [00:00<?, ?it/s]"
      ]
     },
     "metadata": {},
     "output_type": "display_data"
    },
    {
     "data": {
      "text/html": [
       "<div>\n",
       "<style scoped>\n",
       "    .dataframe tbody tr th:only-of-type {\n",
       "        vertical-align: middle;\n",
       "    }\n",
       "\n",
       "    .dataframe tbody tr th {\n",
       "        vertical-align: top;\n",
       "    }\n",
       "\n",
       "    .dataframe thead th {\n",
       "        text-align: right;\n",
       "    }\n",
       "</style>\n",
       "<table border=\"1\" class=\"dataframe\">\n",
       "  <thead>\n",
       "    <tr style=\"text-align: right;\">\n",
       "      <th></th>\n",
       "      <th>Mean</th>\n",
       "      <th>MCSE</th>\n",
       "      <th>StdDev</th>\n",
       "      <th>5%</th>\n",
       "      <th>50%</th>\n",
       "      <th>95%</th>\n",
       "      <th>N_Eff</th>\n",
       "      <th>N_Eff/s</th>\n",
       "      <th>R_hat</th>\n",
       "    </tr>\n",
       "    <tr>\n",
       "      <th>name</th>\n",
       "      <th></th>\n",
       "      <th></th>\n",
       "      <th></th>\n",
       "      <th></th>\n",
       "      <th></th>\n",
       "      <th></th>\n",
       "      <th></th>\n",
       "      <th></th>\n",
       "      <th></th>\n",
       "    </tr>\n",
       "  </thead>\n",
       "  <tbody>\n",
       "    <tr>\n",
       "      <th>lp__</th>\n",
       "      <td>-380.00</td>\n",
       "      <td>0.02300</td>\n",
       "      <td>0.970</td>\n",
       "      <td>-380.00</td>\n",
       "      <td>-380.00</td>\n",
       "      <td>-380.00</td>\n",
       "      <td>1800.0</td>\n",
       "      <td>2000.0</td>\n",
       "      <td>1.0</td>\n",
       "    </tr>\n",
       "    <tr>\n",
       "      <th>beta[1]</th>\n",
       "      <td>0.56</td>\n",
       "      <td>0.00082</td>\n",
       "      <td>0.048</td>\n",
       "      <td>0.49</td>\n",
       "      <td>0.56</td>\n",
       "      <td>0.64</td>\n",
       "      <td>3376.0</td>\n",
       "      <td>3670.0</td>\n",
       "      <td>1.0</td>\n",
       "    </tr>\n",
       "    <tr>\n",
       "      <th>sigma</th>\n",
       "      <td>0.60</td>\n",
       "      <td>0.00000</td>\n",
       "      <td>0.000</td>\n",
       "      <td>0.60</td>\n",
       "      <td>0.60</td>\n",
       "      <td>0.70</td>\n",
       "      <td>3371.7</td>\n",
       "      <td>3664.9</td>\n",
       "      <td>1.0</td>\n",
       "    </tr>\n",
       "  </tbody>\n",
       "</table>\n",
       "</div>"
      ],
      "text/plain": [
       "           Mean     MCSE  StdDev      5%     50%     95%   N_Eff  N_Eff/s  \\\n",
       "name                                                                        \n",
       "lp__    -380.00  0.02300   0.970 -380.00 -380.00 -380.00  1800.0   2000.0   \n",
       "beta[1]    0.56  0.00082   0.048    0.49    0.56    0.64  3376.0   3670.0   \n",
       "sigma      0.60  0.00000   0.000    0.60    0.60    0.70  3371.7   3664.9   \n",
       "\n",
       "         R_hat  \n",
       "name            \n",
       "lp__       1.0  \n",
       "beta[1]    1.0  \n",
       "sigma      1.0  "
      ]
     },
     "execution_count": 6,
     "metadata": {},
     "output_type": "execute_result"
    }
   ],
   "source": [
    "from cmdstanpy import CmdStanModel\n",
    "\n",
    "zscore = lambda x: (x - np.mean(x)) / np.std(x)\n",
    "\n",
    "Y = zscore(scores.rpm_adj.values)\n",
    "X = np.atleast_2d(zscore(scores.mars.values)).T\n",
    "N, M = X.shape\n",
    "\n",
    "dd = dict(N=N, M=M, Y=Y, X=X)\n",
    "\n",
    "StanModel = CmdStanModel(stan_file='stan_models/student_t_reg.stan')\n",
    "\n",
    "StanFit = StanModel.sample(data=dd, chains=4, parallel_chains=4, iter_warmup=1000, iter_sampling=1000,\n",
    "                           seed=0, show_progress='notebook')\n",
    "\n",
    "StanFit.summary()"
   ]
  },
  {
   "cell_type": "code",
   "execution_count": 7,
   "id": "66103608-ec48-4bfb-9392-56a085393987",
   "metadata": {},
   "outputs": [
    {
     "data": {
      "text/plain": [
       "<AxesSubplot:xlabel='mars', ylabel='count'>"
      ]
     },
     "execution_count": 7,
     "metadata": {},
     "output_type": "execute_result"
    },
    {
     "data": {
      "image/png": "[encoded data removed]",
      "text/plain": [
       "<Figure size 432x288 with 1 Axes>"
      ]
     },
     "metadata": {
      "needs_background": "light"
     },
     "output_type": "display_data"
    }
   ],
   "source": [
    "sns.countplot(x=scores['mars'], order=np.arange(13))"
   ]
  },
  {
   "cell_type": "code",
   "execution_count": 8,
   "id": "01f2e2e9-3bc6-4157-bd34-68450035427d",
   "metadata": {},
   "outputs": [
    {
     "data": {
      "text/plain": [
       "<AxesSubplot:xlabel='rpm', ylabel='count'>"
      ]
     },
     "execution_count": 8,
     "metadata": {},
     "output_type": "execute_result"
    },
    {
     "data": {
      "image/png": "[encoded data removed]",
      "text/plain": [
       "<Figure size 432x288 with 1 Axes>"
      ]
     },
     "metadata": {
      "needs_background": "light"
     },
     "output_type": "display_data"
    }
   ],
   "source": [
    "sns.countplot(x=scores['rpm'], order=np.arange(10))"
   ]
  },
  {
   "cell_type": "code",
   "execution_count": 9,
   "id": "2db59813-e0e1-4586-9353-5a46d06f6b08",
   "metadata": {},
   "outputs": [
    {
     "data": {
      "text/html": [
       "<div>\n",
       "<style scoped>\n",
       "    .dataframe tbody tr th:only-of-type {\n",
       "        vertical-align: middle;\n",
       "    }\n",
       "\n",
       "    .dataframe tbody tr th {\n",
       "        vertical-align: top;\n",
       "    }\n",
       "\n",
       "    .dataframe thead th {\n",
       "        text-align: right;\n",
       "    }\n",
       "</style>\n",
       "<table border=\"1\" class=\"dataframe\">\n",
       "  <thead>\n",
       "    <tr style=\"text-align: right;\">\n",
       "      <th>shape_set</th>\n",
       "      <th>1</th>\n",
       "      <th>2</th>\n",
       "      <th>3</th>\n",
       "    </tr>\n",
       "    <tr>\n",
       "      <th>item</th>\n",
       "      <th></th>\n",
       "      <th></th>\n",
       "      <th></th>\n",
       "    </tr>\n",
       "  </thead>\n",
       "  <tbody>\n",
       "    <tr>\n",
       "      <th>11</th>\n",
       "      <td>0.578947</td>\n",
       "      <td>0.585586</td>\n",
       "      <td>0.666667</td>\n",
       "    </tr>\n",
       "    <tr>\n",
       "      <th>16</th>\n",
       "      <td>0.714286</td>\n",
       "      <td>0.742857</td>\n",
       "      <td>0.645833</td>\n",
       "    </tr>\n",
       "    <tr>\n",
       "      <th>17</th>\n",
       "      <td>0.645833</td>\n",
       "      <td>0.477477</td>\n",
       "      <td>0.423913</td>\n",
       "    </tr>\n",
       "    <tr>\n",
       "      <th>23</th>\n",
       "      <td>0.781250</td>\n",
       "      <td>0.647619</td>\n",
       "      <td>0.571429</td>\n",
       "    </tr>\n",
       "    <tr>\n",
       "      <th>29</th>\n",
       "      <td>0.822917</td>\n",
       "      <td>0.676190</td>\n",
       "      <td>0.581633</td>\n",
       "    </tr>\n",
       "    <tr>\n",
       "      <th>30</th>\n",
       "      <td>0.739583</td>\n",
       "      <td>0.800000</td>\n",
       "      <td>0.755102</td>\n",
       "    </tr>\n",
       "    <tr>\n",
       "      <th>35</th>\n",
       "      <td>0.685393</td>\n",
       "      <td>0.576577</td>\n",
       "      <td>0.414141</td>\n",
       "    </tr>\n",
       "    <tr>\n",
       "      <th>45</th>\n",
       "      <td>0.765306</td>\n",
       "      <td>0.866667</td>\n",
       "      <td>0.729167</td>\n",
       "    </tr>\n",
       "    <tr>\n",
       "      <th>55</th>\n",
       "      <td>0.902174</td>\n",
       "      <td>0.783784</td>\n",
       "      <td>0.822917</td>\n",
       "    </tr>\n",
       "    <tr>\n",
       "      <th>58</th>\n",
       "      <td>0.653061</td>\n",
       "      <td>0.676190</td>\n",
       "      <td>0.583333</td>\n",
       "    </tr>\n",
       "    <tr>\n",
       "      <th>71</th>\n",
       "      <td>0.734694</td>\n",
       "      <td>0.714286</td>\n",
       "      <td>0.656250</td>\n",
       "    </tr>\n",
       "    <tr>\n",
       "      <th>76</th>\n",
       "      <td>0.531250</td>\n",
       "      <td>0.552381</td>\n",
       "      <td>0.438776</td>\n",
       "    </tr>\n",
       "  </tbody>\n",
       "</table>\n",
       "</div>"
      ],
      "text/plain": [
       "shape_set         1         2         3\n",
       "item                                   \n",
       "11         0.578947  0.585586  0.666667\n",
       "16         0.714286  0.742857  0.645833\n",
       "17         0.645833  0.477477  0.423913\n",
       "23         0.781250  0.647619  0.571429\n",
       "29         0.822917  0.676190  0.581633\n",
       "30         0.739583  0.800000  0.755102\n",
       "35         0.685393  0.576577  0.414141\n",
       "45         0.765306  0.866667  0.729167\n",
       "55         0.902174  0.783784  0.822917\n",
       "58         0.653061  0.676190  0.583333\n",
       "71         0.734694  0.714286  0.656250\n",
       "76         0.531250  0.552381  0.438776"
      ]
     },
     "execution_count": 9,
     "metadata": {},
     "output_type": "execute_result"
    }
   ],
   "source": [
    "mars.pivot_table('accuracy','item','shape_set')"
   ]
  },
  {
   "cell_type": "code",
   "execution_count": null,
   "id": "1da22d5d-eac1-473d-b156-ad355574f13a",
   "metadata": {},
   "outputs": [],
   "source": []
  }
 ],
 "metadata": {
  "kernelspec": {
   "display_name": "Python 3",
   "language": "python",
   "name": "python3"
  },
  "language_info": {
   "codemirror_mode": {
    "name": "ipython",
    "version": 3
   },
   "file_extension": ".py",
   "mimetype": "text/x-python",
   "name": "python",
   "nbconvert_exporter": "python",
   "pygments_lexer": "ipython3",
   "version": "3.7.9"
  }
 },
 "nbformat": 4,
 "nbformat_minor": 5
}

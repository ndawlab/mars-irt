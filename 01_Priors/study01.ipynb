{
 "cells": [
  {
   "cell_type": "code",
   "execution_count": 1,
   "id": "fd9befba-54bb-4d92-879f-439c035c07e0",
   "metadata": {},
   "outputs": [],
   "source": [
    "import os\n",
    "import numpy as np\n",
    "import matplotlib.pyplot as plt\n",
    "import seaborn as sns\n",
    "from pandas import read_csv\n",
    "sns.set_theme(style='white', context='notebook', font_scale=1.33)"
   ]
  },
  {
   "cell_type": "markdown",
   "id": "4f203044-9882-4595-bd61-0053ca59b37b",
   "metadata": {},
   "source": [
    "## Section 1: Speed-accuracy trade-offs in Chierchia et al. (2019)"
   ]
  },
  {
   "cell_type": "code",
   "execution_count": 2,
   "id": "cccbefff-c632-415b-b4a7-1a650cfbad03",
   "metadata": {},
   "outputs": [
    {
     "name": "stdout",
     "output_type": "stream",
     "text": [
      "rho = 0.514, pval = 0.0498\n",
      "rho = 0.767, pval = 0.0005\n",
      "rho = 0.695, pval = 0.0000\n"
     ]
    }
   ],
   "source": [
    "from scipy.stats import spearmanr\n",
    "\n",
    "## Load data.\n",
    "stats = read_csv(os.path.join('data', 'study01', 'stats.csv'))\n",
    "dimension = read_csv(os.path.join('data', 'study01', 'dimensionality.csv'))\n",
    "dimension = dimension.rename(columns={'Dimensionality Score':'dimension'})\n",
    "\n",
    "## Merge data.\n",
    "stats = stats.merge(dimension).query('Group == \"total\"')\n",
    "\n",
    "for query in ['dimension == 1', 'dimension == 2', 'dimension <= 2']:\n",
    "\n",
    "    ## Restrict to easiest items.\n",
    "    df = stats.query(query)\n",
    "\n",
    "    ## Compute correlation.\n",
    "    rho, pval = spearmanr(df['N'], df['Mean.correct'])\n",
    "\n",
    "    print('rho = %0.3f, pval = %0.4f' %(rho, pval))"
   ]
  }
 ],
 "metadata": {
  "kernelspec": {
   "display_name": "Python 3",
   "language": "python",
   "name": "python3"
  },
  "language_info": {
   "codemirror_mode": {
    "name": "ipython",
    "version": 3
   },
   "file_extension": ".py",
   "mimetype": "text/x-python",
   "name": "python",
   "nbconvert_exporter": "python",
   "pygments_lexer": "ipython3",
   "version": "3.9.7"
  }
 },
 "nbformat": 4,
 "nbformat_minor": 5
}

{
 "cells": [
  {
   "cell_type": "code",
   "execution_count": 1,
   "id": "84584eb2-2d48-4f24-af2c-db10e54fd836",
   "metadata": {},
   "outputs": [],
   "source": [
    "import os\n",
    "import numpy as np\n",
    "import matplotlib.pyplot as plt\n",
    "import seaborn as sns\n",
    "from pandas import read_csv, concat\n",
    "sns.set_theme(style='white', context='notebook', font_scale=1.33)"
   ]
  },
  {
   "cell_type": "markdown",
   "id": "c777b3f7-6224-4878-a988-fe09e39a3006",
   "metadata": {},
   "source": [
    "## Section 1: Item Selection"
   ]
  },
  {
   "cell_type": "code",
   "execution_count": 2,
   "id": "327dcfec-dac2-452b-8163-83fed58347c4",
   "metadata": {},
   "outputs": [],
   "source": [
    "## Prepare study 1.\n",
    "df1 = read_csv('data/stats.csv')\n",
    "df1 = df1[df1.Group.isin(['Ad','OA','MA'])].groupby('Item').agg({'N':'sum','Mean.correct':'mean'})\n",
    "df1 = df1.rename(columns={'N':'n1','Mean.correct':'a1'})\n",
    "df1['a1'] *= 1e-2\n",
    "\n",
    "## Prepare study 2.\n",
    "df2 = read_csv('data/study02/data.csv')\n",
    "df2 = df2.groupby('item').agg({'subject':'count','accuracy':'mean'})\n",
    "df2 = df2.rename(columns={'subject':'n2','accuracy':'a2'})\n",
    "\n",
    "## Prepare study 3.\n",
    "df3 = read_csv('data/study03/data.csv')\n",
    "df3 = df3.groupby('item').agg({'subject':'count','accuracy':'mean'})\n",
    "df3 = df3.rename(columns={'subject':'n3','accuracy':'a3'})\n",
    "\n",
    "## Prepare study 4.\n",
    "df4 = read_csv('data/study04/data.csv')\n",
    "df4 = df4.groupby('item').agg({'subject':'count','accuracy':'mean'})\n",
    "df4 = df4.rename(columns={'subject':'n4','accuracy':'a4'})\n",
    "\n",
    "## Merge DataFrames.\n",
    "data = df1.merge(df2, left_index=True, right_index=True, how='outer')\n",
    "data = data.merge(df3, left_index=True, right_index=True, how='outer')\n",
    "data = data.merge(df4, left_index=True, right_index=True, how='outer')\n",
    "\n",
    "## Compute total sample.\n",
    "f = lambda x: np.average(x[['a1','a2','a3','a4']].dropna(), weights=x[['n1','n2','n3','n4']].dropna())\n",
    "data['Total'] = data.filter(regex='n').sum(axis=1)\n",
    "data['Mean'] = data.apply(f, 1)\n",
    "\n",
    "## Add dimension.\n",
    "dimension = read_csv('data/dimensionality.csv', index_col=0)\n",
    "dimension = dimension.rename(columns={'Dimensionality Score':'dimension'})\n",
    "data = data.merge(dimension, left_index=True, right_index=True, how='outer')"
   ]
  },
  {
   "cell_type": "markdown",
   "id": "84fd4ea0-31fa-4d35-80c4-6fe679ae6559",
   "metadata": {},
   "source": [
    "## Section 2: Item Order"
   ]
  },
  {
   "cell_type": "code",
   "execution_count": 3,
   "id": "8524da34-48a6-4429-9a8d-8c1f2868c8a8",
   "metadata": {},
   "outputs": [
    {
     "name": "stdout",
     "output_type": "stream",
     "text": [
      "[[ 6 19 20 22]\n",
      " [25 28 39 47]\n",
      " [49 50 51 61]\n",
      " [65 70 71 10]\n",
      " [15 11 18 13]\n",
      " [27 31 34 37]\n",
      " [56 58 62 69]\n",
      " [77 16 17 12]\n",
      " [23 40 42 53]\n",
      " [60 72 73 79]\n",
      " [80 14 26 52]\n",
      " [59 63 67 74]\n",
      " [76 36 44 46]\n",
      " [54 55 64 75]\n",
      " [21 24 29 30]\n",
      " [45 78 35 66]]\n"
     ]
    }
   ],
   "source": [
    "## Restrict to items of interest.\n",
    "exclude = [1, 2, 3, 4, 5, 7, 8, 9, 32, 33, 38, 41, 43, 48, 57, 68]\n",
    "data = data.loc[np.setdiff1d(np.arange(1,81), exclude)]\n",
    "\n",
    "## Sort items.\n",
    "data = data.sort_values(['dimension','Total'], ascending=[True, False])\n",
    "\n",
    "print(data.index.values.reshape([-1,4]))"
   ]
  }
 ],
 "metadata": {
  "kernelspec": {
   "display_name": "Python 3",
   "language": "python",
   "name": "python3"
  },
  "language_info": {
   "codemirror_mode": {
    "name": "ipython",
    "version": 3
   },
   "file_extension": ".py",
   "mimetype": "text/x-python",
   "name": "python",
   "nbconvert_exporter": "python",
   "pygments_lexer": "ipython3",
   "version": "3.7.9"
  }
 },
 "nbformat": 4,
 "nbformat_minor": 5
}

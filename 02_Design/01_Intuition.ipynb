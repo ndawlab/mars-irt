{
 "cells": [
  {
   "cell_type": "code",
   "execution_count": 1,
   "id": "218bf355-54a2-4b42-b16c-f7bc733fef5f",
   "metadata": {},
   "outputs": [],
   "source": [
    "import numpy as np\n",
    "import matplotlib.pyplot as plt\n",
    "import seaborn as sns\n",
    "from scipy.stats import pearsonr, spearmanr, norm\n",
    "from tqdm import tqdm\n",
    "\n",
    "def inv_logit(x):\n",
    "    return 1 / (1 + np.exp(-x))"
   ]
  },
  {
   "cell_type": "markdown",
   "id": "4d924f56-5257-44c2-be6b-abd8b0e9379b",
   "metadata": {},
   "source": [
    "## Intuition building"
   ]
  },
  {
   "cell_type": "code",
   "execution_count": 38,
   "id": "3c072f53-e2ff-43ce-b724-94a1600bcce4",
   "metadata": {},
   "outputs": [
    {
     "name": "stdout",
     "output_type": "stream",
     "text": [
      "SpearmanrResult(correlation=0.5074263971579254, pvalue=1.4042348633102345e-40)\n",
      "SpearmanrResult(correlation=0.5902351102859823, pvalue=1.3361884064449196e-57)\n"
     ]
    },
    {
     "data": {
      "image/png": "[encoded data removed]",
      "text/plain": [
       "<Figure size 720x288 with 4 Axes>"
      ]
     },
     "metadata": {
      "needs_background": "light"
     },
     "output_type": "display_data"
    }
   ],
   "source": [
    "from sklearn.metrics import confusion_matrix\n",
    "\n",
    "n_subj = 600\n",
    "n_item = 9\n",
    "\n",
    "J = np.repeat(np.arange(n_subj), n_item)\n",
    "K = np.tile(np.arange(n_item), n_subj)\n",
    "\n",
    "cov = [[1,0.6],[0.6,1]]\n",
    "theta, z = np.random.multivariate_normal([0,0],cov,n_subj).T\n",
    "\n",
    "alpha = np.ones(n_item) * 20\n",
    "\n",
    "fig, axes = plt.subplots(1,2,figsize=(10,4))\n",
    "\n",
    "beta = np.zeros(n_item)\n",
    "mu = inv_logit(alpha[K] * (theta[J] - beta[K])).reshape(n_subj, n_item)\n",
    "Y = np.random.binomial(1,mu)\n",
    "c_true = np.round(mu.sum(axis=1))\n",
    "c_pred = Y.sum(axis=1)\n",
    "sns.heatmap(confusion_matrix(c_true, c_pred), ax=axes[0])\n",
    "print(spearmanr(z, c_pred))\n",
    "\n",
    "beta = norm.ppf(np.linspace(0.1,0.9,n_item))\n",
    "mu = inv_logit(alpha[K] * (theta[J] - beta[K])).reshape(n_subj, n_item)\n",
    "Y = np.random.binomial(1,mu)\n",
    "c_true = np.round(mu.sum(axis=1))\n",
    "c_pred = Y.sum(axis=1)\n",
    "sns.heatmap(confusion_matrix(c_true, c_pred), ax=axes[1])\n",
    "print(spearmanr(z, c_pred))"
   ]
  },
  {
   "cell_type": "code",
   "execution_count": 39,
   "id": "1a287406-5cb1-4382-944a-04f50e76f245",
   "metadata": {},
   "outputs": [
    {
     "data": {
      "text/plain": [
       "<AxesSubplot:>"
      ]
     },
     "execution_count": 39,
     "metadata": {},
     "output_type": "execute_result"
    },
    {
     "data": {
      "image/png": "[encoded data removed]",
      "text/plain": [
       "<Figure size 432x288 with 1 Axes>"
      ]
     },
     "metadata": {
      "needs_background": "light"
     },
     "output_type": "display_data"
    }
   ],
   "source": [
    "sns.scatterplot(x=z, y=c_pred)"
   ]
  },
  {
   "cell_type": "code",
   "execution_count": 26,
   "id": "fc7366d1-5dc1-4e8b-accb-6e3641b03a8e",
   "metadata": {},
   "outputs": [],
   "source": [
    "x = np.arange(5000) % 2\n",
    "y = np.random.binomial(1, np.where(x, 0.95, 0.05))"
   ]
  },
  {
   "cell_type": "code",
   "execution_count": 27,
   "id": "105caa61-d014-4ace-9e46-d79933a27a94",
   "metadata": {},
   "outputs": [
    {
     "data": {
      "text/plain": [
       "SpearmanrResult(correlation=0.9076006534727057, pvalue=0.0)"
      ]
     },
     "execution_count": 27,
     "metadata": {},
     "output_type": "execute_result"
    }
   ],
   "source": [
    "spearmanr(x,y)"
   ]
  },
  {
   "cell_type": "markdown",
   "id": "bf29335d-b5ce-458f-a15c-c79c26776c8d",
   "metadata": {},
   "source": [
    "## Controlled Conditions"
   ]
  },
  {
   "cell_type": "markdown",
   "id": "333c7b4f-c2b1-41b8-9814-0d994798c8f7",
   "metadata": {},
   "source": [
    "#### uniform difficulty"
   ]
  },
  {
   "cell_type": "code",
   "execution_count": null,
   "id": "4ae4aada-fe64-4dd3-a53b-a7f21df0c19f",
   "metadata": {},
   "outputs": [],
   "source": [
    "rvals = np.zeros((1000,3))\n",
    "\n",
    "for i in tqdm(range(1000)):\n",
    "\n",
    "    ## Define parameters.\n",
    "    theta = np.random.normal(0,1,500)\n",
    "    beta  = np.repeat(np.linspace(-2.2, 2.2, 10), 3)\n",
    "    alpha = np.tile([0.5,1.0,1.5], beta.size)\n",
    "\n",
    "    ## Define metadata.\n",
    "    J = np.repeat(np.arange(theta.size), beta.size)\n",
    "    K = np.tile(np.arange(beta.size), theta.size)\n",
    "\n",
    "    ## Simulate data.\n",
    "    mu = inv_logit(alpha[K] * (theta[J] - beta[K]))\n",
    "    Y = np.random.binomial(1,mu).reshape(theta.size,beta.size)\n",
    "\n",
    "    ## Compute correlations.\n",
    "    for j in range(3):\n",
    "        rvals[i,j], _ = spearmanr(theta, Y[:,j::3].mean(axis=1))\n",
    "        \n",
    "for i, color in enumerate(sns.color_palette(n_colors=3).as_hex()):\n",
    "    sns.histplot(rvals[:,i], color=color)"
   ]
  },
  {
   "cell_type": "markdown",
   "id": "aff52898-891b-4cb6-bf01-7b0675f77c02",
   "metadata": {},
   "source": [
    "#### normally distributed difficulty"
   ]
  },
  {
   "cell_type": "code",
   "execution_count": null,
   "id": "70fe0256-0e2c-426c-ac19-f4d66b34a9b7",
   "metadata": {},
   "outputs": [],
   "source": [
    "rvals = np.zeros((1000,3))\n",
    "\n",
    "for i in tqdm(range(1000)):\n",
    "\n",
    "    ## Define parameters.\n",
    "    theta = np.random.normal(0,1,500)\n",
    "    beta  = np.repeat(norm.ppf(np.linspace(0.025,0.975,10)), 3)\n",
    "    alpha = np.tile([0.5,1.0,1.5], beta.size)\n",
    "\n",
    "    ## Define metadata.\n",
    "    J = np.repeat(np.arange(theta.size), beta.size)\n",
    "    K = np.tile(np.arange(beta.size), theta.size)\n",
    "\n",
    "    ## Simulate data.\n",
    "    mu = inv_logit(alpha[K] * (theta[J] - beta[K]))\n",
    "    Y = np.random.binomial(1,mu).reshape(theta.size,beta.size)\n",
    "\n",
    "    ## Compute correlations.\n",
    "    for j in range(3):\n",
    "        rvals[i,j], _ = spearmanr(theta, Y[:,j::3].mean(axis=1))\n",
    "        \n",
    "for i, color in enumerate(sns.color_palette(n_colors=3).as_hex()):\n",
    "    sns.histplot(rvals[:,i], color=color)"
   ]
  },
  {
   "cell_type": "markdown",
   "id": "0c63b88c-7e25-4b80-ad8a-78a405c7dae6",
   "metadata": {},
   "source": [
    "## Random discriminations "
   ]
  },
  {
   "cell_type": "markdown",
   "id": "b5bd053b-684e-41b2-a5a4-5f35e14866c5",
   "metadata": {},
   "source": [
    "#### uniform difficulty"
   ]
  },
  {
   "cell_type": "code",
   "execution_count": null,
   "id": "e944e040-9a5c-46b1-b276-e3e4e9f8ac66",
   "metadata": {},
   "outputs": [],
   "source": [
    "rvals = np.zeros((1000,3))\n",
    "\n",
    "for i in tqdm(range(1000)):\n",
    "\n",
    "    ## Define parameters.\n",
    "    theta = np.random.normal(0,1,500)\n",
    "    beta  = np.repeat(np.linspace(-2.2, 2.2, 10), 3)\n",
    "    alpha = np.exp(np.random.normal(0, 0.33, beta.size))\n",
    "    alpha = np.sort(alpha.reshape(10,3), axis=1).flatten()\n",
    "    \n",
    "    ## Define metadata.\n",
    "    J = np.repeat(np.arange(theta.size), beta.size)\n",
    "    K = np.tile(np.arange(beta.size), theta.size)\n",
    "\n",
    "    ## Simulate data.\n",
    "    mu = inv_logit(alpha[K] * (theta[J] - beta[K]))\n",
    "    Y = np.random.binomial(1,mu).reshape(theta.size,beta.size)\n",
    "\n",
    "    ## Compute correlations.\n",
    "    for j in range(3):\n",
    "        rvals[i,j], _ = spearmanr(theta, Y[:,j::3].mean(axis=1))\n",
    "        \n",
    "for i, color in enumerate(sns.color_palette(n_colors=3).as_hex()):\n",
    "    sns.histplot(rvals[:,i], color=color)"
   ]
  },
  {
   "cell_type": "markdown",
   "id": "76bb020d-773d-4aa4-a23a-7fd08975ca18",
   "metadata": {},
   "source": [
    "#### normally distributed difficulty"
   ]
  },
  {
   "cell_type": "code",
   "execution_count": null,
   "id": "3cc68844-582b-4f21-bfb5-7ee9d1298542",
   "metadata": {},
   "outputs": [],
   "source": [
    "rvals = np.zeros((1000,3))\n",
    "\n",
    "for i in tqdm(range(1000)):\n",
    "\n",
    "    ## Define parameters.\n",
    "    theta = np.random.normal(0,1,500)\n",
    "    beta  = np.repeat(norm.ppf(np.linspace(0.025,0.975,10)), 3)\n",
    "    alpha = np.exp(np.random.normal(0, 0.33, beta.size))\n",
    "    alpha = np.sort(alpha.reshape(10,3), axis=1).flatten()\n",
    "    \n",
    "    ## Define metadata.\n",
    "    J = np.repeat(np.arange(theta.size), beta.size)\n",
    "    K = np.tile(np.arange(beta.size), theta.size)\n",
    "\n",
    "    ## Simulate data.\n",
    "    mu = inv_logit(alpha[K] * (theta[J] - beta[K]))\n",
    "    Y = np.random.binomial(1,mu).reshape(theta.size,beta.size)\n",
    "\n",
    "    ## Compute correlations.\n",
    "    for j in range(3):\n",
    "        rvals[i,j], _ = spearmanr(theta, Y[:,j::3].mean(axis=1))\n",
    "        \n",
    "for i, color in enumerate(sns.color_palette(n_colors=3).as_hex()):\n",
    "    sns.histplot(rvals[:,i], color=color)"
   ]
  },
  {
   "cell_type": "markdown",
   "id": "80528447-cdb6-4310-9b8b-6f3f9ff960c4",
   "metadata": {},
   "source": [
    "## number of items"
   ]
  },
  {
   "cell_type": "code",
   "execution_count": null,
   "id": "fbda3732-1535-4c7f-9e25-fee19904ba66",
   "metadata": {},
   "outputs": [],
   "source": [
    "rvals = np.zeros((1000,3))\n",
    "\n",
    "for i in tqdm(range(1000)):\n",
    "\n",
    "    ## Define parameters.\n",
    "    theta = np.random.normal(0,1,500)\n",
    "    beta  = np.repeat(norm.ppf(np.linspace(0.025,0.975,9)), 3)\n",
    "    alpha = np.exp(np.random.normal(0, 0.5, beta.size))\n",
    "    alpha = np.sort(alpha.reshape(-1,3), axis=1).flatten()\n",
    "    \n",
    "    ## Define metadata.\n",
    "    J = np.repeat(np.arange(theta.size), beta.size)\n",
    "    K = np.tile(np.arange(beta.size), theta.size)\n",
    "\n",
    "    ## Simulate data.\n",
    "    mu = inv_logit(alpha[K] * (theta[J] - beta[K]))\n",
    "    Y = np.random.binomial(1,mu).reshape(theta.size,beta.size)\n",
    "\n",
    "    ## Compute correlations.\n",
    "    for j in range(3):\n",
    "        rvals[i,j], _ = spearmanr(theta, Y[:,j::3].mean(axis=1))\n",
    "        \n",
    "for i, color in enumerate(sns.color_palette(n_colors=3).as_hex()):\n",
    "    sns.histplot(rvals[:,i], color=color)"
   ]
  },
  {
   "cell_type": "code",
   "execution_count": null,
   "id": "db68f8c2-eb9e-4fb6-a655-aa7ee80316a0",
   "metadata": {},
   "outputs": [],
   "source": [
    "alpha.shape"
   ]
  },
  {
   "cell_type": "code",
   "execution_count": null,
   "id": "586a0723-9ee6-465d-98e8-71e3814b130e",
   "metadata": {},
   "outputs": [],
   "source": []
  }
 ],
 "metadata": {
  "kernelspec": {
   "display_name": "Python 3",
   "language": "python",
   "name": "python3"
  },
  "language_info": {
   "codemirror_mode": {
    "name": "ipython",
    "version": 3
   },
   "file_extension": ".py",
   "mimetype": "text/x-python",
   "name": "python",
   "nbconvert_exporter": "python",
   "pygments_lexer": "ipython3",
   "version": "3.7.9"
  }
 },
 "nbformat": 4,
 "nbformat_minor": 5
}
